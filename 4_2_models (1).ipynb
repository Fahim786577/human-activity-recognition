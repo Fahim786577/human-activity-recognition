{
  "cells": [
    {
      "cell_type": "code",
      "execution_count": null,
      "metadata": {
        "id": "fZ0UhpMFF-3p"
      },
      "outputs": [],
      "source": [
        "import tensorflow as tf\n",
        "import tensorflow.keras as keras\n",
        "from tensorflow.keras.models import Sequential\n",
        "from tensorflow.keras.layers import Dense, Dropout, Activation, Flatten,Input,InputLayer,Reshape,GRU,LSTM,Concatenate\n",
        "from tensorflow.keras.layers import TimeDistributed\n",
        "from tensorflow.keras.layers import Bidirectional\n",
        "from tensorflow.keras.layers import BatchNormalization\n",
        "from tensorflow.keras import models,Model\n",
        "from tensorflow.keras.utils import to_categorical\n",
        "from tensorflow.keras import backend as K\n",
        "from tensorflow.keras.layers import Conv2D, MaxPooling2D\n",
        "from tensorflow.keras.layers import Conv1D, MaxPooling1D, Conv2D, MaxPooling2D, Conv2DTranspose, UpSampling2D,GlobalAveragePooling2D\n",
        "import pickle\n",
        "import numpy as np\n",
        "from numpy.fft import fft"
      ]
    },
    {
      "cell_type": "code",
      "execution_count": null,
      "metadata": {
        "colab": {
          "base_uri": "https://localhost:8080/"
        },
        "id": "D63prLqiGRa1",
        "outputId": "d1db7111-7f05-4b13-edcd-5cab135462f3"
      },
      "outputs": [
        {
          "output_type": "stream",
          "name": "stdout",
          "text": [
            "Mounted at /content/drive\n"
          ]
        }
      ],
      "source": [
        "from google.colab import drive\n",
        "drive.mount('/content/drive')"
      ]
    },
    {
      "cell_type": "code",
      "execution_count": null,
      "metadata": {
        "id": "ny2-cx5TGVR9"
      },
      "outputs": [],
      "source": [
        "def recall_m(y_true, y_pred):\n",
        "    true_positives = K.sum(K.round(K.clip(y_true * y_pred, 0, 1)))\n",
        "    possible_positives = K.sum(K.round(K.clip(y_true, 0, 1)))\n",
        "    recall = true_positives / (possible_positives + K.epsilon())\n",
        "    return recall\n",
        "\n",
        "def precision_m(y_true, y_pred):\n",
        "    true_positives = K.sum(K.round(K.clip(y_true * y_pred, 0, 1)))\n",
        "    predicted_positives = K.sum(K.round(K.clip(y_pred, 0, 1)))\n",
        "    precision = true_positives / (predicted_positives + K.epsilon())\n",
        "    return precision\n",
        "\n",
        "def f1_m(y_true, y_pred):\n",
        "    precision = precision_m(y_true, y_pred)\n",
        "    recall = recall_m(y_true, y_pred)\n",
        "    return 2*((precision*recall)/(precision+recall+K.epsilon()))"
      ]
    },
    {
      "cell_type": "markdown",
      "metadata": {
        "id": "OaTc0nypHJ-q"
      },
      "source": [
        "# Models\n",
        "\n",
        "\n",
        "\n",
        "1.   LSTM_CNN_SANDWICH\n",
        "2.   LSTM_CNN\n",
        "3.   ConvLSTM_PARALLEL\n",
        "4.   LSTM_CNN_PARALLEL\n",
        "5.   GRU_CNN\n",
        "6.   CNN_GRU\n",
        "\n",
        "\n",
        "\n",
        "\n",
        "\n"
      ]
    },
    {
      "cell_type": "code",
      "execution_count": null,
      "metadata": {
        "id": "9K2zXgAIG1PR"
      },
      "outputs": [],
      "source": [
        "def LSTM_CNN_SANDWICH(input_shape,output_shape):\n",
        "    #K.set_image_data_format('channels_last')\n",
        "    n_outputs = output_shape\n",
        "    input_shape = input_shape\n",
        "    \n",
        "    input           = Input(shape=input_shape)\n",
        "    lstm_1          = Bidirectional(LSTM(32,return_sequences=True))(input)\n",
        "    activation_1    = Activation(\"relu\")(lstm_1)\n",
        "    reshape_layer_1 = Reshape((activation_1.shape[1],activation_1.shape[2],1))(activation_1)\n",
        "    cnn_1           = Conv2D(64, (5,1), strides=(2,1), activation='relu')(reshape_layer_1)\n",
        "    max_pool_1      = MaxPooling2D((2,1), strides=(2,1))(cnn_1)\n",
        "    cnn_1_2         = Conv2D(32, (5,1), strides=(2,1), activation='relu')(max_pool_1)\n",
        "    max_pool_1_2    = MaxPooling2D((2,1), strides=(2,1))(cnn_1_2)\n",
        "    batch_norm_1    = BatchNormalization()(max_pool_1_2)\n",
        "\n",
        "    reshape_layer_2 = Reshape((-1,cnn_1.shape[3]))(batch_norm_1)\n",
        "    lstm_2          = Bidirectional(LSTM(32,return_sequences=True))(reshape_layer_2)\n",
        "    activation_2    = Activation(\"relu\")(lstm_2)\n",
        "    reshape_layer_3 = Reshape((activation_2.shape[1],activation_2.shape[2],1))(activation_2)\n",
        "    cnn_2           = Conv2D(64, (5,1), strides=(2,1), activation='relu')(reshape_layer_3)\n",
        "    max_pool_2      = MaxPooling2D((2,1), strides=(2,1))(cnn_2)\n",
        "    cnn_2_2         = Conv2D(32, (5,1), strides=(2,1), activation='relu')(max_pool_2)\n",
        "    max_pool_2_2    = MaxPooling2D((2,1), strides=(2,1))(cnn_2_2)\n",
        "    batch_norm_2    = BatchNormalization()(max_pool_2_2)\n",
        "\n",
        "    global_avg      = GlobalAveragePooling2D()(batch_norm_2)\n",
        "\n",
        "    dense           = Dense(n_outputs)(global_avg)\n",
        "    activation_3    = Activation(\"softmax\")(dense)\n",
        "\n",
        "    model = Model(inputs = input, outputs= activation_3)\n",
        "    #model.summary()\n",
        "\n",
        "    rmsprop = tf.keras.optimizers.RMSprop(learning_rate=0.0001)\n",
        "\n",
        "    model.compile(optimizer=rmsprop, loss='categorical_crossentropy', metrics=['accuracy',f1_m,precision_m,recall_m])\n",
        "\n",
        "    return model"
      ]
    },
    {
      "cell_type": "code",
      "execution_count": null,
      "metadata": {
        "id": "Ya-VdrQlHmKw"
      },
      "outputs": [],
      "source": [
        "def LSTM_CNN(input_shape=None,n_outputs=None):\n",
        "    \n",
        "    #K.set_image_data_format('channels_last')\n",
        "    n_outputs = n_outputs\n",
        "    input_shape = input_shape\n",
        "    input           = Input(shape=input_shape)\n",
        "\n",
        "    lstm_1          = Bidirectional(LSTM(32,return_sequences=True))(input)\n",
        "    activation_1    = Activation(\"relu\")(lstm_1)\n",
        "    lstm_2          = Bidirectional(LSTM(32,return_sequences=True))(activation_1)\n",
        "    activation_2    = Activation(\"relu\")(lstm_2)\n",
        "\n",
        "    reshape_layer_1 = Reshape((lstm_2.shape[1],lstm_2.shape[2],1))(activation_2)\n",
        "    \n",
        "    cnn_1           = Conv2D(64, (5,5), strides=(2,2), activation='relu')(reshape_layer_1)\n",
        "    max_pool_1      = MaxPooling2D((2,2), strides=(2,2))(cnn_1)\n",
        "    cnn_2           = Conv2D(128, (3,3), strides=(1,1), activation='relu')(max_pool_1)\n",
        "    global_avg      = GlobalAveragePooling2D()(cnn_2)\n",
        "    dense           = Dense(n_outputs,activation='softmax',kernel_regularizer=keras.regularizers.l2(0.005))(global_avg)\n",
        "\n",
        "    model = Model(inputs = input, outputs= dense)\n",
        "    #model.summary()\n",
        "\n",
        "    rmsprop = tf.keras.optimizers.RMSprop(learning_rate=0.001)\n",
        "\n",
        "    model.compile(optimizer=rmsprop, loss='categorical_crossentropy', metrics=['accuracy',f1_m,precision_m,recall_m])\n",
        "    \n",
        "    \n",
        "    return model"
      ]
    },
    {
      "cell_type": "code",
      "execution_count": null,
      "metadata": {
        "id": "fDgRrxozH5E-"
      },
      "outputs": [],
      "source": [
        "def ConvLSTM_PARALLEL(input_shape=None,n_outputs=None):\n",
        "    \n",
        "    #K.set_image_data_format('channels_last')\n",
        "    input_shape = input_shape\n",
        "    input           = Input(shape=input_shape)\n",
        "\n",
        "    lstm_1          = Bidirectional(LSTM(32,return_sequences=True,activation='relu'))(input)\n",
        "    activation_1    = Activation(\"relu\")(lstm_1)\n",
        "    lstm_2          = Bidirectional(LSTM(32,return_sequences=True,activation ='relu'))(activation_1)\n",
        "    activation_2    = Activation(\"relu\")(lstm_2)\n",
        "    reshape_layer_1 = Reshape((lstm_2.shape[1],lstm_2.shape[2],1))(activation_2)\n",
        "    \n",
        "    cnn_1           = Conv2D(64, (5,5), strides=(2,2), activation='relu')(reshape_layer_1)\n",
        "    max_pool_1      = MaxPooling2D((2,2), strides=(2,2))(cnn_1)\n",
        "    cnn_2           = Conv2D(128, (3,3), strides=(1,1), activation='relu')(max_pool_1)\n",
        "    global_avg      = GlobalAveragePooling2D()(cnn_2)\n",
        "    flatten         = Flatten()(global_avg)\n",
        "\n",
        "    reshape_2         = Reshape((input.shape[1],input.shape[2],1))(input)\n",
        "    cnn_1_2           = Conv2D(64, (5,5), strides=(2,2), activation='relu')(reshape_2)\n",
        "    #max_pool_1_2     = MaxPooling2D((2,2), strides=(2,2))(cnn_1_2)\n",
        "    cnn_2_2           = Conv2D(128, (3,3), strides=(1,1), activation='relu')(cnn_1_2)\n",
        "    global_avg_2      = GlobalAveragePooling2D()(cnn_2_2)\n",
        "\n",
        "    reshape_layer_1_2 = Reshape((global_avg_2.shape[-1],1))(global_avg_2)\n",
        "    lstm_1_2          = Bidirectional(LSTM(32,return_sequences=True,activation='relu'))(reshape_layer_1_2)\n",
        "    activation_1_2    = Activation(\"relu\")(lstm_1_2)\n",
        "    lstm_2_2          = Bidirectional(LSTM(32,return_sequences=True,activation ='relu'))(activation_1_2)\n",
        "    activation_2_2    = Activation(\"relu\")(lstm_2_2)\n",
        "    flatten_2         = Flatten()(activation_2_2)\n",
        "\n",
        "    concatenate       = Concatenate()([flatten,flatten_2])\n",
        "    dense             = Dense(n_outputs,activation='softmax',kernel_regularizer=keras.regularizers.l2(0.005))(concatenate)\n",
        "\n",
        "\n",
        "\n",
        "    model = Model(inputs = input, outputs= dense)\n",
        "    #model.summary()\n",
        "\n",
        "    rmsprop = tf.keras.optimizers.RMSprop(learning_rate=0.0001)\n",
        "\n",
        "    model.compile(optimizer=rmsprop, loss='categorical_crossentropy', metrics=['accuracy',f1_m,precision_m,recall_m])\n",
        "    \n",
        "    \n",
        "    return model\n"
      ]
    },
    {
      "cell_type": "code",
      "execution_count": null,
      "metadata": {
        "id": "N0WB_Uf2H-PE"
      },
      "outputs": [],
      "source": [
        "def LSTM_CNN_PARALLEL(input_shape=None,n_outputs=None):\n",
        "    \n",
        "    #K.set_image_data_format('channels_last')\n",
        "    input_shape = input_shape\n",
        "    input           = Input(shape=input_shape)\n",
        "\n",
        "    lstm_1          = Bidirectional(LSTM(32,return_sequences=True,activation='relu'))(input)\n",
        "    activation_1    = Activation(\"relu\")(lstm_1)\n",
        "    lstm_2          = Bidirectional(LSTM(32,return_sequences=True,activation ='relu'))(activation_1)\n",
        "    activation_2    = Activation(\"relu\")(lstm_2)\n",
        "    flatten         = Flatten()(activation_2)\n",
        "\n",
        "    reshape_2         = Reshape((input.shape[1],input.shape[2],1))(input)\n",
        "    cnn_1_2           = Conv2D(64, (5,5), strides=(2,2), activation='relu')(reshape_2)\n",
        "    #max_pool_1_2     = MaxPooling2D((2,2), strides=(2,2))(cnn_1_2)\n",
        "    cnn_2_2           = Conv2D(128, (3,3), strides=(1,1), activation='relu')(cnn_1_2)\n",
        "    global_avg_2      = GlobalAveragePooling2D()(cnn_2_2)\n",
        "\n",
        "    flatten_2         = Flatten()(global_avg_2)\n",
        "\n",
        "    concatenate       = Concatenate()([flatten,flatten_2])\n",
        "    dense             = Dense(n_outputs,activation='softmax',kernel_regularizer=keras.regularizers.l2(0.005))(concatenate)\n",
        "\n",
        "\n",
        "\n",
        "    model = Model(inputs = input, outputs= dense)\n",
        "    #model.summary()\n",
        "\n",
        "    rmsprop = tf.keras.optimizers.RMSprop(learning_rate=0.0001)\n",
        "\n",
        "    model.compile(optimizer=rmsprop, loss='categorical_crossentropy', metrics=['accuracy',f1_m,precision_m,recall_m])\n",
        "    \n",
        "    \n",
        "    return model"
      ]
    },
    {
      "cell_type": "code",
      "execution_count": null,
      "metadata": {
        "id": "c28_57GAI1b2"
      },
      "outputs": [],
      "source": [
        "def GRU_CNN(input_shape,output_shape):\n",
        "    #K.set_image_data_format('channels_last')\n",
        "    \n",
        "    n_outputs = output_shape\n",
        "    input_shape = input_shape\n",
        "    \n",
        "    input = Input(shape = input_shape)\n",
        "    gru_1 = GRU(32, return_sequences = True, activation = 'relu')(input)\n",
        "    gru_2 = GRU(32, return_sequences = True, activation = 'relu')(gru_1)\n",
        "    rehsape_layer_1 = Reshape((gru_2.shape[1],gru_2.shape[2],1))(gru_2)\n",
        "    cnn_1 = Conv2D(64, (5,5), strides=(2,2), activation='relu')(rehsape_layer_1)\n",
        "    max_pool_1 = MaxPooling2D((2,2), strides=(2,2)) (cnn_1)\n",
        "    cnn_2 = Conv2D(128, (3,3), strides=(1,1), activation='relu')(max_pool_1)\n",
        "\n",
        "    global_avg = GlobalAveragePooling2D()(cnn_2)\n",
        "    batch_norm = BatchNormalization()(global_avg)\n",
        "\n",
        "    dense = Dense(n_outputs,activation ='softmax') (batch_norm)\n",
        "\n",
        "    model = Model(inputs = input,outputs = dense)\n",
        "    #model.summary()\n",
        "    rmsprop=tf.keras.optimizers.RMSprop(learning_rate=0.001)\n",
        "    model.compile(optimizer=rmsprop, loss='categorical_crossentropy', metrics=['accuracy',f1_m,precision_m,recall_m])\n",
        "\n",
        "    return model"
      ]
    },
    {
      "cell_type": "code",
      "execution_count": null,
      "metadata": {
        "id": "cr-674lDI-cv"
      },
      "outputs": [],
      "source": [
        "def CNN_GRU(input_shape,output_shape):\n",
        "    #K.set_image_data_format('channels_last')\n",
        "    \n",
        "    n_outputs = output_shape\n",
        "    input_shape = input_shape\n",
        "    \n",
        "    input   = Input(shape=input_shape)\n",
        "    reshape_layer = Reshape((input.shape[1],input.shape[2],1)) (input)\n",
        "    cnn_1         = Conv2D(128, (5,1), strides=(1,1), activation='relu') (reshape_layer)\n",
        "    max_pool_1    = MaxPooling2D((2,1)) (cnn_1)\n",
        "    cnn_2         = Conv2D(64, (3,1), strides=(1,1), activation='relu') (max_pool_1)\n",
        "    max_pool_2    = MaxPooling2D((2,1)) (cnn_2)\n",
        "    cnn_3         = Conv2D(32, (3,2), strides=(1,1), activation='relu') (max_pool_2)\n",
        "    max_pool_3    = MaxPooling2D((2,1)) (cnn_3)\n",
        "    batch_norm    = BatchNormalization()(max_pool_3)\n",
        "\n",
        "    reshape_layer_2 = Reshape((-1,batch_norm.shape[3]))(batch_norm)\n",
        "    gru_1 = GRU(32, return_sequences = True, activation = 'relu')(reshape_layer_2)\n",
        "    gru_2 = GRU(32, activation = 'relu')(gru_1)\n",
        "\n",
        "    #global_avg = GlobalAveragePooling2D()(gru_2)\n",
        "    batch_norm = BatchNormalization()(gru_2)\n",
        "\n",
        "    dense = Dense(n_outputs,activation ='softmax') (batch_norm)\n",
        "\n",
        "    model = Model(inputs = input,outputs = dense)\n",
        "\n",
        "    #model.summary()\n",
        "\n",
        "    rmsprop=tf.keras.optimizers.RMSprop(learning_rate=0.001)\n",
        "    model.compile(optimizer=rmsprop, loss='categorical_crossentropy', metrics=['accuracy',f1_m,precision_m,recall_m])\n",
        "    \n",
        "    return model"
      ]
    },
    {
      "cell_type": "code",
      "execution_count": null,
      "metadata": {
        "id": "Ctn_ilqsJNfa"
      },
      "outputs": [],
      "source": [
        "model_list = [LSTM_CNN_SANDWICH,LSTM_CNN,ConvLSTM_PARALLEL,LSTM_CNN_PARALLEL,GRU_CNN,CNN_GRU]\n",
        "model_name = ['LSTM_CNN_SANDWICH','LSTM_CNN','ConvLSTM_PARALLEL','LSTM_CNN_PARALLEL','GRU_CNN','CNN_GRU']"
      ]
    },
    {
      "cell_type": "markdown",
      "source": [
        "# Data Section"
      ],
      "metadata": {
        "id": "fI6ZhgPLS3ky"
      }
    },
    {
      "cell_type": "code",
      "source": [
        "def getTrainingData(filepath):\n",
        "  testX=pickle.load(open(filepath[0],\"rb\"))\n",
        "  testY=pickle.load(open(filepath[1],\"rb\"))\n",
        "\n",
        "  trainX=pickle.load(open(filepath[2],\"rb\"))   \n",
        "  trainY=pickle.load(open(filepath[3],\"rb\"))\n",
        "\n",
        "  valX = pickle.load(open(filepath[4],\"rb\"))\n",
        "  valY = pickle.load(open(filepath[5],\"rb\"))\n",
        "\n",
        "  testY  = testY-1\n",
        "  trainY = trainY-1\n",
        "  valY   = valY-1\n",
        "  testY  = to_categorical(testY)\n",
        "  trainY = to_categorical(trainY)\n",
        "  valY   = to_categorical(valY)\n",
        "\n",
        "  #FFT of X data\n",
        "  #print(\"1----\",UCItrainX.shape,UCItestX.shape,UCIvalX.shape)\n",
        "  trainX = np.transpose(trainX,(0,2,1))\n",
        "  testX  = np.transpose(testX,(0,2,1))\n",
        "  valFFTX   = np.transpose(valX,(0,2,1))\n",
        "\n",
        "  #print(\"2----\",UCItrainX.shape,UCItestX.shape,valFFTX.shape)\n",
        "  trainFFT = np.abs(fft(trainX))\n",
        "  testFFT  = np.abs(fft(testX))\n",
        "  valFFT   = np.abs(fft(valFFTX))\n",
        "\n",
        "  trainX_FFT = np.transpose(trainFFT,(0,2,1))\n",
        "  testX_FFT  = np.transpose(testFFT,(0,2,1))\n",
        "  valX_FFT   = np.transpose(valFFT,(0,2,1))\n",
        "  #print(\"3----\",trainX_FFT.shape,testX_FFT.shape,valX_FFT.shape)\n",
        "\n",
        "  #Half portion of the fft data taken\n",
        "  half_trainFFT = np.delete(trainX_FFT,np.arange(64,128),axis=1)\n",
        "  half_testFFT  = np.delete(testX_FFT,np.arange(64,128),axis=1)\n",
        "  half_valFFT   = np.delete(valX_FFT,np.arange(64,128),axis=1)\n",
        "\n",
        "  return half_trainFFT,trainY,half_testFFT,testY,half_valFFT,valY"
      ],
      "metadata": {
        "id": "WScu9Wtr6Zk8"
      },
      "execution_count": null,
      "outputs": []
    },
    {
      "cell_type": "code",
      "source": [
        "UCI = [\"/content/drive/MyDrive/Datasets/UCI_HAPT_DATASET/UCI_ALL_testX\",\"/content/drive/MyDrive/Datasets/UCI_HAPT_DATASET/UCI_ALL_testY\",\n",
        "       \"/content/drive/MyDrive/Datasets/UCI_HAPT_DATASET/UCI_ALL_trainX\",\"/content/drive/MyDrive/Datasets/UCI_HAPT_DATASET/UCI_ALL_trainY\",\n",
        "       \"/content/drive/MyDrive/Datasets/UCI_HAPT_DATASET/UCI_ALL_valX\",\"/content/drive/MyDrive/Datasets/UCI_HAPT_DATASET/UCI_ALL_valY\"]\n",
        "\n",
        "RealWorld = [\"/content/drive/MyDrive/Datasets/Real_world_Dataset/RW_SMALL_testX\",\"/content/drive/MyDrive/Datasets/Real_world_Dataset/RW_SMALL_testY\",\n",
        "       \"/content/drive/MyDrive/Datasets/Real_world_Dataset/RW_SMALL_trainX\",\"/content/drive/MyDrive/Datasets/Real_world_Dataset/RW_SMALL_trainY\",\n",
        "       \"/content/drive/MyDrive/Datasets/Real_world_Dataset/RW_SMALL_valX\",\"/content/drive/MyDrive/Datasets/Real_world_Dataset/RW_SMALL_valY\"] \n",
        "\n",
        "WISDM = [\"/content/drive/MyDrive/Datasets/WISDM_Dataset/WISDM_testX\",\"/content/drive/MyDrive/Datasets/WISDM_Dataset/WISDM_testY\",\n",
        "       \"/content/drive/MyDrive/Datasets/WISDM_Dataset/WISDM_trainX\",\"/content/drive/MyDrive/Datasets/WISDM_Dataset/WISDM_trainY\",\n",
        "       \"/content/drive/MyDrive/Datasets/WISDM_Dataset/WISDM_valX\",\"/content/drive/MyDrive/Datasets/WISDM_Dataset/WISDM_valY\"] \n"
      ],
      "metadata": {
        "id": "npd7m7PA95YO"
      },
      "execution_count": null,
      "outputs": []
    },
    {
      "cell_type": "code",
      "source": [
        "UCIhalf_trainFFT,UCItrainY,UCIhalf_testFFT,UCItestY,UCIhalf_valFFT,UCIvalY = getTrainingData(UCI)\n",
        "RealWorldhalf_trainFFT,RealWorldtrainY,RealWorldhalf_testFFT,RealWorldtestY,RealWorldhalf_valFFT,RealWorldvalY = getTrainingData(RealWorld)\n",
        "WISDMhalf_trainFFT,WISDMtrainY,WISDMhalf_testFFT,WISDMtestY,WISDMhalf_valFFT,WISDMvalY = getTrainingData(WISDM)"
      ],
      "metadata": {
        "id": "Fq1vWjJ39nFt"
      },
      "execution_count": null,
      "outputs": []
    },
    {
      "cell_type": "code",
      "execution_count": null,
      "metadata": {
        "colab": {
          "base_uri": "https://localhost:8080/"
        },
        "id": "ayBBffzSYgL9",
        "outputId": "d33683e6-451b-499d-8815-ab5ed1848e01"
      },
      "outputs": [
        {
          "output_type": "stream",
          "name": "stdout",
          "text": [
            "UCI----- (8618, 64, 9) (8618, 12) (2172, 64, 9) (2172, 12) (1356, 64, 9) (1356, 12)\n",
            "RealWorld----- (11285, 64, 9) (11285, 5) (4585, 64, 9) (4585, 5) (4571, 64, 9) (4571, 5)\n",
            "WISDM----- (24160, 64, 3) (24160, 5) (8331, 64, 3) (8331, 5) (9815, 64, 3) (9815, 5)\n"
          ]
        }
      ],
      "source": [
        "print(\"UCI-----\",UCIhalf_trainFFT.shape,UCItrainY.shape,UCIhalf_testFFT.shape,UCItestY.shape,UCIhalf_valFFT.shape,UCIvalY.shape)\n",
        "print(\"RealWorld-----\",RealWorldhalf_trainFFT.shape,RealWorldtrainY.shape,RealWorldhalf_testFFT.shape,RealWorldtestY.shape,RealWorldhalf_valFFT.shape,RealWorldvalY.shape)\n",
        "print(\"WISDM-----\",WISDMhalf_trainFFT.shape,WISDMtrainY.shape,WISDMhalf_testFFT.shape,WISDMtestY.shape,WISDMhalf_valFFT.shape,WISDMvalY.shape)"
      ]
    },
    {
      "cell_type": "code",
      "source": [
        "InputShape = UCIhalf_trainFFT.shape[1:]\n",
        "UCIoutputs = UCItrainY.shape[1]\n",
        "RealWorldoutputs = RealWorldtrainY.shape[1]\n",
        "WISDMoutputs = WISDMtrainY.shape[1]\n",
        "#print(InputShape)\n",
        "#print(UCIoutputs)\n",
        "#print(RealWorldoutputs)\n",
        "#print(WISDMoutputs)"
      ],
      "metadata": {
        "id": "lGAhjrPSBnzY"
      },
      "execution_count": null,
      "outputs": []
    },
    {
      "cell_type": "markdown",
      "source": [
        "# Model definition"
      ],
      "metadata": {
        "id": "9Z8AKfc1Bd7-"
      }
    },
    {
      "cell_type": "code",
      "execution_count": null,
      "metadata": {
        "id": "j9uspTO5atpK"
      },
      "outputs": [],
      "source": [
        "UCIDatamodel = model_list[0](InputShape,UCIoutputs)\n",
        "RealWorldDatamodel = model_list[0](InputShape,RealWorldoutputs)\n",
        "WISDMDatamodel = model_list[0](InputShape,WISDMoutputs)"
      ]
    },
    {
      "cell_type": "code",
      "source": [
        "#UCImodels = dict(zip(model_name,model_list))\n",
        "UCImodels = {key: value(InputShape,UCIoutputs) for (key, value) in zip(model_name,model_list)}\n",
        "RealWorldmodels = {key: value(InputShape,RealWorldoutputs) for (key, value) in zip(model_name,model_list)}\n",
        "WISDMmodels = {key: value(InputShape,WISDMoutputs) for (key, value) in zip(model_name,model_list)}"
      ],
      "metadata": {
        "id": "HFIbkD_jUozK",
        "colab": {
          "base_uri": "https://localhost:8080/"
        },
        "outputId": "ac043c65-01a6-47b0-87d3-6486701b12b4"
      },
      "execution_count": null,
      "outputs": [
        {
          "output_type": "stream",
          "name": "stdout",
          "text": [
            "WARNING:tensorflow:Layer lstm_4 will not use cuDNN kernels since it doesn't meet the criteria. It will use a generic GPU kernel as fallback when running on GPU.\n",
            "WARNING:tensorflow:Layer lstm_4 will not use cuDNN kernels since it doesn't meet the criteria. It will use a generic GPU kernel as fallback when running on GPU.\n",
            "WARNING:tensorflow:Layer lstm_4 will not use cuDNN kernels since it doesn't meet the criteria. It will use a generic GPU kernel as fallback when running on GPU.\n",
            "WARNING:tensorflow:Layer lstm_5 will not use cuDNN kernels since it doesn't meet the criteria. It will use a generic GPU kernel as fallback when running on GPU.\n",
            "WARNING:tensorflow:Layer lstm_5 will not use cuDNN kernels since it doesn't meet the criteria. It will use a generic GPU kernel as fallback when running on GPU.\n",
            "WARNING:tensorflow:Layer lstm_5 will not use cuDNN kernels since it doesn't meet the criteria. It will use a generic GPU kernel as fallback when running on GPU.\n",
            "WARNING:tensorflow:Layer lstm_6 will not use cuDNN kernels since it doesn't meet the criteria. It will use a generic GPU kernel as fallback when running on GPU.\n",
            "WARNING:tensorflow:Layer lstm_6 will not use cuDNN kernels since it doesn't meet the criteria. It will use a generic GPU kernel as fallback when running on GPU.\n",
            "WARNING:tensorflow:Layer lstm_6 will not use cuDNN kernels since it doesn't meet the criteria. It will use a generic GPU kernel as fallback when running on GPU.\n",
            "WARNING:tensorflow:Layer lstm_7 will not use cuDNN kernels since it doesn't meet the criteria. It will use a generic GPU kernel as fallback when running on GPU.\n",
            "WARNING:tensorflow:Layer lstm_7 will not use cuDNN kernels since it doesn't meet the criteria. It will use a generic GPU kernel as fallback when running on GPU.\n",
            "WARNING:tensorflow:Layer lstm_7 will not use cuDNN kernels since it doesn't meet the criteria. It will use a generic GPU kernel as fallback when running on GPU.\n",
            "WARNING:tensorflow:Layer lstm_8 will not use cuDNN kernels since it doesn't meet the criteria. It will use a generic GPU kernel as fallback when running on GPU.\n",
            "WARNING:tensorflow:Layer lstm_8 will not use cuDNN kernels since it doesn't meet the criteria. It will use a generic GPU kernel as fallback when running on GPU.\n",
            "WARNING:tensorflow:Layer lstm_8 will not use cuDNN kernels since it doesn't meet the criteria. It will use a generic GPU kernel as fallback when running on GPU.\n",
            "WARNING:tensorflow:Layer lstm_9 will not use cuDNN kernels since it doesn't meet the criteria. It will use a generic GPU kernel as fallback when running on GPU.\n",
            "WARNING:tensorflow:Layer lstm_9 will not use cuDNN kernels since it doesn't meet the criteria. It will use a generic GPU kernel as fallback when running on GPU.\n",
            "WARNING:tensorflow:Layer lstm_9 will not use cuDNN kernels since it doesn't meet the criteria. It will use a generic GPU kernel as fallback when running on GPU.\n",
            "WARNING:tensorflow:Layer gru will not use cuDNN kernels since it doesn't meet the criteria. It will use a generic GPU kernel as fallback when running on GPU.\n",
            "WARNING:tensorflow:Layer gru_1 will not use cuDNN kernels since it doesn't meet the criteria. It will use a generic GPU kernel as fallback when running on GPU.\n",
            "WARNING:tensorflow:Layer gru_2 will not use cuDNN kernels since it doesn't meet the criteria. It will use a generic GPU kernel as fallback when running on GPU.\n",
            "WARNING:tensorflow:Layer gru_3 will not use cuDNN kernels since it doesn't meet the criteria. It will use a generic GPU kernel as fallback when running on GPU.\n",
            "WARNING:tensorflow:Layer lstm_14 will not use cuDNN kernels since it doesn't meet the criteria. It will use a generic GPU kernel as fallback when running on GPU.\n",
            "WARNING:tensorflow:Layer lstm_14 will not use cuDNN kernels since it doesn't meet the criteria. It will use a generic GPU kernel as fallback when running on GPU.\n",
            "WARNING:tensorflow:Layer lstm_14 will not use cuDNN kernels since it doesn't meet the criteria. It will use a generic GPU kernel as fallback when running on GPU.\n",
            "WARNING:tensorflow:Layer lstm_15 will not use cuDNN kernels since it doesn't meet the criteria. It will use a generic GPU kernel as fallback when running on GPU.\n",
            "WARNING:tensorflow:Layer lstm_15 will not use cuDNN kernels since it doesn't meet the criteria. It will use a generic GPU kernel as fallback when running on GPU.\n",
            "WARNING:tensorflow:Layer lstm_15 will not use cuDNN kernels since it doesn't meet the criteria. It will use a generic GPU kernel as fallback when running on GPU.\n",
            "WARNING:tensorflow:Layer lstm_16 will not use cuDNN kernels since it doesn't meet the criteria. It will use a generic GPU kernel as fallback when running on GPU.\n",
            "WARNING:tensorflow:Layer lstm_16 will not use cuDNN kernels since it doesn't meet the criteria. It will use a generic GPU kernel as fallback when running on GPU.\n",
            "WARNING:tensorflow:Layer lstm_16 will not use cuDNN kernels since it doesn't meet the criteria. It will use a generic GPU kernel as fallback when running on GPU.\n",
            "WARNING:tensorflow:Layer lstm_17 will not use cuDNN kernels since it doesn't meet the criteria. It will use a generic GPU kernel as fallback when running on GPU.\n",
            "WARNING:tensorflow:Layer lstm_17 will not use cuDNN kernels since it doesn't meet the criteria. It will use a generic GPU kernel as fallback when running on GPU.\n",
            "WARNING:tensorflow:Layer lstm_17 will not use cuDNN kernels since it doesn't meet the criteria. It will use a generic GPU kernel as fallback when running on GPU.\n",
            "WARNING:tensorflow:Layer lstm_18 will not use cuDNN kernels since it doesn't meet the criteria. It will use a generic GPU kernel as fallback when running on GPU.\n",
            "WARNING:tensorflow:Layer lstm_18 will not use cuDNN kernels since it doesn't meet the criteria. It will use a generic GPU kernel as fallback when running on GPU.\n",
            "WARNING:tensorflow:Layer lstm_18 will not use cuDNN kernels since it doesn't meet the criteria. It will use a generic GPU kernel as fallback when running on GPU.\n",
            "WARNING:tensorflow:Layer lstm_19 will not use cuDNN kernels since it doesn't meet the criteria. It will use a generic GPU kernel as fallback when running on GPU.\n",
            "WARNING:tensorflow:Layer lstm_19 will not use cuDNN kernels since it doesn't meet the criteria. It will use a generic GPU kernel as fallback when running on GPU.\n",
            "WARNING:tensorflow:Layer lstm_19 will not use cuDNN kernels since it doesn't meet the criteria. It will use a generic GPU kernel as fallback when running on GPU.\n",
            "WARNING:tensorflow:Layer gru_4 will not use cuDNN kernels since it doesn't meet the criteria. It will use a generic GPU kernel as fallback when running on GPU.\n",
            "WARNING:tensorflow:Layer gru_5 will not use cuDNN kernels since it doesn't meet the criteria. It will use a generic GPU kernel as fallback when running on GPU.\n",
            "WARNING:tensorflow:Layer gru_6 will not use cuDNN kernels since it doesn't meet the criteria. It will use a generic GPU kernel as fallback when running on GPU.\n",
            "WARNING:tensorflow:Layer gru_7 will not use cuDNN kernels since it doesn't meet the criteria. It will use a generic GPU kernel as fallback when running on GPU.\n",
            "WARNING:tensorflow:Layer lstm_24 will not use cuDNN kernels since it doesn't meet the criteria. It will use a generic GPU kernel as fallback when running on GPU.\n",
            "WARNING:tensorflow:Layer lstm_24 will not use cuDNN kernels since it doesn't meet the criteria. It will use a generic GPU kernel as fallback when running on GPU.\n",
            "WARNING:tensorflow:Layer lstm_24 will not use cuDNN kernels since it doesn't meet the criteria. It will use a generic GPU kernel as fallback when running on GPU.\n",
            "WARNING:tensorflow:Layer lstm_25 will not use cuDNN kernels since it doesn't meet the criteria. It will use a generic GPU kernel as fallback when running on GPU.\n",
            "WARNING:tensorflow:Layer lstm_25 will not use cuDNN kernels since it doesn't meet the criteria. It will use a generic GPU kernel as fallback when running on GPU.\n",
            "WARNING:tensorflow:Layer lstm_25 will not use cuDNN kernels since it doesn't meet the criteria. It will use a generic GPU kernel as fallback when running on GPU.\n",
            "WARNING:tensorflow:Layer lstm_26 will not use cuDNN kernels since it doesn't meet the criteria. It will use a generic GPU kernel as fallback when running on GPU.\n",
            "WARNING:tensorflow:Layer lstm_26 will not use cuDNN kernels since it doesn't meet the criteria. It will use a generic GPU kernel as fallback when running on GPU.\n",
            "WARNING:tensorflow:Layer lstm_26 will not use cuDNN kernels since it doesn't meet the criteria. It will use a generic GPU kernel as fallback when running on GPU.\n",
            "WARNING:tensorflow:Layer lstm_27 will not use cuDNN kernels since it doesn't meet the criteria. It will use a generic GPU kernel as fallback when running on GPU.\n",
            "WARNING:tensorflow:Layer lstm_27 will not use cuDNN kernels since it doesn't meet the criteria. It will use a generic GPU kernel as fallback when running on GPU.\n",
            "WARNING:tensorflow:Layer lstm_27 will not use cuDNN kernels since it doesn't meet the criteria. It will use a generic GPU kernel as fallback when running on GPU.\n",
            "WARNING:tensorflow:Layer lstm_28 will not use cuDNN kernels since it doesn't meet the criteria. It will use a generic GPU kernel as fallback when running on GPU.\n",
            "WARNING:tensorflow:Layer lstm_28 will not use cuDNN kernels since it doesn't meet the criteria. It will use a generic GPU kernel as fallback when running on GPU.\n",
            "WARNING:tensorflow:Layer lstm_28 will not use cuDNN kernels since it doesn't meet the criteria. It will use a generic GPU kernel as fallback when running on GPU.\n",
            "WARNING:tensorflow:Layer lstm_29 will not use cuDNN kernels since it doesn't meet the criteria. It will use a generic GPU kernel as fallback when running on GPU.\n",
            "WARNING:tensorflow:Layer lstm_29 will not use cuDNN kernels since it doesn't meet the criteria. It will use a generic GPU kernel as fallback when running on GPU.\n",
            "WARNING:tensorflow:Layer lstm_29 will not use cuDNN kernels since it doesn't meet the criteria. It will use a generic GPU kernel as fallback when running on GPU.\n",
            "WARNING:tensorflow:Layer gru_8 will not use cuDNN kernels since it doesn't meet the criteria. It will use a generic GPU kernel as fallback when running on GPU.\n",
            "WARNING:tensorflow:Layer gru_9 will not use cuDNN kernels since it doesn't meet the criteria. It will use a generic GPU kernel as fallback when running on GPU.\n",
            "WARNING:tensorflow:Layer gru_10 will not use cuDNN kernels since it doesn't meet the criteria. It will use a generic GPU kernel as fallback when running on GPU.\n",
            "WARNING:tensorflow:Layer gru_11 will not use cuDNN kernels since it doesn't meet the criteria. It will use a generic GPU kernel as fallback when running on GPU.\n"
          ]
        }
      ]
    },
    {
      "cell_type": "code",
      "source": [
        "print(UCImodels)"
      ],
      "metadata": {
        "colab": {
          "base_uri": "https://localhost:8080/"
        },
        "id": "90dmtJYOWztD",
        "outputId": "e944bace-cfe1-406d-bc2c-daa6a7aa4c4f"
      },
      "execution_count": null,
      "outputs": [
        {
          "output_type": "stream",
          "name": "stdout",
          "text": [
            "{'LSTM_CNN_SANDWICH': <keras.engine.functional.Functional object at 0x7fb0adb03a50>, 'LSTM_CNN': <keras.engine.functional.Functional object at 0x7fb028439110>, 'ConvLSTM_PARALLEL': <keras.engine.functional.Functional object at 0x7fb0274cbb90>, 'LSTM_CNN_PARALLEL': <keras.engine.functional.Functional object at 0x7fb02749fb10>, 'GRU_CNN': <keras.engine.functional.Functional object at 0x7fb02839ecd0>, 'CNN_GRU': <keras.engine.functional.Functional object at 0x7fb0252056d0>}\n"
          ]
        }
      ]
    },
    {
      "cell_type": "markdown",
      "source": [
        "# Model Training"
      ],
      "metadata": {
        "id": "YMa0EvW8DfQ_"
      }
    },
    {
      "cell_type": "markdown",
      "source": [
        "UCI LSTM_CNN_SANDWHICH"
      ],
      "metadata": {
        "id": "gE2K3werSbrP"
      }
    },
    {
      "cell_type": "code",
      "execution_count": null,
      "metadata": {
        "colab": {
          "base_uri": "https://localhost:8080/"
        },
        "id": "bDnZgBtRYkP9",
        "outputId": "b3047bb0-23ca-46c7-fba1-144fba52c45d"
      },
      "outputs": [
        {
          "output_type": "stream",
          "name": "stdout",
          "text": [
            "Epoch 1/150\n",
            "87/87 [==============================] - 29s 130ms/step - loss: 2.1663 - accuracy: 0.3011 - f1_m: 0.0000e+00 - precision_m: 0.0000e+00 - recall_m: 0.0000e+00 - val_loss: 2.4496 - val_accuracy: 0.2795 - val_f1_m: 0.0000e+00 - val_precision_m: 0.0000e+00 - val_recall_m: 0.0000e+00\n",
            "Epoch 2/150\n",
            "87/87 [==============================] - 8s 94ms/step - loss: 1.7336 - accuracy: 0.3189 - f1_m: 0.0000e+00 - precision_m: 0.0000e+00 - recall_m: 0.0000e+00 - val_loss: 2.3357 - val_accuracy: 0.3060 - val_f1_m: 0.0000e+00 - val_precision_m: 0.0000e+00 - val_recall_m: 0.0000e+00\n",
            "Epoch 3/150\n",
            "87/87 [==============================] - 8s 93ms/step - loss: 1.5607 - accuracy: 0.3370 - f1_m: 0.0000e+00 - precision_m: 0.0000e+00 - recall_m: 0.0000e+00 - val_loss: 2.1236 - val_accuracy: 0.2928 - val_f1_m: 0.0000e+00 - val_precision_m: 0.0000e+00 - val_recall_m: 0.0000e+00\n",
            "Epoch 4/150\n",
            "87/87 [==============================] - 8s 94ms/step - loss: 1.4775 - accuracy: 0.3919 - f1_m: 0.0000e+00 - precision_m: 0.0000e+00 - recall_m: 0.0000e+00 - val_loss: 1.9094 - val_accuracy: 0.2898 - val_f1_m: 0.0000e+00 - val_precision_m: 0.0000e+00 - val_recall_m: 0.0000e+00\n",
            "Epoch 5/150\n",
            "87/87 [==============================] - 8s 94ms/step - loss: 1.4140 - accuracy: 0.4141 - f1_m: 0.0000e+00 - precision_m: 0.0000e+00 - recall_m: 0.0000e+00 - val_loss: 1.9834 - val_accuracy: 0.2094 - val_f1_m: 0.0000e+00 - val_precision_m: 0.0000e+00 - val_recall_m: 0.0000e+00\n",
            "Epoch 6/150\n",
            "87/87 [==============================] - 8s 94ms/step - loss: 1.3514 - accuracy: 0.4349 - f1_m: 0.0000e+00 - precision_m: 0.0000e+00 - recall_m: 0.0000e+00 - val_loss: 1.6001 - val_accuracy: 0.3060 - val_f1_m: 0.0000e+00 - val_precision_m: 0.0000e+00 - val_recall_m: 0.0000e+00\n",
            "Epoch 7/150\n",
            "87/87 [==============================] - 8s 94ms/step - loss: 1.2961 - accuracy: 0.4684 - f1_m: 0.0020 - precision_m: 0.1034 - recall_m: 0.0010 - val_loss: 1.5057 - val_accuracy: 0.3208 - val_f1_m: 0.0000e+00 - val_precision_m: 0.0000e+00 - val_recall_m: 0.0000e+00\n",
            "Epoch 8/150\n",
            "87/87 [==============================] - 8s 94ms/step - loss: 1.2467 - accuracy: 0.4911 - f1_m: 0.0275 - precision_m: 0.6136 - recall_m: 0.0142 - val_loss: 1.4202 - val_accuracy: 0.3673 - val_f1_m: 0.0441 - val_precision_m: 0.0783 - val_recall_m: 0.0307\n",
            "Epoch 9/150\n",
            "87/87 [==============================] - 8s 94ms/step - loss: 1.2096 - accuracy: 0.5124 - f1_m: 0.0918 - precision_m: 0.8955 - recall_m: 0.0493 - val_loss: 1.4861 - val_accuracy: 0.3724 - val_f1_m: 0.0804 - val_precision_m: 0.3361 - val_recall_m: 0.0529\n",
            "Epoch 10/150\n",
            "87/87 [==============================] - 8s 94ms/step - loss: 1.1624 - accuracy: 0.5317 - f1_m: 0.2224 - precision_m: 0.9041 - recall_m: 0.1285 - val_loss: 1.5975 - val_accuracy: 0.3422 - val_f1_m: 0.0595 - val_precision_m: 0.5739 - val_recall_m: 0.0324\n",
            "Epoch 11/150\n",
            "87/87 [==============================] - 8s 94ms/step - loss: 1.1228 - accuracy: 0.5541 - f1_m: 0.3240 - precision_m: 0.9079 - recall_m: 0.1985 - val_loss: 1.2475 - val_accuracy: 0.4358 - val_f1_m: 0.2231 - val_precision_m: 0.6276 - val_recall_m: 0.1475\n",
            "Epoch 12/150\n",
            "87/87 [==============================] - 8s 94ms/step - loss: 1.0875 - accuracy: 0.5706 - f1_m: 0.3955 - precision_m: 0.9150 - recall_m: 0.2534 - val_loss: 1.3432 - val_accuracy: 0.4034 - val_f1_m: 0.2612 - val_precision_m: 0.6530 - val_recall_m: 0.1785\n",
            "Epoch 13/150\n",
            "87/87 [==============================] - 8s 94ms/step - loss: 1.0551 - accuracy: 0.5794 - f1_m: 0.4421 - precision_m: 0.9148 - recall_m: 0.2931 - val_loss: 1.1589 - val_accuracy: 0.4794 - val_f1_m: 0.3426 - val_precision_m: 0.7261 - val_recall_m: 0.2423\n",
            "Epoch 14/150\n",
            "87/87 [==============================] - 8s 94ms/step - loss: 1.0274 - accuracy: 0.5888 - f1_m: 0.4712 - precision_m: 0.9027 - recall_m: 0.3199 - val_loss: 1.1408 - val_accuracy: 0.5125 - val_f1_m: 0.3584 - val_precision_m: 0.7643 - val_recall_m: 0.2532\n",
            "Epoch 15/150\n",
            "87/87 [==============================] - 8s 94ms/step - loss: 0.9913 - accuracy: 0.6016 - f1_m: 0.4985 - precision_m: 0.9116 - recall_m: 0.3441 - val_loss: 1.1645 - val_accuracy: 0.4867 - val_f1_m: 0.3318 - val_precision_m: 0.6819 - val_recall_m: 0.2388\n",
            "Epoch 16/150\n",
            "87/87 [==============================] - 8s 94ms/step - loss: 0.9553 - accuracy: 0.6195 - f1_m: 0.5217 - precision_m: 0.9176 - recall_m: 0.3653 - val_loss: 1.1186 - val_accuracy: 0.5649 - val_f1_m: 0.3681 - val_precision_m: 0.7891 - val_recall_m: 0.2597\n",
            "Epoch 17/150\n",
            "87/87 [==============================] - 8s 94ms/step - loss: 0.9262 - accuracy: 0.6394 - f1_m: 0.5297 - precision_m: 0.9144 - recall_m: 0.3740 - val_loss: 1.1259 - val_accuracy: 0.5524 - val_f1_m: 0.3493 - val_precision_m: 0.7585 - val_recall_m: 0.2432\n",
            "Epoch 18/150\n",
            "87/87 [==============================] - 8s 94ms/step - loss: 0.8879 - accuracy: 0.6553 - f1_m: 0.5540 - precision_m: 0.9226 - recall_m: 0.3969 - val_loss: 1.1277 - val_accuracy: 0.5339 - val_f1_m: 0.3800 - val_precision_m: 0.7284 - val_recall_m: 0.2792\n",
            "Epoch 19/150\n",
            "87/87 [==============================] - 8s 93ms/step - loss: 0.8518 - accuracy: 0.7093 - f1_m: 0.5609 - precision_m: 0.9136 - recall_m: 0.4061 - val_loss: 1.3178 - val_accuracy: 0.5118 - val_f1_m: 0.2901 - val_precision_m: 0.6448 - val_recall_m: 0.2039\n",
            "Epoch 20/150\n",
            "87/87 [==============================] - 8s 93ms/step - loss: 0.7993 - accuracy: 0.7397 - f1_m: 0.6193 - precision_m: 0.9347 - recall_m: 0.4656 - val_loss: 0.9883 - val_accuracy: 0.7242 - val_f1_m: 0.5336 - val_precision_m: 0.8299 - val_recall_m: 0.4206\n",
            "Epoch 21/150\n",
            "87/87 [==============================] - 8s 93ms/step - loss: 0.7577 - accuracy: 0.7631 - f1_m: 0.7109 - precision_m: 0.9418 - recall_m: 0.5729 - val_loss: 0.9115 - val_accuracy: 0.7788 - val_f1_m: 0.6008 - val_precision_m: 0.9167 - val_recall_m: 0.4724\n",
            "Epoch 22/150\n",
            "87/87 [==============================] - 8s 93ms/step - loss: 0.7072 - accuracy: 0.7743 - f1_m: 0.7427 - precision_m: 0.9432 - recall_m: 0.6148 - val_loss: 0.8773 - val_accuracy: 0.7249 - val_f1_m: 0.6321 - val_precision_m: 0.9214 - val_recall_m: 0.5032\n",
            "Epoch 23/150\n",
            "87/87 [==============================] - 8s 94ms/step - loss: 0.6624 - accuracy: 0.7851 - f1_m: 0.7566 - precision_m: 0.9361 - recall_m: 0.6373 - val_loss: 0.8745 - val_accuracy: 0.6696 - val_f1_m: 0.6370 - val_precision_m: 0.7449 - val_recall_m: 0.5615\n",
            "Epoch 24/150\n",
            "87/87 [==============================] - 8s 93ms/step - loss: 0.5861 - accuracy: 0.8174 - f1_m: 0.7856 - precision_m: 0.9378 - recall_m: 0.6778 - val_loss: 0.9978 - val_accuracy: 0.7139 - val_f1_m: 0.6853 - val_precision_m: 0.8572 - val_recall_m: 0.5766\n",
            "Epoch 25/150\n",
            "87/87 [==============================] - 8s 94ms/step - loss: 0.5454 - accuracy: 0.8421 - f1_m: 0.8255 - precision_m: 0.9427 - recall_m: 0.7356 - val_loss: 0.6863 - val_accuracy: 0.7987 - val_f1_m: 0.7889 - val_precision_m: 0.9039 - val_recall_m: 0.7027\n",
            "Epoch 26/150\n",
            "87/87 [==============================] - 8s 94ms/step - loss: 0.5077 - accuracy: 0.8494 - f1_m: 0.8485 - precision_m: 0.9363 - recall_m: 0.7770 - val_loss: 0.7148 - val_accuracy: 0.7714 - val_f1_m: 0.7620 - val_precision_m: 0.8567 - val_recall_m: 0.6899\n",
            "Epoch 27/150\n",
            "87/87 [==============================] - 8s 94ms/step - loss: 0.4803 - accuracy: 0.8528 - f1_m: 0.8599 - precision_m: 0.9321 - recall_m: 0.7988 - val_loss: 0.6899 - val_accuracy: 0.7758 - val_f1_m: 0.7716 - val_precision_m: 0.8503 - val_recall_m: 0.7094\n",
            "Epoch 28/150\n",
            "87/87 [==============================] - 8s 94ms/step - loss: 0.4608 - accuracy: 0.8570 - f1_m: 0.8654 - precision_m: 0.9308 - recall_m: 0.8093 - val_loss: 0.6141 - val_accuracy: 0.7920 - val_f1_m: 0.7891 - val_precision_m: 0.8616 - val_recall_m: 0.7297\n",
            "Epoch 29/150\n",
            "87/87 [==============================] - 8s 94ms/step - loss: 0.4407 - accuracy: 0.8637 - f1_m: 0.8730 - precision_m: 0.9338 - recall_m: 0.8201 - val_loss: 0.8164 - val_accuracy: 0.7544 - val_f1_m: 0.7634 - val_precision_m: 0.8343 - val_recall_m: 0.7076\n",
            "Epoch 30/150\n",
            "87/87 [==============================] - 8s 94ms/step - loss: 0.4226 - accuracy: 0.8680 - f1_m: 0.8796 - precision_m: 0.9369 - recall_m: 0.8295 - val_loss: 0.6574 - val_accuracy: 0.8127 - val_f1_m: 0.8086 - val_precision_m: 0.8704 - val_recall_m: 0.7571\n",
            "Epoch 31/150\n",
            "87/87 [==============================] - 8s 94ms/step - loss: 0.4102 - accuracy: 0.8670 - f1_m: 0.8793 - precision_m: 0.9329 - recall_m: 0.8319 - val_loss: 0.9361 - val_accuracy: 0.6600 - val_f1_m: 0.6687 - val_precision_m: 0.7298 - val_recall_m: 0.6188\n",
            "Epoch 32/150\n",
            "87/87 [==============================] - 8s 94ms/step - loss: 0.3897 - accuracy: 0.8746 - f1_m: 0.8865 - precision_m: 0.9384 - recall_m: 0.8405 - val_loss: 0.6697 - val_accuracy: 0.7773 - val_f1_m: 0.7819 - val_precision_m: 0.8493 - val_recall_m: 0.7276\n",
            "Epoch 33/150\n",
            "87/87 [==============================] - 8s 94ms/step - loss: 0.3800 - accuracy: 0.8762 - f1_m: 0.8881 - precision_m: 0.9382 - recall_m: 0.8436 - val_loss: 0.4809 - val_accuracy: 0.8466 - val_f1_m: 0.8576 - val_precision_m: 0.9137 - val_recall_m: 0.8093\n",
            "Epoch 34/150\n",
            "87/87 [==============================] - 8s 93ms/step - loss: 0.3690 - accuracy: 0.8742 - f1_m: 0.8873 - precision_m: 0.9357 - recall_m: 0.8442 - val_loss: 0.5327 - val_accuracy: 0.8274 - val_f1_m: 0.8388 - val_precision_m: 0.8937 - val_recall_m: 0.7912\n",
            "Epoch 35/150\n",
            "87/87 [==============================] - 8s 94ms/step - loss: 0.3577 - accuracy: 0.8793 - f1_m: 0.8907 - precision_m: 0.9392 - recall_m: 0.8477 - val_loss: 1.0855 - val_accuracy: 0.6453 - val_f1_m: 0.6514 - val_precision_m: 0.7073 - val_recall_m: 0.6064\n",
            "Epoch 36/150\n",
            "87/87 [==============================] - 8s 93ms/step - loss: 0.3472 - accuracy: 0.8837 - f1_m: 0.8934 - precision_m: 0.9408 - recall_m: 0.8509 - val_loss: 0.8008 - val_accuracy: 0.7382 - val_f1_m: 0.7426 - val_precision_m: 0.7954 - val_recall_m: 0.6981\n",
            "Epoch 37/150\n",
            "87/87 [==============================] - 8s 93ms/step - loss: 0.3367 - accuracy: 0.8840 - f1_m: 0.8962 - precision_m: 0.9415 - recall_m: 0.8556 - val_loss: 0.4614 - val_accuracy: 0.8488 - val_f1_m: 0.8523 - val_precision_m: 0.9010 - val_recall_m: 0.8093\n",
            "Epoch 38/150\n",
            "87/87 [==============================] - 8s 94ms/step - loss: 0.3335 - accuracy: 0.8855 - f1_m: 0.8975 - precision_m: 0.9433 - recall_m: 0.8563 - val_loss: 0.5118 - val_accuracy: 0.8400 - val_f1_m: 0.8495 - val_precision_m: 0.8978 - val_recall_m: 0.8069\n",
            "Epoch 39/150\n",
            "87/87 [==============================] - 8s 94ms/step - loss: 0.3218 - accuracy: 0.8901 - f1_m: 0.9019 - precision_m: 0.9467 - recall_m: 0.8615 - val_loss: 0.4583 - val_accuracy: 0.8518 - val_f1_m: 0.8544 - val_precision_m: 0.9009 - val_recall_m: 0.8133\n",
            "Epoch 40/150\n",
            "87/87 [==============================] - 8s 94ms/step - loss: 0.3173 - accuracy: 0.8905 - f1_m: 0.9011 - precision_m: 0.9453 - recall_m: 0.8611 - val_loss: 0.4611 - val_accuracy: 0.8208 - val_f1_m: 0.8294 - val_precision_m: 0.8728 - val_recall_m: 0.7907\n",
            "Epoch 41/150\n",
            "87/87 [==============================] - 8s 94ms/step - loss: 0.3073 - accuracy: 0.8958 - f1_m: 0.9062 - precision_m: 0.9492 - recall_m: 0.8673 - val_loss: 0.8829 - val_accuracy: 0.7065 - val_f1_m: 0.7114 - val_precision_m: 0.7667 - val_recall_m: 0.6662\n",
            "Epoch 42/150\n",
            "87/87 [==============================] - 8s 94ms/step - loss: 0.3027 - accuracy: 0.8919 - f1_m: 0.9031 - precision_m: 0.9480 - recall_m: 0.8627 - val_loss: 0.6017 - val_accuracy: 0.8296 - val_f1_m: 0.8280 - val_precision_m: 0.8704 - val_recall_m: 0.7902\n",
            "Epoch 43/150\n",
            "87/87 [==============================] - 8s 94ms/step - loss: 0.2941 - accuracy: 0.8986 - f1_m: 0.9091 - precision_m: 0.9535 - recall_m: 0.8690 - val_loss: 0.5004 - val_accuracy: 0.8319 - val_f1_m: 0.8316 - val_precision_m: 0.8793 - val_recall_m: 0.7899\n",
            "Epoch 44/150\n",
            "87/87 [==============================] - 8s 94ms/step - loss: 0.2898 - accuracy: 0.8978 - f1_m: 0.9072 - precision_m: 0.9502 - recall_m: 0.8683 - val_loss: 0.4870 - val_accuracy: 0.8481 - val_f1_m: 0.8529 - val_precision_m: 0.8983 - val_recall_m: 0.8128\n",
            "Epoch 45/150\n",
            "87/87 [==============================] - 8s 94ms/step - loss: 0.2821 - accuracy: 0.9023 - f1_m: 0.9099 - precision_m: 0.9527 - recall_m: 0.8711 - val_loss: 0.4708 - val_accuracy: 0.8378 - val_f1_m: 0.8446 - val_precision_m: 0.8846 - val_recall_m: 0.8087\n",
            "Epoch 46/150\n",
            "87/87 [==============================] - 8s 93ms/step - loss: 0.2830 - accuracy: 0.9003 - f1_m: 0.9072 - precision_m: 0.9500 - recall_m: 0.8685 - val_loss: 0.4134 - val_accuracy: 0.8488 - val_f1_m: 0.8592 - val_precision_m: 0.9031 - val_recall_m: 0.8202\n",
            "Epoch 47/150\n",
            "87/87 [==============================] - 8s 94ms/step - loss: 0.2796 - accuracy: 0.9023 - f1_m: 0.9067 - precision_m: 0.9511 - recall_m: 0.8671 - val_loss: 0.7937 - val_accuracy: 0.7618 - val_f1_m: 0.7603 - val_precision_m: 0.8077 - val_recall_m: 0.7189\n",
            "Epoch 48/150\n",
            "87/87 [==============================] - 8s 94ms/step - loss: 0.2731 - accuracy: 0.9046 - f1_m: 0.9113 - precision_m: 0.9551 - recall_m: 0.8716 - val_loss: 0.7334 - val_accuracy: 0.7861 - val_f1_m: 0.7863 - val_precision_m: 0.8329 - val_recall_m: 0.7455\n",
            "Epoch 49/150\n",
            "87/87 [==============================] - 8s 94ms/step - loss: 0.2687 - accuracy: 0.9062 - f1_m: 0.9138 - precision_m: 0.9555 - recall_m: 0.8761 - val_loss: 0.6928 - val_accuracy: 0.7854 - val_f1_m: 0.7863 - val_precision_m: 0.8403 - val_recall_m: 0.7408\n",
            "Epoch 50/150\n",
            "87/87 [==============================] - 8s 93ms/step - loss: 0.2678 - accuracy: 0.9035 - f1_m: 0.9104 - precision_m: 0.9525 - recall_m: 0.8722 - val_loss: 0.5816 - val_accuracy: 0.7847 - val_f1_m: 0.7860 - val_precision_m: 0.8443 - val_recall_m: 0.7374\n",
            "Epoch 51/150\n",
            "87/87 [==============================] - 8s 93ms/step - loss: 0.2625 - accuracy: 0.9055 - f1_m: 0.9123 - precision_m: 0.9537 - recall_m: 0.8747 - val_loss: 0.4210 - val_accuracy: 0.8569 - val_f1_m: 0.8607 - val_precision_m: 0.9037 - val_recall_m: 0.8223\n",
            "Epoch 52/150\n",
            "87/87 [==============================] - 8s 93ms/step - loss: 0.2541 - accuracy: 0.9109 - f1_m: 0.9169 - precision_m: 0.9588 - recall_m: 0.8788 - val_loss: 0.5906 - val_accuracy: 0.8031 - val_f1_m: 0.8072 - val_precision_m: 0.8503 - val_recall_m: 0.7692\n",
            "Epoch 53/150\n",
            "87/87 [==============================] - 8s 94ms/step - loss: 0.2514 - accuracy: 0.9122 - f1_m: 0.9157 - precision_m: 0.9562 - recall_m: 0.8788 - val_loss: 0.4827 - val_accuracy: 0.8400 - val_f1_m: 0.8391 - val_precision_m: 0.8817 - val_recall_m: 0.8012\n",
            "Epoch 54/150\n",
            "87/87 [==============================] - 8s 94ms/step - loss: 0.2494 - accuracy: 0.9126 - f1_m: 0.9156 - precision_m: 0.9576 - recall_m: 0.8775 - val_loss: 0.4230 - val_accuracy: 0.8591 - val_f1_m: 0.8638 - val_precision_m: 0.9063 - val_recall_m: 0.8259\n",
            "Epoch 55/150\n",
            "87/87 [==============================] - 8s 93ms/step - loss: 0.2471 - accuracy: 0.9113 - f1_m: 0.9168 - precision_m: 0.9581 - recall_m: 0.8792 - val_loss: 0.4432 - val_accuracy: 0.8591 - val_f1_m: 0.8621 - val_precision_m: 0.9045 - val_recall_m: 0.8241\n",
            "Epoch 56/150\n",
            "87/87 [==============================] - 8s 93ms/step - loss: 0.2457 - accuracy: 0.9129 - f1_m: 0.9167 - precision_m: 0.9576 - recall_m: 0.8795 - val_loss: 0.5118 - val_accuracy: 0.8341 - val_f1_m: 0.8348 - val_precision_m: 0.8772 - val_recall_m: 0.7971\n",
            "Epoch 57/150\n",
            "87/87 [==============================] - 8s 93ms/step - loss: 0.2418 - accuracy: 0.9111 - f1_m: 0.9166 - precision_m: 0.9582 - recall_m: 0.8787 - val_loss: 0.5064 - val_accuracy: 0.8437 - val_f1_m: 0.8413 - val_precision_m: 0.8830 - val_recall_m: 0.8042\n",
            "Epoch 58/150\n",
            "87/87 [==============================] - 8s 94ms/step - loss: 0.2355 - accuracy: 0.9136 - f1_m: 0.9198 - precision_m: 0.9606 - recall_m: 0.8827 - val_loss: 0.3963 - val_accuracy: 0.8695 - val_f1_m: 0.8750 - val_precision_m: 0.9146 - val_recall_m: 0.8394\n",
            "Epoch 59/150\n",
            "87/87 [==============================] - 8s 93ms/step - loss: 0.2381 - accuracy: 0.9154 - f1_m: 0.9178 - precision_m: 0.9582 - recall_m: 0.8811 - val_loss: 0.4508 - val_accuracy: 0.8437 - val_f1_m: 0.8465 - val_precision_m: 0.8889 - val_recall_m: 0.8087\n",
            "Epoch 60/150\n",
            "87/87 [==============================] - 8s 94ms/step - loss: 0.2376 - accuracy: 0.9130 - f1_m: 0.9163 - precision_m: 0.9564 - recall_m: 0.8798 - val_loss: 0.4594 - val_accuracy: 0.8459 - val_f1_m: 0.8437 - val_precision_m: 0.8851 - val_recall_m: 0.8066\n",
            "Epoch 61/150\n",
            "87/87 [==============================] - 8s 94ms/step - loss: 0.2317 - accuracy: 0.9166 - f1_m: 0.9192 - precision_m: 0.9598 - recall_m: 0.8824 - val_loss: 0.4556 - val_accuracy: 0.8296 - val_f1_m: 0.8349 - val_precision_m: 0.8737 - val_recall_m: 0.8000\n",
            "Epoch 62/150\n",
            "87/87 [==============================] - 8s 94ms/step - loss: 0.2285 - accuracy: 0.9184 - f1_m: 0.9210 - precision_m: 0.9611 - recall_m: 0.8845 - val_loss: 0.5865 - val_accuracy: 0.8119 - val_f1_m: 0.8108 - val_precision_m: 0.8544 - val_recall_m: 0.7723\n",
            "Epoch 63/150\n",
            "87/87 [==============================] - 8s 94ms/step - loss: 0.2274 - accuracy: 0.9180 - f1_m: 0.9201 - precision_m: 0.9600 - recall_m: 0.8838 - val_loss: 0.5167 - val_accuracy: 0.8215 - val_f1_m: 0.8286 - val_precision_m: 0.8671 - val_recall_m: 0.7940\n",
            "Epoch 64/150\n",
            "87/87 [==============================] - 8s 94ms/step - loss: 0.2249 - accuracy: 0.9210 - f1_m: 0.9210 - precision_m: 0.9608 - recall_m: 0.8846 - val_loss: 0.4698 - val_accuracy: 0.8326 - val_f1_m: 0.8421 - val_precision_m: 0.8836 - val_recall_m: 0.8052\n",
            "Epoch 65/150\n",
            "87/87 [==============================] - 8s 94ms/step - loss: 0.2222 - accuracy: 0.9173 - f1_m: 0.9188 - precision_m: 0.9593 - recall_m: 0.8821 - val_loss: 0.6430 - val_accuracy: 0.7876 - val_f1_m: 0.7861 - val_precision_m: 0.8246 - val_recall_m: 0.7519\n",
            "Epoch 66/150\n",
            "87/87 [==============================] - 8s 93ms/step - loss: 0.2226 - accuracy: 0.9198 - f1_m: 0.9209 - precision_m: 0.9607 - recall_m: 0.8845 - val_loss: 0.6551 - val_accuracy: 0.7839 - val_f1_m: 0.7833 - val_precision_m: 0.8269 - val_recall_m: 0.7455\n",
            "Epoch 67/150\n",
            "87/87 [==============================] - 8s 93ms/step - loss: 0.2175 - accuracy: 0.9211 - f1_m: 0.9221 - precision_m: 0.9628 - recall_m: 0.8850 - val_loss: 0.5388 - val_accuracy: 0.8289 - val_f1_m: 0.8324 - val_precision_m: 0.8710 - val_recall_m: 0.7978\n",
            "Epoch 68/150\n",
            "87/87 [==============================] - 8s 93ms/step - loss: 0.2129 - accuracy: 0.9235 - f1_m: 0.9229 - precision_m: 0.9630 - recall_m: 0.8865 - val_loss: 0.8263 - val_accuracy: 0.7367 - val_f1_m: 0.7364 - val_precision_m: 0.7732 - val_recall_m: 0.7037\n",
            "Epoch 69/150\n",
            "87/87 [==============================] - 8s 94ms/step - loss: 0.2161 - accuracy: 0.9203 - f1_m: 0.9230 - precision_m: 0.9624 - recall_m: 0.8870 - val_loss: 0.4567 - val_accuracy: 0.8547 - val_f1_m: 0.8584 - val_precision_m: 0.8952 - val_recall_m: 0.8251\n",
            "Epoch 70/150\n",
            "87/87 [==============================] - 8s 93ms/step - loss: 0.2180 - accuracy: 0.9181 - f1_m: 0.9203 - precision_m: 0.9589 - recall_m: 0.8852 - val_loss: 0.5500 - val_accuracy: 0.8267 - val_f1_m: 0.8278 - val_precision_m: 0.8625 - val_recall_m: 0.7963\n",
            "Epoch 71/150\n",
            "87/87 [==============================] - 8s 93ms/step - loss: 0.2120 - accuracy: 0.9221 - f1_m: 0.9237 - precision_m: 0.9616 - recall_m: 0.8891 - val_loss: 0.6501 - val_accuracy: 0.7972 - val_f1_m: 0.8002 - val_precision_m: 0.8361 - val_recall_m: 0.7680\n",
            "Epoch 72/150\n",
            "87/87 [==============================] - 8s 94ms/step - loss: 0.2100 - accuracy: 0.9225 - f1_m: 0.9231 - precision_m: 0.9617 - recall_m: 0.8879 - val_loss: 0.3965 - val_accuracy: 0.8702 - val_f1_m: 0.8805 - val_precision_m: 0.9175 - val_recall_m: 0.8469\n",
            "Epoch 73/150\n",
            "87/87 [==============================] - 8s 94ms/step - loss: 0.2100 - accuracy: 0.9238 - f1_m: 0.9241 - precision_m: 0.9619 - recall_m: 0.8895 - val_loss: 0.4036 - val_accuracy: 0.8739 - val_f1_m: 0.8843 - val_precision_m: 0.9172 - val_recall_m: 0.8543\n",
            "Epoch 74/150\n",
            "87/87 [==============================] - 8s 93ms/step - loss: 0.2075 - accuracy: 0.9249 - f1_m: 0.9245 - precision_m: 0.9620 - recall_m: 0.8903 - val_loss: 1.0128 - val_accuracy: 0.7153 - val_f1_m: 0.7161 - val_precision_m: 0.7507 - val_recall_m: 0.6853\n",
            "Epoch 75/150\n",
            "87/87 [==============================] - 8s 94ms/step - loss: 0.2096 - accuracy: 0.9219 - f1_m: 0.9233 - precision_m: 0.9603 - recall_m: 0.8895 - val_loss: 1.1411 - val_accuracy: 0.7419 - val_f1_m: 0.7415 - val_precision_m: 0.7787 - val_recall_m: 0.7085\n",
            "Epoch 76/150\n",
            "87/87 [==============================] - 8s 94ms/step - loss: 0.2039 - accuracy: 0.9253 - f1_m: 0.9254 - precision_m: 0.9634 - recall_m: 0.8907 - val_loss: 0.4225 - val_accuracy: 0.8599 - val_f1_m: 0.8690 - val_precision_m: 0.9045 - val_recall_m: 0.8369\n",
            "Epoch 77/150\n",
            "87/87 [==============================] - 8s 94ms/step - loss: 0.2026 - accuracy: 0.9230 - f1_m: 0.9261 - precision_m: 0.9631 - recall_m: 0.8922 - val_loss: 0.9243 - val_accuracy: 0.7478 - val_f1_m: 0.7518 - val_precision_m: 0.7907 - val_recall_m: 0.7172\n",
            "Epoch 78/150\n",
            "87/87 [==============================] - 8s 94ms/step - loss: 0.2044 - accuracy: 0.9247 - f1_m: 0.9250 - precision_m: 0.9619 - recall_m: 0.8913 - val_loss: 0.4129 - val_accuracy: 0.8717 - val_f1_m: 0.8815 - val_precision_m: 0.9142 - val_recall_m: 0.8518\n",
            "Epoch 79/150\n",
            "87/87 [==============================] - 8s 93ms/step - loss: 0.2057 - accuracy: 0.9218 - f1_m: 0.9241 - precision_m: 0.9606 - recall_m: 0.8907 - val_loss: 0.5216 - val_accuracy: 0.8223 - val_f1_m: 0.8339 - val_precision_m: 0.8708 - val_recall_m: 0.8010\n",
            "Epoch 80/150\n",
            "87/87 [==============================] - 8s 94ms/step - loss: 0.1964 - accuracy: 0.9277 - f1_m: 0.9289 - precision_m: 0.9641 - recall_m: 0.8965 - val_loss: 0.3709 - val_accuracy: 0.8791 - val_f1_m: 0.8889 - val_precision_m: 0.9256 - val_recall_m: 0.8558\n",
            "Epoch 81/150\n",
            "87/87 [==============================] - 8s 94ms/step - loss: 0.1952 - accuracy: 0.9272 - f1_m: 0.9278 - precision_m: 0.9639 - recall_m: 0.8946 - val_loss: 0.7147 - val_accuracy: 0.8038 - val_f1_m: 0.8064 - val_precision_m: 0.8432 - val_recall_m: 0.7735\n",
            "Epoch 82/150\n",
            "87/87 [==============================] - 8s 93ms/step - loss: 0.1922 - accuracy: 0.9289 - f1_m: 0.9304 - precision_m: 0.9658 - recall_m: 0.8979 - val_loss: 0.4450 - val_accuracy: 0.8577 - val_f1_m: 0.8644 - val_precision_m: 0.8978 - val_recall_m: 0.8341\n",
            "Epoch 83/150\n",
            "87/87 [==============================] - 8s 94ms/step - loss: 0.1963 - accuracy: 0.9290 - f1_m: 0.9270 - precision_m: 0.9630 - recall_m: 0.8939 - val_loss: 0.4084 - val_accuracy: 0.8643 - val_f1_m: 0.8746 - val_precision_m: 0.9097 - val_recall_m: 0.8427\n",
            "Epoch 84/150\n",
            "87/87 [==============================] - 8s 94ms/step - loss: 0.1937 - accuracy: 0.9268 - f1_m: 0.9277 - precision_m: 0.9633 - recall_m: 0.8950 - val_loss: 0.7103 - val_accuracy: 0.7987 - val_f1_m: 0.8030 - val_precision_m: 0.8350 - val_recall_m: 0.7740\n",
            "Epoch 85/150\n",
            "87/87 [==============================] - 8s 94ms/step - loss: 0.1920 - accuracy: 0.9306 - f1_m: 0.9297 - precision_m: 0.9647 - recall_m: 0.8974 - val_loss: 0.4179 - val_accuracy: 0.8473 - val_f1_m: 0.8540 - val_precision_m: 0.8860 - val_recall_m: 0.8247\n",
            "Epoch 86/150\n",
            "87/87 [==============================] - 8s 93ms/step - loss: 0.1882 - accuracy: 0.9297 - f1_m: 0.9282 - precision_m: 0.9625 - recall_m: 0.8965 - val_loss: 0.4771 - val_accuracy: 0.8437 - val_f1_m: 0.8533 - val_precision_m: 0.8887 - val_recall_m: 0.8214\n",
            "Epoch 87/150\n",
            "87/87 [==============================] - 8s 94ms/step - loss: 0.1898 - accuracy: 0.9279 - f1_m: 0.9296 - precision_m: 0.9630 - recall_m: 0.8987 - val_loss: 0.7850 - val_accuracy: 0.7758 - val_f1_m: 0.7819 - val_precision_m: 0.8179 - val_recall_m: 0.7498\n",
            "Epoch 88/150\n",
            "87/87 [==============================] - 8s 94ms/step - loss: 0.1916 - accuracy: 0.9268 - f1_m: 0.9277 - precision_m: 0.9619 - recall_m: 0.8963 - val_loss: 0.4473 - val_accuracy: 0.8355 - val_f1_m: 0.8449 - val_precision_m: 0.8723 - val_recall_m: 0.8196\n",
            "Epoch 89/150\n",
            "87/87 [==============================] - 8s 94ms/step - loss: 0.1869 - accuracy: 0.9315 - f1_m: 0.9306 - precision_m: 0.9638 - recall_m: 0.8999 - val_loss: 0.4699 - val_accuracy: 0.8547 - val_f1_m: 0.8610 - val_precision_m: 0.8911 - val_recall_m: 0.8334\n",
            "Epoch 90/150\n",
            "87/87 [==============================] - 8s 94ms/step - loss: 0.1815 - accuracy: 0.9327 - f1_m: 0.9304 - precision_m: 0.9633 - recall_m: 0.9000 - val_loss: 0.4380 - val_accuracy: 0.8562 - val_f1_m: 0.8606 - val_precision_m: 0.8932 - val_recall_m: 0.8313\n",
            "Epoch 91/150\n",
            "87/87 [==============================] - 8s 94ms/step - loss: 0.1852 - accuracy: 0.9317 - f1_m: 0.9301 - precision_m: 0.9621 - recall_m: 0.9006 - val_loss: 0.4138 - val_accuracy: 0.8665 - val_f1_m: 0.8739 - val_precision_m: 0.9047 - val_recall_m: 0.8458\n",
            "Epoch 92/150\n",
            "87/87 [==============================] - 8s 94ms/step - loss: 0.1848 - accuracy: 0.9293 - f1_m: 0.9277 - precision_m: 0.9607 - recall_m: 0.8974 - val_loss: 0.5960 - val_accuracy: 0.8201 - val_f1_m: 0.8291 - val_precision_m: 0.8639 - val_recall_m: 0.7977\n",
            "Epoch 93/150\n",
            "87/87 [==============================] - 8s 94ms/step - loss: 0.1827 - accuracy: 0.9311 - f1_m: 0.9300 - precision_m: 0.9616 - recall_m: 0.9006 - val_loss: 1.0205 - val_accuracy: 0.7139 - val_f1_m: 0.7135 - val_precision_m: 0.7474 - val_recall_m: 0.6831\n",
            "Epoch 94/150\n",
            "87/87 [==============================] - 8s 94ms/step - loss: 0.1890 - accuracy: 0.9307 - f1_m: 0.9291 - precision_m: 0.9617 - recall_m: 0.8990 - val_loss: 0.5440 - val_accuracy: 0.8304 - val_f1_m: 0.8375 - val_precision_m: 0.8697 - val_recall_m: 0.8083\n",
            "Epoch 95/150\n",
            "87/87 [==============================] - 8s 94ms/step - loss: 0.1796 - accuracy: 0.9332 - f1_m: 0.9321 - precision_m: 0.9628 - recall_m: 0.9036 - val_loss: 0.5347 - val_accuracy: 0.8422 - val_f1_m: 0.8504 - val_precision_m: 0.8816 - val_recall_m: 0.8220\n",
            "Epoch 96/150\n",
            "87/87 [==============================] - 8s 94ms/step - loss: 0.1806 - accuracy: 0.9321 - f1_m: 0.9318 - precision_m: 0.9626 - recall_m: 0.9032 - val_loss: 0.7507 - val_accuracy: 0.7898 - val_f1_m: 0.7896 - val_precision_m: 0.8216 - val_recall_m: 0.7606\n",
            "Epoch 97/150\n",
            "87/87 [==============================] - 8s 94ms/step - loss: 0.1769 - accuracy: 0.9341 - f1_m: 0.9316 - precision_m: 0.9623 - recall_m: 0.9030 - val_loss: 0.4910 - val_accuracy: 0.8466 - val_f1_m: 0.8528 - val_precision_m: 0.8818 - val_recall_m: 0.8264\n",
            "Epoch 98/150\n",
            "87/87 [==============================] - 8s 94ms/step - loss: 0.1792 - accuracy: 0.9325 - f1_m: 0.9315 - precision_m: 0.9624 - recall_m: 0.9029 - val_loss: 0.7830 - val_accuracy: 0.7729 - val_f1_m: 0.7761 - val_precision_m: 0.8059 - val_recall_m: 0.7489\n",
            "Epoch 99/150\n",
            "87/87 [==============================] - 8s 94ms/step - loss: 0.1757 - accuracy: 0.9335 - f1_m: 0.9328 - precision_m: 0.9625 - recall_m: 0.9051 - val_loss: 0.7693 - val_accuracy: 0.7758 - val_f1_m: 0.7768 - val_precision_m: 0.8027 - val_recall_m: 0.7532\n",
            "Epoch 100/150\n",
            "87/87 [==============================] - 8s 94ms/step - loss: 0.1749 - accuracy: 0.9339 - f1_m: 0.9346 - precision_m: 0.9642 - recall_m: 0.9071 - val_loss: 0.4216 - val_accuracy: 0.8562 - val_f1_m: 0.8699 - val_precision_m: 0.8981 - val_recall_m: 0.8439\n",
            "Epoch 101/150\n",
            "87/87 [==============================] - 8s 95ms/step - loss: 0.1754 - accuracy: 0.9310 - f1_m: 0.9310 - precision_m: 0.9596 - recall_m: 0.9042 - val_loss: 0.5104 - val_accuracy: 0.8304 - val_f1_m: 0.8379 - val_precision_m: 0.8642 - val_recall_m: 0.8136\n",
            "Epoch 102/150\n",
            "87/87 [==============================] - 8s 94ms/step - loss: 0.1725 - accuracy: 0.9340 - f1_m: 0.9329 - precision_m: 0.9627 - recall_m: 0.9052 - val_loss: 0.6522 - val_accuracy: 0.8060 - val_f1_m: 0.8123 - val_precision_m: 0.8429 - val_recall_m: 0.7847\n",
            "Epoch 103/150\n",
            "87/87 [==============================] - 8s 94ms/step - loss: 0.1727 - accuracy: 0.9366 - f1_m: 0.9329 - precision_m: 0.9623 - recall_m: 0.9055 - val_loss: 0.5131 - val_accuracy: 0.8422 - val_f1_m: 0.8500 - val_precision_m: 0.8805 - val_recall_m: 0.8224\n",
            "Epoch 104/150\n",
            "87/87 [==============================] - 8s 94ms/step - loss: 0.1707 - accuracy: 0.9333 - f1_m: 0.9342 - precision_m: 0.9618 - recall_m: 0.9083 - val_loss: 0.4879 - val_accuracy: 0.8414 - val_f1_m: 0.8456 - val_precision_m: 0.8758 - val_recall_m: 0.8181\n",
            "Epoch 105/150\n",
            "87/87 [==============================] - 8s 94ms/step - loss: 0.1689 - accuracy: 0.9372 - f1_m: 0.9371 - precision_m: 0.9652 - recall_m: 0.9107 - val_loss: 0.7267 - val_accuracy: 0.7972 - val_f1_m: 0.8018 - val_precision_m: 0.8322 - val_recall_m: 0.7743\n",
            "Epoch 106/150\n",
            "87/87 [==============================] - 8s 94ms/step - loss: 0.1717 - accuracy: 0.9351 - f1_m: 0.9341 - precision_m: 0.9624 - recall_m: 0.9077 - val_loss: 0.6395 - val_accuracy: 0.8171 - val_f1_m: 0.8156 - val_precision_m: 0.8446 - val_recall_m: 0.7890\n",
            "Epoch 107/150\n",
            "87/87 [==============================] - 8s 94ms/step - loss: 0.1707 - accuracy: 0.9355 - f1_m: 0.9358 - precision_m: 0.9630 - recall_m: 0.9102 - val_loss: 0.4659 - val_accuracy: 0.8473 - val_f1_m: 0.8557 - val_precision_m: 0.8817 - val_recall_m: 0.8318\n",
            "Epoch 108/150\n",
            "87/87 [==============================] - 8s 94ms/step - loss: 0.1683 - accuracy: 0.9373 - f1_m: 0.9359 - precision_m: 0.9638 - recall_m: 0.9098 - val_loss: 0.4952 - val_accuracy: 0.8437 - val_f1_m: 0.8476 - val_precision_m: 0.8733 - val_recall_m: 0.8241\n",
            "Epoch 109/150\n",
            "87/87 [==============================] - 8s 95ms/step - loss: 0.1675 - accuracy: 0.9356 - f1_m: 0.9354 - precision_m: 0.9619 - recall_m: 0.9107 - val_loss: 0.4793 - val_accuracy: 0.8392 - val_f1_m: 0.8494 - val_precision_m: 0.8746 - val_recall_m: 0.8262\n",
            "Epoch 110/150\n",
            "87/87 [==============================] - 8s 94ms/step - loss: 0.1647 - accuracy: 0.9416 - f1_m: 0.9390 - precision_m: 0.9663 - recall_m: 0.9135 - val_loss: 1.2539 - val_accuracy: 0.6917 - val_f1_m: 0.6931 - val_precision_m: 0.7189 - val_recall_m: 0.6695\n",
            "Epoch 111/150\n",
            "87/87 [==============================] - 8s 95ms/step - loss: 0.1647 - accuracy: 0.9382 - f1_m: 0.9370 - precision_m: 0.9628 - recall_m: 0.9127 - val_loss: 0.6372 - val_accuracy: 0.8245 - val_f1_m: 0.8281 - val_precision_m: 0.8510 - val_recall_m: 0.8068\n",
            "Epoch 112/150\n",
            "87/87 [==============================] - 8s 94ms/step - loss: 0.1654 - accuracy: 0.9375 - f1_m: 0.9372 - precision_m: 0.9628 - recall_m: 0.9133 - val_loss: 0.5516 - val_accuracy: 0.8282 - val_f1_m: 0.8345 - val_precision_m: 0.8630 - val_recall_m: 0.8085\n",
            "Epoch 113/150\n",
            "87/87 [==============================] - 8s 95ms/step - loss: 0.1660 - accuracy: 0.9372 - f1_m: 0.9348 - precision_m: 0.9613 - recall_m: 0.9099 - val_loss: 0.4367 - val_accuracy: 0.8540 - val_f1_m: 0.8626 - val_precision_m: 0.8879 - val_recall_m: 0.8396\n",
            "Epoch 114/150\n",
            "87/87 [==============================] - 8s 94ms/step - loss: 0.1629 - accuracy: 0.9363 - f1_m: 0.9363 - precision_m: 0.9610 - recall_m: 0.9130 - val_loss: 0.9139 - val_accuracy: 0.7426 - val_f1_m: 0.7550 - val_precision_m: 0.7790 - val_recall_m: 0.7333\n",
            "Epoch 115/150\n",
            "87/87 [==============================] - 8s 94ms/step - loss: 0.1624 - accuracy: 0.9400 - f1_m: 0.9376 - precision_m: 0.9627 - recall_m: 0.9140 - val_loss: 1.2496 - val_accuracy: 0.7080 - val_f1_m: 0.7043 - val_precision_m: 0.7315 - val_recall_m: 0.6795\n",
            "Epoch 116/150\n",
            "87/87 [==============================] - 8s 94ms/step - loss: 0.1577 - accuracy: 0.9413 - f1_m: 0.9401 - precision_m: 0.9650 - recall_m: 0.9166 - val_loss: 0.7317 - val_accuracy: 0.7869 - val_f1_m: 0.7895 - val_precision_m: 0.8135 - val_recall_m: 0.7675\n",
            "Epoch 117/150\n",
            "87/87 [==============================] - 8s 94ms/step - loss: 0.1590 - accuracy: 0.9398 - f1_m: 0.9412 - precision_m: 0.9660 - recall_m: 0.9179 - val_loss: 0.5638 - val_accuracy: 0.8400 - val_f1_m: 0.8483 - val_precision_m: 0.8735 - val_recall_m: 0.8251\n",
            "Epoch 118/150\n",
            "87/87 [==============================] - 8s 95ms/step - loss: 0.1616 - accuracy: 0.9409 - f1_m: 0.9386 - precision_m: 0.9634 - recall_m: 0.9153 - val_loss: 0.5278 - val_accuracy: 0.8392 - val_f1_m: 0.8523 - val_precision_m: 0.8782 - val_recall_m: 0.8286\n",
            "Epoch 119/150\n",
            "87/87 [==============================] - 8s 94ms/step - loss: 0.1583 - accuracy: 0.9415 - f1_m: 0.9407 - precision_m: 0.9641 - recall_m: 0.9186 - val_loss: 0.5203 - val_accuracy: 0.8400 - val_f1_m: 0.8484 - val_precision_m: 0.8738 - val_recall_m: 0.8251\n",
            "Epoch 120/150\n",
            "87/87 [==============================] - 8s 95ms/step - loss: 0.1593 - accuracy: 0.9399 - f1_m: 0.9404 - precision_m: 0.9647 - recall_m: 0.9176 - val_loss: 0.4486 - val_accuracy: 0.8614 - val_f1_m: 0.8675 - val_precision_m: 0.8897 - val_recall_m: 0.8469\n",
            "Epoch 121/150\n",
            "87/87 [==============================] - 8s 94ms/step - loss: 0.1583 - accuracy: 0.9416 - f1_m: 0.9421 - precision_m: 0.9650 - recall_m: 0.9205 - val_loss: 0.5035 - val_accuracy: 0.8488 - val_f1_m: 0.8546 - val_precision_m: 0.8797 - val_recall_m: 0.8315\n",
            "Epoch 122/150\n",
            "87/87 [==============================] - 8s 95ms/step - loss: 0.1567 - accuracy: 0.9416 - f1_m: 0.9395 - precision_m: 0.9620 - recall_m: 0.9183 - val_loss: 0.5014 - val_accuracy: 0.8444 - val_f1_m: 0.8547 - val_precision_m: 0.8782 - val_recall_m: 0.8331\n",
            "Epoch 123/150\n",
            "87/87 [==============================] - 8s 94ms/step - loss: 0.1531 - accuracy: 0.9417 - f1_m: 0.9421 - precision_m: 0.9652 - recall_m: 0.9203 - val_loss: 0.8113 - val_accuracy: 0.8001 - val_f1_m: 0.8008 - val_precision_m: 0.8277 - val_recall_m: 0.7762\n",
            "Epoch 124/150\n",
            "87/87 [==============================] - 8s 95ms/step - loss: 0.1552 - accuracy: 0.9405 - f1_m: 0.9398 - precision_m: 0.9629 - recall_m: 0.9179 - val_loss: 0.5328 - val_accuracy: 0.8466 - val_f1_m: 0.8513 - val_precision_m: 0.8725 - val_recall_m: 0.8315\n",
            "Epoch 125/150\n",
            "87/87 [==============================] - 8s 95ms/step - loss: 0.1570 - accuracy: 0.9411 - f1_m: 0.9408 - precision_m: 0.9635 - recall_m: 0.9194 - val_loss: 0.4635 - val_accuracy: 0.8577 - val_f1_m: 0.8662 - val_precision_m: 0.8890 - val_recall_m: 0.8454\n",
            "Epoch 126/150\n",
            "87/87 [==============================] - 8s 95ms/step - loss: 0.1532 - accuracy: 0.9414 - f1_m: 0.9416 - precision_m: 0.9631 - recall_m: 0.9213 - val_loss: 0.7008 - val_accuracy: 0.8016 - val_f1_m: 0.8063 - val_precision_m: 0.8324 - val_recall_m: 0.7823\n",
            "Epoch 127/150\n",
            "87/87 [==============================] - 8s 94ms/step - loss: 0.1527 - accuracy: 0.9436 - f1_m: 0.9414 - precision_m: 0.9630 - recall_m: 0.9210 - val_loss: 0.4590 - val_accuracy: 0.8636 - val_f1_m: 0.8722 - val_precision_m: 0.8958 - val_recall_m: 0.8502\n",
            "Epoch 128/150\n",
            "87/87 [==============================] - 8s 95ms/step - loss: 0.1517 - accuracy: 0.9413 - f1_m: 0.9415 - precision_m: 0.9633 - recall_m: 0.9208 - val_loss: 0.4651 - val_accuracy: 0.8555 - val_f1_m: 0.8618 - val_precision_m: 0.8832 - val_recall_m: 0.8419\n",
            "Epoch 129/150\n",
            "87/87 [==============================] - 8s 95ms/step - loss: 0.1492 - accuracy: 0.9443 - f1_m: 0.9434 - precision_m: 0.9639 - recall_m: 0.9240 - val_loss: 0.5607 - val_accuracy: 0.8473 - val_f1_m: 0.8554 - val_precision_m: 0.8789 - val_recall_m: 0.8335\n",
            "Epoch 130/150\n",
            "87/87 [==============================] - 8s 95ms/step - loss: 0.1494 - accuracy: 0.9455 - f1_m: 0.9443 - precision_m: 0.9656 - recall_m: 0.9242 - val_loss: 0.7005 - val_accuracy: 0.8274 - val_f1_m: 0.8349 - val_precision_m: 0.8581 - val_recall_m: 0.8133\n",
            "Epoch 131/150\n",
            "87/87 [==============================] - 8s 95ms/step - loss: 0.1524 - accuracy: 0.9430 - f1_m: 0.9431 - precision_m: 0.9642 - recall_m: 0.9232 - val_loss: 0.6594 - val_accuracy: 0.7883 - val_f1_m: 0.7923 - val_precision_m: 0.8189 - val_recall_m: 0.7683\n",
            "Epoch 132/150\n",
            "87/87 [==============================] - 8s 95ms/step - loss: 0.1498 - accuracy: 0.9440 - f1_m: 0.9434 - precision_m: 0.9640 - recall_m: 0.9238 - val_loss: 0.6103 - val_accuracy: 0.8289 - val_f1_m: 0.8329 - val_precision_m: 0.8568 - val_recall_m: 0.8108\n",
            "Epoch 133/150\n",
            "87/87 [==============================] - 8s 95ms/step - loss: 0.1475 - accuracy: 0.9451 - f1_m: 0.9441 - precision_m: 0.9652 - recall_m: 0.9242 - val_loss: 0.5998 - val_accuracy: 0.8319 - val_f1_m: 0.8354 - val_precision_m: 0.8585 - val_recall_m: 0.8140\n",
            "Epoch 134/150\n",
            "87/87 [==============================] - 8s 95ms/step - loss: 0.1452 - accuracy: 0.9465 - f1_m: 0.9471 - precision_m: 0.9672 - recall_m: 0.9280 - val_loss: 0.6048 - val_accuracy: 0.8245 - val_f1_m: 0.8275 - val_precision_m: 0.8512 - val_recall_m: 0.8054\n",
            "Epoch 135/150\n",
            "87/87 [==============================] - 8s 96ms/step - loss: 0.1430 - accuracy: 0.9459 - f1_m: 0.9453 - precision_m: 0.9652 - recall_m: 0.9264 - val_loss: 0.7437 - val_accuracy: 0.7935 - val_f1_m: 0.7994 - val_precision_m: 0.8222 - val_recall_m: 0.7784\n",
            "Epoch 136/150\n",
            "87/87 [==============================] - 8s 95ms/step - loss: 0.1455 - accuracy: 0.9459 - f1_m: 0.9448 - precision_m: 0.9640 - recall_m: 0.9264 - val_loss: 0.6955 - val_accuracy: 0.8208 - val_f1_m: 0.8232 - val_precision_m: 0.8485 - val_recall_m: 0.7996\n",
            "Epoch 137/150\n",
            "87/87 [==============================] - 8s 94ms/step - loss: 0.1447 - accuracy: 0.9444 - f1_m: 0.9449 - precision_m: 0.9641 - recall_m: 0.9268 - val_loss: 0.5529 - val_accuracy: 0.8341 - val_f1_m: 0.8416 - val_precision_m: 0.8611 - val_recall_m: 0.8232\n",
            "Epoch 138/150\n",
            "87/87 [==============================] - 8s 95ms/step - loss: 0.1464 - accuracy: 0.9447 - f1_m: 0.9448 - precision_m: 0.9644 - recall_m: 0.9261 - val_loss: 0.5009 - val_accuracy: 0.8451 - val_f1_m: 0.8526 - val_precision_m: 0.8762 - val_recall_m: 0.8307\n",
            "Epoch 139/150\n",
            "87/87 [==============================] - 8s 96ms/step - loss: 0.1443 - accuracy: 0.9464 - f1_m: 0.9440 - precision_m: 0.9638 - recall_m: 0.9253 - val_loss: 0.5302 - val_accuracy: 0.8555 - val_f1_m: 0.8594 - val_precision_m: 0.8828 - val_recall_m: 0.8378\n",
            "Epoch 140/150\n",
            "87/87 [==============================] - 8s 95ms/step - loss: 0.1404 - accuracy: 0.9465 - f1_m: 0.9455 - precision_m: 0.9649 - recall_m: 0.9270 - val_loss: 0.4439 - val_accuracy: 0.8717 - val_f1_m: 0.8752 - val_precision_m: 0.8963 - val_recall_m: 0.8558\n",
            "Epoch 141/150\n",
            "87/87 [==============================] - 8s 95ms/step - loss: 0.1412 - accuracy: 0.9471 - f1_m: 0.9452 - precision_m: 0.9637 - recall_m: 0.9275 - val_loss: 0.5493 - val_accuracy: 0.8378 - val_f1_m: 0.8447 - val_precision_m: 0.8685 - val_recall_m: 0.8228\n",
            "Epoch 142/150\n",
            "87/87 [==============================] - 8s 95ms/step - loss: 0.1453 - accuracy: 0.9473 - f1_m: 0.9478 - precision_m: 0.9665 - recall_m: 0.9301 - val_loss: 0.5948 - val_accuracy: 0.8385 - val_f1_m: 0.8433 - val_precision_m: 0.8670 - val_recall_m: 0.8211\n",
            "Epoch 143/150\n",
            "87/87 [==============================] - 8s 95ms/step - loss: 0.1395 - accuracy: 0.9467 - f1_m: 0.9466 - precision_m: 0.9650 - recall_m: 0.9291 - val_loss: 0.7435 - val_accuracy: 0.8245 - val_f1_m: 0.8281 - val_precision_m: 0.8505 - val_recall_m: 0.8074\n",
            "Epoch 144/150\n",
            "87/87 [==============================] - 8s 96ms/step - loss: 0.1455 - accuracy: 0.9462 - f1_m: 0.9463 - precision_m: 0.9637 - recall_m: 0.9298 - val_loss: 1.0293 - val_accuracy: 0.7345 - val_f1_m: 0.7334 - val_precision_m: 0.7573 - val_recall_m: 0.7115\n",
            "Epoch 145/150\n",
            "87/87 [==============================] - 8s 96ms/step - loss: 0.1393 - accuracy: 0.9495 - f1_m: 0.9491 - precision_m: 0.9674 - recall_m: 0.9318 - val_loss: 0.5679 - val_accuracy: 0.8304 - val_f1_m: 0.8305 - val_precision_m: 0.8501 - val_recall_m: 0.8124\n",
            "Epoch 146/150\n",
            "87/87 [==============================] - 8s 96ms/step - loss: 0.1391 - accuracy: 0.9473 - f1_m: 0.9463 - precision_m: 0.9636 - recall_m: 0.9297 - val_loss: 0.6452 - val_accuracy: 0.7957 - val_f1_m: 0.8049 - val_precision_m: 0.8275 - val_recall_m: 0.7841\n",
            "Epoch 147/150\n",
            "87/87 [==============================] - 8s 96ms/step - loss: 0.1406 - accuracy: 0.9477 - f1_m: 0.9474 - precision_m: 0.9650 - recall_m: 0.9305 - val_loss: 0.7675 - val_accuracy: 0.7957 - val_f1_m: 0.7978 - val_precision_m: 0.8196 - val_recall_m: 0.7776\n",
            "Epoch 148/150\n",
            "87/87 [==============================] - 8s 96ms/step - loss: 0.1390 - accuracy: 0.9500 - f1_m: 0.9487 - precision_m: 0.9665 - recall_m: 0.9318 - val_loss: 0.5119 - val_accuracy: 0.8532 - val_f1_m: 0.8613 - val_precision_m: 0.8803 - val_recall_m: 0.8434\n",
            "Epoch 149/150\n",
            "87/87 [==============================] - 8s 96ms/step - loss: 0.1372 - accuracy: 0.9509 - f1_m: 0.9486 - precision_m: 0.9656 - recall_m: 0.9325 - val_loss: 0.6621 - val_accuracy: 0.8090 - val_f1_m: 0.8164 - val_precision_m: 0.8341 - val_recall_m: 0.7998\n",
            "Epoch 150/150\n",
            "87/87 [==============================] - 8s 96ms/step - loss: 0.1369 - accuracy: 0.9493 - f1_m: 0.9484 - precision_m: 0.9652 - recall_m: 0.9324 - val_loss: 0.5371 - val_accuracy: 0.8444 - val_f1_m: 0.8527 - val_precision_m: 0.8749 - val_recall_m: 0.8319\n"
          ]
        }
      ],
      "source": [
        "UCIhistory = UCIDatamodel.fit(UCIhalf_trainFFT, UCItrainY, epochs = 150, batch_size = 100, validation_data = (UCIhalf_valFFT, UCIvalY))"
      ]
    },
    {
      "cell_type": "code",
      "source": [
        "print(UCIhistory.history.keys())"
      ],
      "metadata": {
        "colab": {
          "base_uri": "https://localhost:8080/"
        },
        "id": "bA8eIK_T4MbA",
        "outputId": "6f3dff12-fb2f-46bc-f406-d2dc1b128795"
      },
      "execution_count": null,
      "outputs": [
        {
          "output_type": "stream",
          "name": "stdout",
          "text": [
            "dict_keys(['loss', 'accuracy', 'f1_m', 'precision_m', 'recall_m', 'val_loss', 'val_accuracy', 'val_f1_m', 'val_precision_m', 'val_recall_m'])\n"
          ]
        }
      ]
    },
    {
      "cell_type": "code",
      "source": [
        "import matplotlib.pyplot as plt\n",
        "def plotmetrics(fitMetrics):\n",
        "  plt.subplot(4,2,1)\n",
        "  plt.plot(fitMetrics.history['accuracy'])\n",
        "  plt.xlabel('epochs')\n",
        "  plt.ylabel('accuracy')\n",
        "  plt.title('accuracy')\n",
        "\n",
        "  plt.subplot(4,2,2)\n",
        "  plt.plot(fitMetrics.history['loss'])\n",
        "  plt.xlabel('epochs')\n",
        "  plt.ylabel('loss')\n",
        "  plt.title('loss')\n",
        "\n",
        "  plt.subplot(4,2,3)\n",
        "  plt.plot(fitMetrics.history['val_accuracy'])\n",
        "  plt.xlabel('epochs')\n",
        "  plt.ylabel('val_accuracy')\n",
        "  plt.title('val_accuracy')\n",
        "\n",
        "  plt.subplot(4,2,4)\n",
        "  plt.plot(fitMetrics.history['val_loss'])\n",
        "  plt.xlabel('epochs')\n",
        "  plt.ylabel('val_loss')\n",
        "  plt.title('val_loss')\n",
        "\n",
        "  plt.subplot(4,2,5)\n",
        "  plt.plot(fitMetrics.history['f1_m'])\n",
        "  plt.xlabel('epochs')\n",
        "  plt.ylabel('f1_m')\n",
        "  plt.title('f1_m')\n",
        "\n",
        "  plt.subplot(4,2,6)\n",
        "  plt.plot(fitMetrics.history['precision_m'])\n",
        "  plt.xlabel('epochs')\n",
        "  plt.ylabel('precision_m')\n",
        "  plt.title('precision_m')\n",
        "\n",
        "  plt.subplot(4,2,7)\n",
        "  plt.plot(fitMetrics.history['recall_m'])\n",
        "  plt.xlabel('epochs')\n",
        "  plt.ylabel('recall_m')\n",
        "  plt.title('recall_m')\n",
        "  plt.show()"
      ],
      "metadata": {
        "id": "A-w_KVv14Pmz"
      },
      "execution_count": null,
      "outputs": []
    },
    {
      "cell_type": "code",
      "source": [
        "plotmetrics(UCIhistory)"
      ],
      "metadata": {
        "colab": {
          "base_uri": "https://localhost:8080/",
          "height": 295
        },
        "id": "9GplmObzLP-X",
        "outputId": "9a4dc321-dc39-461c-baad-db3fa9582924"
      },
      "execution_count": null,
      "outputs": [
        {
          "output_type": "display_data",
          "data": {
            "image/png": "[encoded data removed]",
            "text/plain": [
              "<Figure size 432x288 with 7 Axes>"
            ]
          },
          "metadata": {
            "needs_background": "light"
          }
        }
      ]
    },
    {
      "cell_type": "code",
      "source": [
        "def save_model_history(model,historypath,historymetric,modelpath):\n",
        "  with open(historypath, 'wb') as file_pi:\n",
        "          pickle.dump(historymetric.history, file_pi)\n",
        "  model.save(modelpath+model_name[0])         "
      ],
      "metadata": {
        "id": "W4qdPsNlPx7i"
      },
      "execution_count": null,
      "outputs": []
    },
    {
      "cell_type": "markdown",
      "source": [
        "UCI LSTM_CNN"
      ],
      "metadata": {
        "id": "sT-00-cgYMmG"
      }
    },
    {
      "cell_type": "code",
      "source": [
        "UCI_LSTM_CNN = UCImodels['LSTM_CNN'].fit(UCIhalf_trainFFT, UCItrainY, epochs = 150, batch_size = 100, validation_data = (UCIhalf_valFFT, UCIvalY))"
      ],
      "metadata": {
        "colab": {
          "base_uri": "https://localhost:8080/"
        },
        "id": "psdd3-X8YObS",
        "outputId": "372b6fa1-e107-4080-aab5-1d21d9d9a18a"
      },
      "execution_count": null,
      "outputs": [
        {
          "output_type": "stream",
          "name": "stdout",
          "text": [
            "Epoch 1/150\n",
            "87/87 [==============================] - 18s 110ms/step - loss: 1.6647 - accuracy: 0.2973 - f1_m: 0.0155 - precision_m: 0.0819 - recall_m: 0.0094 - val_loss: 1.3737 - val_accuracy: 0.3245 - val_f1_m: 0.1990 - val_precision_m: 0.3193 - val_recall_m: 0.1557\n",
            "Epoch 2/150\n",
            "87/87 [==============================] - 8s 87ms/step - loss: 1.1159 - accuracy: 0.4908 - f1_m: 0.3427 - precision_m: 0.5685 - recall_m: 0.2634 - val_loss: 1.1567 - val_accuracy: 0.5229 - val_f1_m: 0.5274 - val_precision_m: 0.6072 - val_recall_m: 0.4731\n",
            "Epoch 3/150\n",
            "87/87 [==============================] - 8s 88ms/step - loss: 0.8968 - accuracy: 0.6003 - f1_m: 0.5831 - precision_m: 0.6965 - recall_m: 0.5046 - val_loss: 0.8969 - val_accuracy: 0.6541 - val_f1_m: 0.6391 - val_precision_m: 0.7291 - val_recall_m: 0.5730\n",
            "Epoch 4/150\n",
            "87/87 [==============================] - 8s 89ms/step - loss: 0.7693 - accuracy: 0.6946 - f1_m: 0.6963 - precision_m: 0.7616 - recall_m: 0.6426 - val_loss: 0.8025 - val_accuracy: 0.7006 - val_f1_m: 0.6969 - val_precision_m: 0.7356 - val_recall_m: 0.6629\n",
            "Epoch 5/150\n",
            "87/87 [==============================] - 8s 88ms/step - loss: 0.6738 - accuracy: 0.7581 - f1_m: 0.7667 - precision_m: 0.8141 - recall_m: 0.7253 - val_loss: 0.8330 - val_accuracy: 0.6910 - val_f1_m: 0.6946 - val_precision_m: 0.7318 - val_recall_m: 0.6616\n",
            "Epoch 6/150\n",
            "87/87 [==============================] - 8s 88ms/step - loss: 0.5740 - accuracy: 0.8012 - f1_m: 0.8140 - precision_m: 0.8561 - recall_m: 0.7764 - val_loss: 0.9056 - val_accuracy: 0.7286 - val_f1_m: 0.7206 - val_precision_m: 0.7466 - val_recall_m: 0.6970\n",
            "Epoch 7/150\n",
            "87/87 [==============================] - 8s 87ms/step - loss: 0.5140 - accuracy: 0.8240 - f1_m: 0.8364 - precision_m: 0.8786 - recall_m: 0.7984 - val_loss: 0.9532 - val_accuracy: 0.7146 - val_f1_m: 0.7138 - val_precision_m: 0.7504 - val_recall_m: 0.6812\n",
            "Epoch 8/150\n",
            "87/87 [==============================] - 8s 88ms/step - loss: 0.4753 - accuracy: 0.8416 - f1_m: 0.8544 - precision_m: 0.8969 - recall_m: 0.8162 - val_loss: 0.6220 - val_accuracy: 0.7935 - val_f1_m: 0.7991 - val_precision_m: 0.8358 - val_recall_m: 0.7659\n",
            "Epoch 9/150\n",
            "87/87 [==============================] - 8s 87ms/step - loss: 0.4389 - accuracy: 0.8596 - f1_m: 0.8717 - precision_m: 0.9118 - recall_m: 0.8354 - val_loss: 0.7650 - val_accuracy: 0.7596 - val_f1_m: 0.7544 - val_precision_m: 0.8018 - val_recall_m: 0.7143\n",
            "Epoch 10/150\n",
            "87/87 [==============================] - 8s 88ms/step - loss: 0.3972 - accuracy: 0.8642 - f1_m: 0.8747 - precision_m: 0.9143 - recall_m: 0.8388 - val_loss: 0.9830 - val_accuracy: 0.7006 - val_f1_m: 0.7028 - val_precision_m: 0.7399 - val_recall_m: 0.6699\n",
            "Epoch 11/150\n",
            "87/87 [==============================] - 8s 87ms/step - loss: 0.3835 - accuracy: 0.8712 - f1_m: 0.8824 - precision_m: 0.9225 - recall_m: 0.8459 - val_loss: 0.5382 - val_accuracy: 0.8068 - val_f1_m: 0.8130 - val_precision_m: 0.8519 - val_recall_m: 0.7779\n",
            "Epoch 12/150\n",
            "87/87 [==============================] - 8s 88ms/step - loss: 0.3613 - accuracy: 0.8777 - f1_m: 0.8863 - precision_m: 0.9267 - recall_m: 0.8496 - val_loss: 1.1650 - val_accuracy: 0.7257 - val_f1_m: 0.7281 - val_precision_m: 0.7605 - val_recall_m: 0.6990\n",
            "Epoch 13/150\n",
            "87/87 [==============================] - 8s 87ms/step - loss: 0.3361 - accuracy: 0.8888 - f1_m: 0.8936 - precision_m: 0.9322 - recall_m: 0.8586 - val_loss: 0.5193 - val_accuracy: 0.8142 - val_f1_m: 0.8226 - val_precision_m: 0.8674 - val_recall_m: 0.7833\n",
            "Epoch 14/150\n",
            "87/87 [==============================] - 8s 88ms/step - loss: 0.3266 - accuracy: 0.8903 - f1_m: 0.8941 - precision_m: 0.9341 - recall_m: 0.8577 - val_loss: 0.7783 - val_accuracy: 0.7810 - val_f1_m: 0.7862 - val_precision_m: 0.8179 - val_recall_m: 0.7572\n",
            "Epoch 15/150\n",
            "87/87 [==============================] - 8s 88ms/step - loss: 0.3171 - accuracy: 0.8913 - f1_m: 0.8973 - precision_m: 0.9346 - recall_m: 0.8633 - val_loss: 0.7187 - val_accuracy: 0.7758 - val_f1_m: 0.7751 - val_precision_m: 0.8068 - val_recall_m: 0.7465\n",
            "Epoch 16/150\n",
            "87/87 [==============================] - 8s 87ms/step - loss: 0.3044 - accuracy: 0.8938 - f1_m: 0.8999 - precision_m: 0.9369 - recall_m: 0.8661 - val_loss: 0.6439 - val_accuracy: 0.8053 - val_f1_m: 0.7992 - val_precision_m: 0.8326 - val_recall_m: 0.7688\n",
            "Epoch 17/150\n",
            "87/87 [==============================] - 8s 87ms/step - loss: 0.2922 - accuracy: 0.9002 - f1_m: 0.9053 - precision_m: 0.9428 - recall_m: 0.8711 - val_loss: 0.9540 - val_accuracy: 0.7412 - val_f1_m: 0.7540 - val_precision_m: 0.7836 - val_recall_m: 0.7274\n",
            "Epoch 18/150\n",
            "87/87 [==============================] - 8s 87ms/step - loss: 0.2846 - accuracy: 0.9018 - f1_m: 0.9048 - precision_m: 0.9393 - recall_m: 0.8730 - val_loss: 0.7114 - val_accuracy: 0.8164 - val_f1_m: 0.8167 - val_precision_m: 0.8469 - val_recall_m: 0.7891\n",
            "Epoch 19/150\n",
            "87/87 [==============================] - 8s 88ms/step - loss: 0.2731 - accuracy: 0.9035 - f1_m: 0.9069 - precision_m: 0.9427 - recall_m: 0.8741 - val_loss: 0.9748 - val_accuracy: 0.7227 - val_f1_m: 0.7387 - val_precision_m: 0.7640 - val_recall_m: 0.7158\n",
            "Epoch 20/150\n",
            "87/87 [==============================] - 8s 87ms/step - loss: 0.2623 - accuracy: 0.9073 - f1_m: 0.9108 - precision_m: 0.9439 - recall_m: 0.8802 - val_loss: 0.5796 - val_accuracy: 0.8060 - val_f1_m: 0.8130 - val_precision_m: 0.8459 - val_recall_m: 0.7833\n",
            "Epoch 21/150\n",
            "87/87 [==============================] - 8s 88ms/step - loss: 0.2622 - accuracy: 0.9046 - f1_m: 0.9084 - precision_m: 0.9403 - recall_m: 0.8791 - val_loss: 1.0355 - val_accuracy: 0.7507 - val_f1_m: 0.7456 - val_precision_m: 0.7744 - val_recall_m: 0.7194\n",
            "Epoch 22/150\n",
            "87/87 [==============================] - 8s 88ms/step - loss: 0.2529 - accuracy: 0.9088 - f1_m: 0.9149 - precision_m: 0.9453 - recall_m: 0.8867 - val_loss: 0.5193 - val_accuracy: 0.8223 - val_f1_m: 0.8260 - val_precision_m: 0.8458 - val_recall_m: 0.8073\n",
            "Epoch 23/150\n",
            "87/87 [==============================] - 8s 88ms/step - loss: 0.2452 - accuracy: 0.9123 - f1_m: 0.9159 - precision_m: 0.9464 - recall_m: 0.8876 - val_loss: 0.4692 - val_accuracy: 0.8414 - val_f1_m: 0.8429 - val_precision_m: 0.8689 - val_recall_m: 0.8190\n",
            "Epoch 24/150\n",
            "87/87 [==============================] - 8s 87ms/step - loss: 0.2411 - accuracy: 0.9136 - f1_m: 0.9161 - precision_m: 0.9472 - recall_m: 0.8874 - val_loss: 0.5524 - val_accuracy: 0.8193 - val_f1_m: 0.8240 - val_precision_m: 0.8605 - val_recall_m: 0.7912\n",
            "Epoch 25/150\n",
            "87/87 [==============================] - 8s 89ms/step - loss: 0.2363 - accuracy: 0.9141 - f1_m: 0.9189 - precision_m: 0.9482 - recall_m: 0.8917 - val_loss: 0.4082 - val_accuracy: 0.8621 - val_f1_m: 0.8670 - val_precision_m: 0.9015 - val_recall_m: 0.8356\n",
            "Epoch 26/150\n",
            "87/87 [==============================] - 8s 88ms/step - loss: 0.2257 - accuracy: 0.9177 - f1_m: 0.9204 - precision_m: 0.9508 - recall_m: 0.8923 - val_loss: 0.7777 - val_accuracy: 0.7515 - val_f1_m: 0.7524 - val_precision_m: 0.7875 - val_recall_m: 0.7208\n",
            "Epoch 27/150\n",
            "87/87 [==============================] - 8s 88ms/step - loss: 0.2300 - accuracy: 0.9159 - f1_m: 0.9193 - precision_m: 0.9473 - recall_m: 0.8932 - val_loss: 0.5301 - val_accuracy: 0.8260 - val_f1_m: 0.8280 - val_precision_m: 0.8524 - val_recall_m: 0.8054\n",
            "Epoch 28/150\n",
            "87/87 [==============================] - 8s 87ms/step - loss: 0.2246 - accuracy: 0.9194 - f1_m: 0.9198 - precision_m: 0.9447 - recall_m: 0.8966 - val_loss: 0.4697 - val_accuracy: 0.8451 - val_f1_m: 0.8430 - val_precision_m: 0.8723 - val_recall_m: 0.8163\n",
            "Epoch 29/150\n",
            "87/87 [==============================] - 8s 88ms/step - loss: 0.2130 - accuracy: 0.9233 - f1_m: 0.9241 - precision_m: 0.9505 - recall_m: 0.8993 - val_loss: 0.5269 - val_accuracy: 0.8319 - val_f1_m: 0.8414 - val_precision_m: 0.8586 - val_recall_m: 0.8251\n",
            "Epoch 30/150\n",
            "87/87 [==============================] - 8s 87ms/step - loss: 0.2195 - accuracy: 0.9197 - f1_m: 0.9219 - precision_m: 0.9461 - recall_m: 0.8992 - val_loss: 0.5848 - val_accuracy: 0.8060 - val_f1_m: 0.8089 - val_precision_m: 0.8379 - val_recall_m: 0.7819\n",
            "Epoch 31/150\n",
            "87/87 [==============================] - 8s 89ms/step - loss: 0.2075 - accuracy: 0.9217 - f1_m: 0.9266 - precision_m: 0.9498 - recall_m: 0.9047 - val_loss: 0.4945 - val_accuracy: 0.8451 - val_f1_m: 0.8441 - val_precision_m: 0.8692 - val_recall_m: 0.8209\n",
            "Epoch 32/150\n",
            "87/87 [==============================] - 8s 87ms/step - loss: 0.2117 - accuracy: 0.9253 - f1_m: 0.9272 - precision_m: 0.9489 - recall_m: 0.9067 - val_loss: 0.5583 - val_accuracy: 0.8363 - val_f1_m: 0.8321 - val_precision_m: 0.8437 - val_recall_m: 0.8209\n",
            "Epoch 33/150\n",
            "87/87 [==============================] - 8s 88ms/step - loss: 0.2041 - accuracy: 0.9243 - f1_m: 0.9250 - precision_m: 0.9468 - recall_m: 0.9045 - val_loss: 0.4018 - val_accuracy: 0.8540 - val_f1_m: 0.8551 - val_precision_m: 0.8708 - val_recall_m: 0.8401\n",
            "Epoch 34/150\n",
            "87/87 [==============================] - 8s 87ms/step - loss: 0.2035 - accuracy: 0.9259 - f1_m: 0.9274 - precision_m: 0.9488 - recall_m: 0.9072 - val_loss: 0.4296 - val_accuracy: 0.8599 - val_f1_m: 0.8644 - val_precision_m: 0.8879 - val_recall_m: 0.8424\n",
            "Epoch 35/150\n",
            "87/87 [==============================] - 8s 89ms/step - loss: 0.1945 - accuracy: 0.9310 - f1_m: 0.9305 - precision_m: 0.9521 - recall_m: 0.9103 - val_loss: 0.4633 - val_accuracy: 0.8525 - val_f1_m: 0.8572 - val_precision_m: 0.8719 - val_recall_m: 0.8432\n",
            "Epoch 36/150\n",
            "87/87 [==============================] - 8s 88ms/step - loss: 0.1902 - accuracy: 0.9303 - f1_m: 0.9319 - precision_m: 0.9500 - recall_m: 0.9146 - val_loss: 0.5856 - val_accuracy: 0.8149 - val_f1_m: 0.8090 - val_precision_m: 0.8248 - val_recall_m: 0.7940\n",
            "Epoch 37/150\n",
            "87/87 [==============================] - 8s 88ms/step - loss: 0.1883 - accuracy: 0.9310 - f1_m: 0.9322 - precision_m: 0.9517 - recall_m: 0.9138 - val_loss: 0.4398 - val_accuracy: 0.8680 - val_f1_m: 0.8627 - val_precision_m: 0.8769 - val_recall_m: 0.8491\n",
            "Epoch 38/150\n",
            "87/87 [==============================] - 8s 88ms/step - loss: 0.1870 - accuracy: 0.9311 - f1_m: 0.9326 - precision_m: 0.9492 - recall_m: 0.9167 - val_loss: 0.3690 - val_accuracy: 0.8805 - val_f1_m: 0.8849 - val_precision_m: 0.9002 - val_recall_m: 0.8702\n",
            "Epoch 39/150\n",
            "87/87 [==============================] - 8s 88ms/step - loss: 0.1867 - accuracy: 0.9322 - f1_m: 0.9342 - precision_m: 0.9493 - recall_m: 0.9197 - val_loss: 0.3769 - val_accuracy: 0.8813 - val_f1_m: 0.8838 - val_precision_m: 0.8945 - val_recall_m: 0.8737\n",
            "Epoch 40/150\n",
            "87/87 [==============================] - 8s 87ms/step - loss: 0.1802 - accuracy: 0.9320 - f1_m: 0.9319 - precision_m: 0.9450 - recall_m: 0.9192 - val_loss: 0.7214 - val_accuracy: 0.8171 - val_f1_m: 0.8161 - val_precision_m: 0.8356 - val_recall_m: 0.7980\n",
            "Epoch 41/150\n",
            "87/87 [==============================] - 8s 87ms/step - loss: 0.1774 - accuracy: 0.9358 - f1_m: 0.9353 - precision_m: 0.9496 - recall_m: 0.9216 - val_loss: 0.4506 - val_accuracy: 0.8673 - val_f1_m: 0.8638 - val_precision_m: 0.8733 - val_recall_m: 0.8546\n",
            "Epoch 42/150\n",
            "87/87 [==============================] - 8s 87ms/step - loss: 0.1769 - accuracy: 0.9347 - f1_m: 0.9358 - precision_m: 0.9487 - recall_m: 0.9233 - val_loss: 0.5267 - val_accuracy: 0.8569 - val_f1_m: 0.8505 - val_precision_m: 0.8603 - val_recall_m: 0.8410\n",
            "Epoch 43/150\n",
            "87/87 [==============================] - 8s 87ms/step - loss: 0.1674 - accuracy: 0.9392 - f1_m: 0.9396 - precision_m: 0.9518 - recall_m: 0.9279 - val_loss: 0.6234 - val_accuracy: 0.8326 - val_f1_m: 0.8367 - val_precision_m: 0.8440 - val_recall_m: 0.8296\n",
            "Epoch 44/150\n",
            "87/87 [==============================] - 8s 88ms/step - loss: 0.1717 - accuracy: 0.9390 - f1_m: 0.9407 - precision_m: 0.9513 - recall_m: 0.9303 - val_loss: 0.4718 - val_accuracy: 0.8510 - val_f1_m: 0.8503 - val_precision_m: 0.8594 - val_recall_m: 0.8415\n",
            "Epoch 45/150\n",
            "87/87 [==============================] - 8s 87ms/step - loss: 0.1748 - accuracy: 0.9415 - f1_m: 0.9427 - precision_m: 0.9530 - recall_m: 0.9326 - val_loss: 0.6660 - val_accuracy: 0.8245 - val_f1_m: 0.8282 - val_precision_m: 0.8381 - val_recall_m: 0.8186\n",
            "Epoch 46/150\n",
            "87/87 [==============================] - 8s 87ms/step - loss: 0.1711 - accuracy: 0.9416 - f1_m: 0.9419 - precision_m: 0.9522 - recall_m: 0.9320 - val_loss: 0.5447 - val_accuracy: 0.8341 - val_f1_m: 0.8371 - val_precision_m: 0.8468 - val_recall_m: 0.8278\n",
            "Epoch 47/150\n",
            "87/87 [==============================] - 8s 89ms/step - loss: 0.1682 - accuracy: 0.9382 - f1_m: 0.9385 - precision_m: 0.9490 - recall_m: 0.9285 - val_loss: 0.4626 - val_accuracy: 0.8636 - val_f1_m: 0.8615 - val_precision_m: 0.8744 - val_recall_m: 0.8490\n",
            "Epoch 48/150\n",
            "87/87 [==============================] - 8s 88ms/step - loss: 0.1647 - accuracy: 0.9406 - f1_m: 0.9403 - precision_m: 0.9494 - recall_m: 0.9314 - val_loss: 0.6247 - val_accuracy: 0.8119 - val_f1_m: 0.8167 - val_precision_m: 0.8291 - val_recall_m: 0.8048\n",
            "Epoch 49/150\n",
            "87/87 [==============================] - 8s 89ms/step - loss: 0.1600 - accuracy: 0.9435 - f1_m: 0.9446 - precision_m: 0.9547 - recall_m: 0.9348 - val_loss: 0.6097 - val_accuracy: 0.8296 - val_f1_m: 0.8304 - val_precision_m: 0.8379 - val_recall_m: 0.8231\n",
            "Epoch 50/150\n",
            "87/87 [==============================] - 8s 88ms/step - loss: 0.1538 - accuracy: 0.9457 - f1_m: 0.9468 - precision_m: 0.9562 - recall_m: 0.9376 - val_loss: 0.6429 - val_accuracy: 0.8348 - val_f1_m: 0.8353 - val_precision_m: 0.8465 - val_recall_m: 0.8245\n",
            "Epoch 51/150\n",
            "87/87 [==============================] - 8s 89ms/step - loss: 0.1520 - accuracy: 0.9445 - f1_m: 0.9446 - precision_m: 0.9525 - recall_m: 0.9369 - val_loss: 0.4659 - val_accuracy: 0.8724 - val_f1_m: 0.8734 - val_precision_m: 0.8821 - val_recall_m: 0.8651\n",
            "Epoch 52/150\n",
            "87/87 [==============================] - 8s 88ms/step - loss: 0.1563 - accuracy: 0.9460 - f1_m: 0.9461 - precision_m: 0.9540 - recall_m: 0.9385 - val_loss: 0.5953 - val_accuracy: 0.8341 - val_f1_m: 0.8379 - val_precision_m: 0.8495 - val_recall_m: 0.8267\n",
            "Epoch 53/150\n",
            "87/87 [==============================] - 8s 88ms/step - loss: 0.1524 - accuracy: 0.9469 - f1_m: 0.9482 - precision_m: 0.9549 - recall_m: 0.9417 - val_loss: 0.5509 - val_accuracy: 0.8422 - val_f1_m: 0.8452 - val_precision_m: 0.8542 - val_recall_m: 0.8365\n",
            "Epoch 54/150\n",
            "87/87 [==============================] - 8s 87ms/step - loss: 0.1507 - accuracy: 0.9486 - f1_m: 0.9485 - precision_m: 0.9545 - recall_m: 0.9426 - val_loss: 0.5536 - val_accuracy: 0.8473 - val_f1_m: 0.8475 - val_precision_m: 0.8596 - val_recall_m: 0.8359\n",
            "Epoch 55/150\n",
            "87/87 [==============================] - 8s 88ms/step - loss: 0.1480 - accuracy: 0.9480 - f1_m: 0.9481 - precision_m: 0.9542 - recall_m: 0.9421 - val_loss: 0.6622 - val_accuracy: 0.8267 - val_f1_m: 0.8263 - val_precision_m: 0.8331 - val_recall_m: 0.8197\n",
            "Epoch 56/150\n",
            "87/87 [==============================] - 8s 87ms/step - loss: 0.1468 - accuracy: 0.9508 - f1_m: 0.9509 - precision_m: 0.9558 - recall_m: 0.9461 - val_loss: 0.5780 - val_accuracy: 0.8473 - val_f1_m: 0.8458 - val_precision_m: 0.8555 - val_recall_m: 0.8364\n",
            "Epoch 57/150\n",
            "87/87 [==============================] - 8s 88ms/step - loss: 0.1417 - accuracy: 0.9477 - f1_m: 0.9473 - precision_m: 0.9540 - recall_m: 0.9408 - val_loss: 1.5023 - val_accuracy: 0.7699 - val_f1_m: 0.7638 - val_precision_m: 0.7702 - val_recall_m: 0.7576\n",
            "Epoch 58/150\n",
            "87/87 [==============================] - 8s 87ms/step - loss: 0.1386 - accuracy: 0.9540 - f1_m: 0.9542 - precision_m: 0.9586 - recall_m: 0.9500 - val_loss: 0.4801 - val_accuracy: 0.8702 - val_f1_m: 0.8725 - val_precision_m: 0.8785 - val_recall_m: 0.8666\n",
            "Epoch 59/150\n",
            "87/87 [==============================] - 8s 88ms/step - loss: 0.1446 - accuracy: 0.9498 - f1_m: 0.9503 - precision_m: 0.9562 - recall_m: 0.9445 - val_loss: 1.6874 - val_accuracy: 0.7338 - val_f1_m: 0.7276 - val_precision_m: 0.7330 - val_recall_m: 0.7224\n",
            "Epoch 60/150\n",
            "87/87 [==============================] - 8s 88ms/step - loss: 0.1399 - accuracy: 0.9545 - f1_m: 0.9551 - precision_m: 0.9603 - recall_m: 0.9500 - val_loss: 0.5327 - val_accuracy: 0.8569 - val_f1_m: 0.8564 - val_precision_m: 0.8616 - val_recall_m: 0.8514\n",
            "Epoch 61/150\n",
            "87/87 [==============================] - 8s 89ms/step - loss: 0.1352 - accuracy: 0.9549 - f1_m: 0.9558 - precision_m: 0.9600 - recall_m: 0.9516 - val_loss: 0.5639 - val_accuracy: 0.8466 - val_f1_m: 0.8446 - val_precision_m: 0.8519 - val_recall_m: 0.8376\n",
            "Epoch 62/150\n",
            "87/87 [==============================] - 8s 89ms/step - loss: 0.1399 - accuracy: 0.9527 - f1_m: 0.9528 - precision_m: 0.9574 - recall_m: 0.9484 - val_loss: 0.5479 - val_accuracy: 0.8532 - val_f1_m: 0.8538 - val_precision_m: 0.8607 - val_recall_m: 0.8471\n",
            "Epoch 63/150\n",
            "87/87 [==============================] - 8s 89ms/step - loss: 0.1366 - accuracy: 0.9536 - f1_m: 0.9543 - precision_m: 0.9587 - recall_m: 0.9500 - val_loss: 0.5432 - val_accuracy: 0.8532 - val_f1_m: 0.8563 - val_precision_m: 0.8632 - val_recall_m: 0.8496\n",
            "Epoch 64/150\n",
            "87/87 [==============================] - 8s 89ms/step - loss: 0.1302 - accuracy: 0.9550 - f1_m: 0.9553 - precision_m: 0.9595 - recall_m: 0.9511 - val_loss: 0.5745 - val_accuracy: 0.8459 - val_f1_m: 0.8481 - val_precision_m: 0.8544 - val_recall_m: 0.8419\n",
            "Epoch 65/150\n",
            "87/87 [==============================] - 8s 88ms/step - loss: 0.1255 - accuracy: 0.9573 - f1_m: 0.9574 - precision_m: 0.9623 - recall_m: 0.9526 - val_loss: 0.5704 - val_accuracy: 0.8451 - val_f1_m: 0.8448 - val_precision_m: 0.8532 - val_recall_m: 0.8367\n",
            "Epoch 66/150\n",
            "87/87 [==============================] - 8s 88ms/step - loss: 0.1265 - accuracy: 0.9574 - f1_m: 0.9578 - precision_m: 0.9610 - recall_m: 0.9546 - val_loss: 0.6519 - val_accuracy: 0.8363 - val_f1_m: 0.8353 - val_precision_m: 0.8431 - val_recall_m: 0.8278\n",
            "Epoch 67/150\n",
            "87/87 [==============================] - 8s 88ms/step - loss: 0.1275 - accuracy: 0.9565 - f1_m: 0.9552 - precision_m: 0.9583 - recall_m: 0.9522 - val_loss: 0.6946 - val_accuracy: 0.8274 - val_f1_m: 0.8299 - val_precision_m: 0.8343 - val_recall_m: 0.8255\n",
            "Epoch 68/150\n",
            "87/87 [==============================] - 8s 89ms/step - loss: 0.1236 - accuracy: 0.9594 - f1_m: 0.9600 - precision_m: 0.9645 - recall_m: 0.9555 - val_loss: 0.6119 - val_accuracy: 0.8481 - val_f1_m: 0.8510 - val_precision_m: 0.8574 - val_recall_m: 0.8448\n",
            "Epoch 69/150\n",
            "87/87 [==============================] - 8s 89ms/step - loss: 0.1218 - accuracy: 0.9575 - f1_m: 0.9577 - precision_m: 0.9616 - recall_m: 0.9538 - val_loss: 0.6177 - val_accuracy: 0.8481 - val_f1_m: 0.8487 - val_precision_m: 0.8552 - val_recall_m: 0.8423\n",
            "Epoch 70/150\n",
            "87/87 [==============================] - 8s 88ms/step - loss: 0.1196 - accuracy: 0.9589 - f1_m: 0.9595 - precision_m: 0.9626 - recall_m: 0.9563 - val_loss: 0.5687 - val_accuracy: 0.8488 - val_f1_m: 0.8496 - val_precision_m: 0.8568 - val_recall_m: 0.8426\n",
            "Epoch 71/150\n",
            "87/87 [==============================] - 8s 89ms/step - loss: 0.1178 - accuracy: 0.9596 - f1_m: 0.9593 - precision_m: 0.9621 - recall_m: 0.9567 - val_loss: 1.0444 - val_accuracy: 0.7662 - val_f1_m: 0.7626 - val_precision_m: 0.7690 - val_recall_m: 0.7564\n",
            "Epoch 72/150\n",
            "87/87 [==============================] - 8s 88ms/step - loss: 0.1222 - accuracy: 0.9617 - f1_m: 0.9621 - precision_m: 0.9648 - recall_m: 0.9594 - val_loss: 0.8886 - val_accuracy: 0.7994 - val_f1_m: 0.7976 - val_precision_m: 0.8012 - val_recall_m: 0.7940\n",
            "Epoch 73/150\n",
            "87/87 [==============================] - 8s 89ms/step - loss: 0.1151 - accuracy: 0.9616 - f1_m: 0.9623 - precision_m: 0.9653 - recall_m: 0.9593 - val_loss: 0.8218 - val_accuracy: 0.8134 - val_f1_m: 0.8095 - val_precision_m: 0.8132 - val_recall_m: 0.8059\n",
            "Epoch 74/150\n",
            "87/87 [==============================] - 8s 88ms/step - loss: 0.1135 - accuracy: 0.9625 - f1_m: 0.9629 - precision_m: 0.9658 - recall_m: 0.9601 - val_loss: 0.6036 - val_accuracy: 0.8407 - val_f1_m: 0.8443 - val_precision_m: 0.8510 - val_recall_m: 0.8378\n",
            "Epoch 75/150\n",
            "87/87 [==============================] - 8s 89ms/step - loss: 0.1085 - accuracy: 0.9617 - f1_m: 0.9609 - precision_m: 0.9629 - recall_m: 0.9590 - val_loss: 0.6116 - val_accuracy: 0.8355 - val_f1_m: 0.8366 - val_precision_m: 0.8437 - val_recall_m: 0.8298\n",
            "Epoch 76/150\n",
            "87/87 [==============================] - 8s 88ms/step - loss: 0.1012 - accuracy: 0.9661 - f1_m: 0.9663 - precision_m: 0.9690 - recall_m: 0.9636 - val_loss: 0.5500 - val_accuracy: 0.8451 - val_f1_m: 0.8478 - val_precision_m: 0.8554 - val_recall_m: 0.8404\n",
            "Epoch 77/150\n",
            "87/87 [==============================] - 8s 90ms/step - loss: 0.1050 - accuracy: 0.9666 - f1_m: 0.9665 - precision_m: 0.9683 - recall_m: 0.9648 - val_loss: 0.6411 - val_accuracy: 0.8392 - val_f1_m: 0.8381 - val_precision_m: 0.8437 - val_recall_m: 0.8326\n",
            "Epoch 78/150\n",
            "87/87 [==============================] - 8s 88ms/step - loss: 0.1083 - accuracy: 0.9640 - f1_m: 0.9641 - precision_m: 0.9666 - recall_m: 0.9617 - val_loss: 0.6037 - val_accuracy: 0.8466 - val_f1_m: 0.8471 - val_precision_m: 0.8517 - val_recall_m: 0.8427\n",
            "Epoch 79/150\n",
            "87/87 [==============================] - 8s 90ms/step - loss: 0.0981 - accuracy: 0.9679 - f1_m: 0.9677 - precision_m: 0.9696 - recall_m: 0.9659 - val_loss: 1.0616 - val_accuracy: 0.7743 - val_f1_m: 0.7735 - val_precision_m: 0.7765 - val_recall_m: 0.7705\n",
            "Epoch 80/150\n",
            "87/87 [==============================] - 8s 88ms/step - loss: 0.0983 - accuracy: 0.9665 - f1_m: 0.9664 - precision_m: 0.9679 - recall_m: 0.9648 - val_loss: 0.8681 - val_accuracy: 0.8201 - val_f1_m: 0.8178 - val_precision_m: 0.8210 - val_recall_m: 0.8146\n",
            "Epoch 81/150\n",
            "87/87 [==============================] - 8s 89ms/step - loss: 0.1045 - accuracy: 0.9669 - f1_m: 0.9675 - precision_m: 0.9690 - recall_m: 0.9660 - val_loss: 0.5633 - val_accuracy: 0.8606 - val_f1_m: 0.8593 - val_precision_m: 0.8641 - val_recall_m: 0.8547\n",
            "Epoch 82/150\n",
            "87/87 [==============================] - 8s 88ms/step - loss: 0.0994 - accuracy: 0.9680 - f1_m: 0.9683 - precision_m: 0.9700 - recall_m: 0.9667 - val_loss: 0.5957 - val_accuracy: 0.8510 - val_f1_m: 0.8471 - val_precision_m: 0.8547 - val_recall_m: 0.8397\n",
            "Epoch 83/150\n",
            "87/87 [==============================] - 8s 88ms/step - loss: 0.1000 - accuracy: 0.9679 - f1_m: 0.9685 - precision_m: 0.9698 - recall_m: 0.9671 - val_loss: 0.6155 - val_accuracy: 0.8473 - val_f1_m: 0.8468 - val_precision_m: 0.8532 - val_recall_m: 0.8406\n",
            "Epoch 84/150\n",
            "87/87 [==============================] - 8s 88ms/step - loss: 0.0962 - accuracy: 0.9693 - f1_m: 0.9700 - precision_m: 0.9719 - recall_m: 0.9682 - val_loss: 0.6330 - val_accuracy: 0.8348 - val_f1_m: 0.8375 - val_precision_m: 0.8433 - val_recall_m: 0.8319\n",
            "Epoch 85/150\n",
            "87/87 [==============================] - 8s 88ms/step - loss: 0.0927 - accuracy: 0.9686 - f1_m: 0.9687 - precision_m: 0.9700 - recall_m: 0.9675 - val_loss: 0.6433 - val_accuracy: 0.8577 - val_f1_m: 0.8545 - val_precision_m: 0.8578 - val_recall_m: 0.8513\n",
            "Epoch 86/150\n",
            "87/87 [==============================] - 8s 88ms/step - loss: 0.0906 - accuracy: 0.9703 - f1_m: 0.9711 - precision_m: 0.9722 - recall_m: 0.9700 - val_loss: 1.3942 - val_accuracy: 0.7891 - val_f1_m: 0.7930 - val_precision_m: 0.7961 - val_recall_m: 0.7899\n",
            "Epoch 87/150\n",
            "87/87 [==============================] - 8s 90ms/step - loss: 0.0932 - accuracy: 0.9690 - f1_m: 0.9687 - precision_m: 0.9705 - recall_m: 0.9668 - val_loss: 0.6641 - val_accuracy: 0.8466 - val_f1_m: 0.8462 - val_precision_m: 0.8496 - val_recall_m: 0.8430\n",
            "Epoch 88/150\n",
            "87/87 [==============================] - 8s 89ms/step - loss: 0.0930 - accuracy: 0.9701 - f1_m: 0.9697 - precision_m: 0.9714 - recall_m: 0.9680 - val_loss: 0.5806 - val_accuracy: 0.8518 - val_f1_m: 0.8505 - val_precision_m: 0.8542 - val_recall_m: 0.8468\n",
            "Epoch 89/150\n",
            "87/87 [==============================] - 8s 89ms/step - loss: 0.0898 - accuracy: 0.9706 - f1_m: 0.9708 - precision_m: 0.9721 - recall_m: 0.9694 - val_loss: 0.6553 - val_accuracy: 0.8614 - val_f1_m: 0.8635 - val_precision_m: 0.8672 - val_recall_m: 0.8598\n",
            "Epoch 90/150\n",
            "87/87 [==============================] - 8s 89ms/step - loss: 0.0893 - accuracy: 0.9719 - f1_m: 0.9704 - precision_m: 0.9719 - recall_m: 0.9690 - val_loss: 0.5966 - val_accuracy: 0.8466 - val_f1_m: 0.8457 - val_precision_m: 0.8519 - val_recall_m: 0.8398\n",
            "Epoch 91/150\n",
            "87/87 [==============================] - 8s 89ms/step - loss: 0.0855 - accuracy: 0.9734 - f1_m: 0.9739 - precision_m: 0.9751 - recall_m: 0.9726 - val_loss: 0.6137 - val_accuracy: 0.8569 - val_f1_m: 0.8598 - val_precision_m: 0.8626 - val_recall_m: 0.8569\n",
            "Epoch 92/150\n",
            "87/87 [==============================] - 8s 89ms/step - loss: 0.0882 - accuracy: 0.9699 - f1_m: 0.9702 - precision_m: 0.9719 - recall_m: 0.9686 - val_loss: 0.6541 - val_accuracy: 0.8437 - val_f1_m: 0.8422 - val_precision_m: 0.8441 - val_recall_m: 0.8403\n",
            "Epoch 93/150\n",
            "87/87 [==============================] - 8s 89ms/step - loss: 0.0810 - accuracy: 0.9745 - f1_m: 0.9750 - precision_m: 0.9764 - recall_m: 0.9736 - val_loss: 0.7871 - val_accuracy: 0.8319 - val_f1_m: 0.8312 - val_precision_m: 0.8340 - val_recall_m: 0.8284\n",
            "Epoch 94/150\n",
            "87/87 [==============================] - 8s 88ms/step - loss: 0.0855 - accuracy: 0.9724 - f1_m: 0.9718 - precision_m: 0.9732 - recall_m: 0.9705 - val_loss: 1.6038 - val_accuracy: 0.7544 - val_f1_m: 0.7604 - val_precision_m: 0.7632 - val_recall_m: 0.7578\n",
            "Epoch 95/150\n",
            "87/87 [==============================] - 8s 89ms/step - loss: 0.0811 - accuracy: 0.9748 - f1_m: 0.9748 - precision_m: 0.9760 - recall_m: 0.9736 - val_loss: 0.7793 - val_accuracy: 0.8481 - val_f1_m: 0.8442 - val_precision_m: 0.8479 - val_recall_m: 0.8406\n",
            "Epoch 96/150\n",
            "87/87 [==============================] - 8s 89ms/step - loss: 0.0808 - accuracy: 0.9727 - f1_m: 0.9730 - precision_m: 0.9746 - recall_m: 0.9714 - val_loss: 0.7602 - val_accuracy: 0.8304 - val_f1_m: 0.8345 - val_precision_m: 0.8388 - val_recall_m: 0.8304\n",
            "Epoch 97/150\n",
            "87/87 [==============================] - 8s 88ms/step - loss: 0.0844 - accuracy: 0.9734 - f1_m: 0.9742 - precision_m: 0.9751 - recall_m: 0.9732 - val_loss: 0.6548 - val_accuracy: 0.8400 - val_f1_m: 0.8403 - val_precision_m: 0.8437 - val_recall_m: 0.8368\n",
            "Epoch 98/150\n",
            "87/87 [==============================] - 8s 89ms/step - loss: 0.0787 - accuracy: 0.9733 - f1_m: 0.9738 - precision_m: 0.9747 - recall_m: 0.9729 - val_loss: 0.6612 - val_accuracy: 0.8378 - val_f1_m: 0.8390 - val_precision_m: 0.8424 - val_recall_m: 0.8357\n",
            "Epoch 99/150\n",
            "87/87 [==============================] - 8s 89ms/step - loss: 0.0797 - accuracy: 0.9746 - f1_m: 0.9743 - precision_m: 0.9750 - recall_m: 0.9736 - val_loss: 0.6460 - val_accuracy: 0.8525 - val_f1_m: 0.8543 - val_precision_m: 0.8594 - val_recall_m: 0.8492\n",
            "Epoch 100/150\n",
            "87/87 [==============================] - 8s 88ms/step - loss: 0.0787 - accuracy: 0.9744 - f1_m: 0.9741 - precision_m: 0.9749 - recall_m: 0.9733 - val_loss: 0.6837 - val_accuracy: 0.8466 - val_f1_m: 0.8485 - val_precision_m: 0.8520 - val_recall_m: 0.8451\n",
            "Epoch 101/150\n",
            "87/87 [==============================] - 8s 89ms/step - loss: 0.0675 - accuracy: 0.9791 - f1_m: 0.9786 - precision_m: 0.9793 - recall_m: 0.9779 - val_loss: 0.6266 - val_accuracy: 0.8488 - val_f1_m: 0.8512 - val_precision_m: 0.8555 - val_recall_m: 0.8471\n",
            "Epoch 102/150\n",
            "87/87 [==============================] - 8s 89ms/step - loss: 0.0795 - accuracy: 0.9753 - f1_m: 0.9756 - precision_m: 0.9763 - recall_m: 0.9749 - val_loss: 0.7112 - val_accuracy: 0.8451 - val_f1_m: 0.8414 - val_precision_m: 0.8469 - val_recall_m: 0.8360\n",
            "Epoch 103/150\n",
            "87/87 [==============================] - 8s 89ms/step - loss: 0.0729 - accuracy: 0.9784 - f1_m: 0.9786 - precision_m: 0.9791 - recall_m: 0.9780 - val_loss: 0.8696 - val_accuracy: 0.8208 - val_f1_m: 0.8225 - val_precision_m: 0.8255 - val_recall_m: 0.8195\n",
            "Epoch 104/150\n",
            "87/87 [==============================] - 8s 89ms/step - loss: 0.0741 - accuracy: 0.9756 - f1_m: 0.9751 - precision_m: 0.9757 - recall_m: 0.9745 - val_loss: 1.0688 - val_accuracy: 0.7994 - val_f1_m: 0.7998 - val_precision_m: 0.8036 - val_recall_m: 0.7961\n",
            "Epoch 105/150\n",
            "87/87 [==============================] - 8s 89ms/step - loss: 0.0706 - accuracy: 0.9774 - f1_m: 0.9770 - precision_m: 0.9778 - recall_m: 0.9761 - val_loss: 0.8717 - val_accuracy: 0.8304 - val_f1_m: 0.8268 - val_precision_m: 0.8311 - val_recall_m: 0.8226\n",
            "Epoch 106/150\n",
            "87/87 [==============================] - 8s 89ms/step - loss: 0.0772 - accuracy: 0.9741 - f1_m: 0.9750 - precision_m: 0.9758 - recall_m: 0.9741 - val_loss: 0.7160 - val_accuracy: 0.8621 - val_f1_m: 0.8610 - val_precision_m: 0.8626 - val_recall_m: 0.8594\n",
            "Epoch 107/150\n",
            "87/87 [==============================] - 8s 89ms/step - loss: 0.0710 - accuracy: 0.9753 - f1_m: 0.9749 - precision_m: 0.9758 - recall_m: 0.9740 - val_loss: 0.6336 - val_accuracy: 0.8525 - val_f1_m: 0.8506 - val_precision_m: 0.8538 - val_recall_m: 0.8474\n",
            "Epoch 108/150\n",
            "87/87 [==============================] - 8s 89ms/step - loss: 0.0711 - accuracy: 0.9777 - f1_m: 0.9785 - precision_m: 0.9792 - recall_m: 0.9778 - val_loss: 0.6981 - val_accuracy: 0.8473 - val_f1_m: 0.8466 - val_precision_m: 0.8491 - val_recall_m: 0.8441\n",
            "Epoch 109/150\n",
            "87/87 [==============================] - 8s 89ms/step - loss: 0.0711 - accuracy: 0.9770 - f1_m: 0.9772 - precision_m: 0.9781 - recall_m: 0.9763 - val_loss: 0.6600 - val_accuracy: 0.8599 - val_f1_m: 0.8569 - val_precision_m: 0.8585 - val_recall_m: 0.8553\n",
            "Epoch 110/150\n",
            "87/87 [==============================] - 8s 89ms/step - loss: 0.0681 - accuracy: 0.9793 - f1_m: 0.9789 - precision_m: 0.9793 - recall_m: 0.9784 - val_loss: 0.6888 - val_accuracy: 0.8230 - val_f1_m: 0.8245 - val_precision_m: 0.8312 - val_recall_m: 0.8181\n",
            "Epoch 111/150\n",
            "87/87 [==============================] - 8s 89ms/step - loss: 0.0629 - accuracy: 0.9810 - f1_m: 0.9811 - precision_m: 0.9818 - recall_m: 0.9805 - val_loss: 0.7088 - val_accuracy: 0.8459 - val_f1_m: 0.8461 - val_precision_m: 0.8498 - val_recall_m: 0.8424\n",
            "Epoch 112/150\n",
            "87/87 [==============================] - 8s 88ms/step - loss: 0.0680 - accuracy: 0.9767 - f1_m: 0.9773 - precision_m: 0.9780 - recall_m: 0.9766 - val_loss: 0.7676 - val_accuracy: 0.8311 - val_f1_m: 0.8325 - val_precision_m: 0.8379 - val_recall_m: 0.8272\n",
            "Epoch 113/150\n",
            "87/87 [==============================] - 8s 88ms/step - loss: 0.0635 - accuracy: 0.9807 - f1_m: 0.9807 - precision_m: 0.9811 - recall_m: 0.9802 - val_loss: 0.7470 - val_accuracy: 0.8451 - val_f1_m: 0.8436 - val_precision_m: 0.8457 - val_recall_m: 0.8415\n",
            "Epoch 114/150\n",
            "87/87 [==============================] - 8s 89ms/step - loss: 0.0668 - accuracy: 0.9792 - f1_m: 0.9790 - precision_m: 0.9795 - recall_m: 0.9786 - val_loss: 1.1388 - val_accuracy: 0.7950 - val_f1_m: 0.7884 - val_precision_m: 0.7907 - val_recall_m: 0.7862\n",
            "Epoch 115/150\n",
            "87/87 [==============================] - 8s 89ms/step - loss: 0.0676 - accuracy: 0.9789 - f1_m: 0.9792 - precision_m: 0.9794 - recall_m: 0.9791 - val_loss: 0.7674 - val_accuracy: 0.8289 - val_f1_m: 0.8328 - val_precision_m: 0.8383 - val_recall_m: 0.8275\n",
            "Epoch 116/150\n",
            "87/87 [==============================] - 8s 89ms/step - loss: 0.0591 - accuracy: 0.9822 - f1_m: 0.9821 - precision_m: 0.9824 - recall_m: 0.9817 - val_loss: 0.6563 - val_accuracy: 0.8569 - val_f1_m: 0.8540 - val_precision_m: 0.8545 - val_recall_m: 0.8534\n",
            "Epoch 117/150\n",
            "87/87 [==============================] - 8s 89ms/step - loss: 0.0678 - accuracy: 0.9806 - f1_m: 0.9803 - precision_m: 0.9811 - recall_m: 0.9796 - val_loss: 0.6314 - val_accuracy: 0.8510 - val_f1_m: 0.8506 - val_precision_m: 0.8531 - val_recall_m: 0.8482\n",
            "Epoch 118/150\n",
            "87/87 [==============================] - 8s 89ms/step - loss: 0.0644 - accuracy: 0.9802 - f1_m: 0.9801 - precision_m: 0.9807 - recall_m: 0.9795 - val_loss: 0.6297 - val_accuracy: 0.8569 - val_f1_m: 0.8574 - val_precision_m: 0.8587 - val_recall_m: 0.8562\n",
            "Epoch 119/150\n",
            "87/87 [==============================] - 8s 89ms/step - loss: 0.0579 - accuracy: 0.9818 - f1_m: 0.9814 - precision_m: 0.9818 - recall_m: 0.9811 - val_loss: 0.7098 - val_accuracy: 0.8437 - val_f1_m: 0.8420 - val_precision_m: 0.8448 - val_recall_m: 0.8393\n",
            "Epoch 120/150\n",
            "87/87 [==============================] - 8s 90ms/step - loss: 0.0566 - accuracy: 0.9838 - f1_m: 0.9838 - precision_m: 0.9841 - recall_m: 0.9836 - val_loss: 0.7424 - val_accuracy: 0.8400 - val_f1_m: 0.8396 - val_precision_m: 0.8447 - val_recall_m: 0.8347\n",
            "Epoch 121/150\n",
            "87/87 [==============================] - 8s 90ms/step - loss: 0.0579 - accuracy: 0.9843 - f1_m: 0.9839 - precision_m: 0.9842 - recall_m: 0.9836 - val_loss: 0.8593 - val_accuracy: 0.8090 - val_f1_m: 0.8048 - val_precision_m: 0.8081 - val_recall_m: 0.8016\n",
            "Epoch 122/150\n",
            "87/87 [==============================] - 8s 89ms/step - loss: 0.0598 - accuracy: 0.9822 - f1_m: 0.9820 - precision_m: 0.9829 - recall_m: 0.9811 - val_loss: 0.8825 - val_accuracy: 0.8311 - val_f1_m: 0.8293 - val_precision_m: 0.8341 - val_recall_m: 0.8246\n",
            "Epoch 123/150\n",
            "87/87 [==============================] - 8s 90ms/step - loss: 0.0586 - accuracy: 0.9818 - f1_m: 0.9815 - precision_m: 0.9821 - recall_m: 0.9810 - val_loss: 0.9383 - val_accuracy: 0.8348 - val_f1_m: 0.8331 - val_precision_m: 0.8375 - val_recall_m: 0.8287\n",
            "Epoch 124/150\n",
            "87/87 [==============================] - 8s 90ms/step - loss: 0.0643 - accuracy: 0.9810 - f1_m: 0.9810 - precision_m: 0.9815 - recall_m: 0.9806 - val_loss: 0.6302 - val_accuracy: 0.8481 - val_f1_m: 0.8518 - val_precision_m: 0.8570 - val_recall_m: 0.8468\n",
            "Epoch 125/150\n",
            "87/87 [==============================] - 8s 90ms/step - loss: 0.0607 - accuracy: 0.9831 - f1_m: 0.9823 - precision_m: 0.9825 - recall_m: 0.9822 - val_loss: 0.6866 - val_accuracy: 0.8555 - val_f1_m: 0.8557 - val_precision_m: 0.8584 - val_recall_m: 0.8531\n",
            "Epoch 126/150\n",
            "87/87 [==============================] - 8s 89ms/step - loss: 0.0605 - accuracy: 0.9821 - f1_m: 0.9821 - precision_m: 0.9830 - recall_m: 0.9813 - val_loss: 0.7386 - val_accuracy: 0.8429 - val_f1_m: 0.8442 - val_precision_m: 0.8476 - val_recall_m: 0.8409\n",
            "Epoch 127/150\n",
            "87/87 [==============================] - 8s 90ms/step - loss: 0.0567 - accuracy: 0.9821 - f1_m: 0.9823 - precision_m: 0.9826 - recall_m: 0.9820 - val_loss: 0.7516 - val_accuracy: 0.8562 - val_f1_m: 0.8581 - val_precision_m: 0.8638 - val_recall_m: 0.8525\n",
            "Epoch 128/150\n",
            "87/87 [==============================] - 8s 90ms/step - loss: 0.0531 - accuracy: 0.9839 - f1_m: 0.9841 - precision_m: 0.9845 - recall_m: 0.9837 - val_loss: 0.6406 - val_accuracy: 0.8724 - val_f1_m: 0.8718 - val_precision_m: 0.8756 - val_recall_m: 0.8681\n",
            "Epoch 129/150\n",
            "87/87 [==============================] - 8s 90ms/step - loss: 0.0597 - accuracy: 0.9831 - f1_m: 0.9834 - precision_m: 0.9837 - recall_m: 0.9831 - val_loss: 0.7264 - val_accuracy: 0.8510 - val_f1_m: 0.8528 - val_precision_m: 0.8546 - val_recall_m: 0.8511\n",
            "Epoch 130/150\n",
            "87/87 [==============================] - 8s 90ms/step - loss: 0.0566 - accuracy: 0.9822 - f1_m: 0.9826 - precision_m: 0.9827 - recall_m: 0.9824 - val_loss: 0.7225 - val_accuracy: 0.8599 - val_f1_m: 0.8617 - val_precision_m: 0.8652 - val_recall_m: 0.8584\n",
            "Epoch 131/150\n",
            "87/87 [==============================] - 8s 89ms/step - loss: 0.0567 - accuracy: 0.9832 - f1_m: 0.9834 - precision_m: 0.9838 - recall_m: 0.9830 - val_loss: 0.7624 - val_accuracy: 0.8547 - val_f1_m: 0.8562 - val_precision_m: 0.8596 - val_recall_m: 0.8530\n",
            "Epoch 132/150\n",
            "87/87 [==============================] - 8s 89ms/step - loss: 0.0534 - accuracy: 0.9858 - f1_m: 0.9859 - precision_m: 0.9863 - recall_m: 0.9855 - val_loss: 0.6255 - val_accuracy: 0.8680 - val_f1_m: 0.8688 - val_precision_m: 0.8717 - val_recall_m: 0.8661\n",
            "Epoch 133/150\n",
            "87/87 [==============================] - 8s 89ms/step - loss: 0.0540 - accuracy: 0.9833 - f1_m: 0.9834 - precision_m: 0.9837 - recall_m: 0.9831 - val_loss: 0.7558 - val_accuracy: 0.8481 - val_f1_m: 0.8446 - val_precision_m: 0.8475 - val_recall_m: 0.8417\n",
            "Epoch 134/150\n",
            "87/87 [==============================] - 8s 90ms/step - loss: 0.0523 - accuracy: 0.9846 - f1_m: 0.9847 - precision_m: 0.9849 - recall_m: 0.9845 - val_loss: 0.7540 - val_accuracy: 0.8481 - val_f1_m: 0.8493 - val_precision_m: 0.8539 - val_recall_m: 0.8447\n",
            "Epoch 135/150\n",
            "87/87 [==============================] - 8s 89ms/step - loss: 0.0593 - accuracy: 0.9822 - f1_m: 0.9825 - precision_m: 0.9830 - recall_m: 0.9820 - val_loss: 0.6741 - val_accuracy: 0.8636 - val_f1_m: 0.8633 - val_precision_m: 0.8659 - val_recall_m: 0.8608\n",
            "Epoch 136/150\n",
            "87/87 [==============================] - 8s 91ms/step - loss: 0.0489 - accuracy: 0.9854 - f1_m: 0.9850 - precision_m: 0.9851 - recall_m: 0.9849 - val_loss: 0.8302 - val_accuracy: 0.8488 - val_f1_m: 0.8445 - val_precision_m: 0.8495 - val_recall_m: 0.8396\n",
            "Epoch 137/150\n",
            "87/87 [==============================] - 8s 90ms/step - loss: 0.0530 - accuracy: 0.9835 - f1_m: 0.9836 - precision_m: 0.9839 - recall_m: 0.9833 - val_loss: 0.8440 - val_accuracy: 0.8363 - val_f1_m: 0.8374 - val_precision_m: 0.8405 - val_recall_m: 0.8344\n",
            "Epoch 138/150\n",
            "87/87 [==============================] - 8s 90ms/step - loss: 0.0503 - accuracy: 0.9851 - f1_m: 0.9853 - precision_m: 0.9857 - recall_m: 0.9848 - val_loss: 0.7322 - val_accuracy: 0.8614 - val_f1_m: 0.8626 - val_precision_m: 0.8641 - val_recall_m: 0.8611\n",
            "Epoch 139/150\n",
            "87/87 [==============================] - 8s 90ms/step - loss: 0.0500 - accuracy: 0.9849 - f1_m: 0.9851 - precision_m: 0.9853 - recall_m: 0.9848 - val_loss: 0.8298 - val_accuracy: 0.8422 - val_f1_m: 0.8436 - val_precision_m: 0.8471 - val_recall_m: 0.8404\n",
            "Epoch 140/150\n",
            "87/87 [==============================] - 8s 91ms/step - loss: 0.0518 - accuracy: 0.9854 - f1_m: 0.9854 - precision_m: 0.9857 - recall_m: 0.9851 - val_loss: 0.8721 - val_accuracy: 0.8252 - val_f1_m: 0.8298 - val_precision_m: 0.8360 - val_recall_m: 0.8238\n",
            "Epoch 141/150\n",
            "87/87 [==============================] - 8s 91ms/step - loss: 0.0496 - accuracy: 0.9854 - f1_m: 0.9856 - precision_m: 0.9860 - recall_m: 0.9852 - val_loss: 0.7576 - val_accuracy: 0.8555 - val_f1_m: 0.8538 - val_precision_m: 0.8572 - val_recall_m: 0.8505\n",
            "Epoch 142/150\n",
            "87/87 [==============================] - 8s 90ms/step - loss: 0.0558 - accuracy: 0.9851 - f1_m: 0.9852 - precision_m: 0.9855 - recall_m: 0.9848 - val_loss: 0.6908 - val_accuracy: 0.8673 - val_f1_m: 0.8682 - val_precision_m: 0.8709 - val_recall_m: 0.8657\n",
            "Epoch 143/150\n",
            "87/87 [==============================] - 8s 90ms/step - loss: 0.0467 - accuracy: 0.9858 - f1_m: 0.9862 - precision_m: 0.9865 - recall_m: 0.9859 - val_loss: 0.8175 - val_accuracy: 0.8481 - val_f1_m: 0.8465 - val_precision_m: 0.8499 - val_recall_m: 0.8433\n",
            "Epoch 144/150\n",
            "87/87 [==============================] - 8s 90ms/step - loss: 0.0451 - accuracy: 0.9858 - f1_m: 0.9861 - precision_m: 0.9862 - recall_m: 0.9860 - val_loss: 1.0440 - val_accuracy: 0.8245 - val_f1_m: 0.8260 - val_precision_m: 0.8305 - val_recall_m: 0.8215\n",
            "Epoch 145/150\n",
            "87/87 [==============================] - 8s 90ms/step - loss: 0.0512 - accuracy: 0.9833 - f1_m: 0.9830 - precision_m: 0.9835 - recall_m: 0.9826 - val_loss: 0.7813 - val_accuracy: 0.8547 - val_f1_m: 0.8549 - val_precision_m: 0.8590 - val_recall_m: 0.8510\n",
            "Epoch 146/150\n",
            "87/87 [==============================] - 8s 90ms/step - loss: 0.0463 - accuracy: 0.9855 - f1_m: 0.9857 - precision_m: 0.9861 - recall_m: 0.9853 - val_loss: 0.7714 - val_accuracy: 0.8488 - val_f1_m: 0.8490 - val_precision_m: 0.8526 - val_recall_m: 0.8456\n",
            "Epoch 147/150\n",
            "87/87 [==============================] - 8s 91ms/step - loss: 0.0422 - accuracy: 0.9883 - f1_m: 0.9883 - precision_m: 0.9885 - recall_m: 0.9882 - val_loss: 0.8419 - val_accuracy: 0.8503 - val_f1_m: 0.8518 - val_precision_m: 0.8545 - val_recall_m: 0.8491\n",
            "Epoch 148/150\n",
            "87/87 [==============================] - 8s 90ms/step - loss: 0.0408 - accuracy: 0.9886 - f1_m: 0.9888 - precision_m: 0.9891 - recall_m: 0.9885 - val_loss: 0.8736 - val_accuracy: 0.8333 - val_f1_m: 0.8314 - val_precision_m: 0.8340 - val_recall_m: 0.8290\n",
            "Epoch 149/150\n",
            "87/87 [==============================] - 8s 91ms/step - loss: 0.0570 - accuracy: 0.9846 - f1_m: 0.9846 - precision_m: 0.9848 - recall_m: 0.9844 - val_loss: 0.8285 - val_accuracy: 0.8496 - val_f1_m: 0.8490 - val_precision_m: 0.8505 - val_recall_m: 0.8474\n",
            "Epoch 150/150\n",
            "87/87 [==============================] - 8s 91ms/step - loss: 0.0451 - accuracy: 0.9876 - f1_m: 0.9872 - precision_m: 0.9876 - recall_m: 0.9868 - val_loss: 0.8101 - val_accuracy: 0.8496 - val_f1_m: 0.8483 - val_precision_m: 0.8513 - val_recall_m: 0.8454\n"
          ]
        }
      ]
    },
    {
      "cell_type": "code",
      "source": [
        "plotmetrics(UCI_LSTM_CNN)"
      ],
      "metadata": {
        "colab": {
          "base_uri": "https://localhost:8080/",
          "height": 295
        },
        "id": "ax6ShpJWc-aR",
        "outputId": "b08edfcd-ee09-4a22-9859-cd575cd399c2"
      },
      "execution_count": null,
      "outputs": [
        {
          "output_type": "display_data",
          "data": {
            "image/png": "[encoded data removed]",
            "text/plain": [
              "<Figure size 432x288 with 7 Axes>"
            ]
          },
          "metadata": {
            "needs_background": "light"
          }
        }
      ]
    },
    {
      "cell_type": "code",
      "source": [
        "save_model_history(UCImodels['LSTM_CNN'],'/content/drive/MyDrive/Datasets/UCI_HAPT_DATASET/UCI_LSTM_CNN_history',UCI_LSTM_CNN,\n",
        "                   '/content/drive/MyDrive/Datasets/UCI_HAPT_DATASET/UCILSTM_CNN')"
      ],
      "metadata": {
        "colab": {
          "base_uri": "https://localhost:8080/"
        },
        "id": "hIKO8LwfdIDo",
        "outputId": "e1442423-f845-4cbc-8039-c6d9b0507b90"
      },
      "execution_count": null,
      "outputs": [
        {
          "output_type": "stream",
          "name": "stderr",
          "text": [
            "WARNING:absl:Found untraced functions such as lstm_cell_61_layer_call_fn, lstm_cell_61_layer_call_and_return_conditional_losses, lstm_cell_62_layer_call_fn, lstm_cell_62_layer_call_and_return_conditional_losses, lstm_cell_64_layer_call_fn while saving (showing 5 of 20). These functions will not be directly callable after loading.\n"
          ]
        },
        {
          "output_type": "stream",
          "name": "stdout",
          "text": [
            "INFO:tensorflow:Assets written to: /content/drive/MyDrive/Datasets/UCI_HAPT_DATASET/UCILSTM_CNNLSTM_CNN_SANDWICH/assets\n"
          ]
        },
        {
          "output_type": "stream",
          "name": "stderr",
          "text": [
            "INFO:tensorflow:Assets written to: /content/drive/MyDrive/Datasets/UCI_HAPT_DATASET/UCILSTM_CNNLSTM_CNN_SANDWICH/assets\n",
            "WARNING:absl:<keras.layers.recurrent.LSTMCell object at 0x7fb028295290> has the same name 'LSTMCell' as a built-in Keras object. Consider renaming <class 'keras.layers.recurrent.LSTMCell'> to avoid naming conflicts when loading with `tf.keras.models.load_model`. If renaming is not possible, pass the object in the `custom_objects` parameter of the load function.\n",
            "WARNING:absl:<keras.layers.recurrent.LSTMCell object at 0x7fb027ee5c50> has the same name 'LSTMCell' as a built-in Keras object. Consider renaming <class 'keras.layers.recurrent.LSTMCell'> to avoid naming conflicts when loading with `tf.keras.models.load_model`. If renaming is not possible, pass the object in the `custom_objects` parameter of the load function.\n",
            "WARNING:absl:<keras.layers.recurrent.LSTMCell object at 0x7fb028b089d0> has the same name 'LSTMCell' as a built-in Keras object. Consider renaming <class 'keras.layers.recurrent.LSTMCell'> to avoid naming conflicts when loading with `tf.keras.models.load_model`. If renaming is not possible, pass the object in the `custom_objects` parameter of the load function.\n",
            "WARNING:absl:<keras.layers.recurrent.LSTMCell object at 0x7fb0283c3cd0> has the same name 'LSTMCell' as a built-in Keras object. Consider renaming <class 'keras.layers.recurrent.LSTMCell'> to avoid naming conflicts when loading with `tf.keras.models.load_model`. If renaming is not possible, pass the object in the `custom_objects` parameter of the load function.\n"
          ]
        }
      ]
    },
    {
      "cell_type": "markdown",
      "source": [
        "UCI ConvLSTM_PARALLEL"
      ],
      "metadata": {
        "id": "WHCVmJF8fXwx"
      }
    },
    {
      "cell_type": "code",
      "source": [
        "UCI_ConvLSTM_PARALLEL = UCImodels['ConvLSTM_PARALLEL'].fit(UCIhalf_trainFFT, UCItrainY, epochs = 100, batch_size = 200, validation_data = (UCIhalf_valFFT, UCIvalY))"
      ],
      "metadata": {
        "id": "1C0nDgKEe8P1"
      },
      "execution_count": null,
      "outputs": []
    },
    {
      "cell_type": "markdown",
      "source": [
        "UCI GRU_CNN"
      ],
      "metadata": {
        "id": "s2PN4TrLpYFn"
      }
    },
    {
      "cell_type": "code",
      "source": [
        "UCI_GRU_CNN = UCImodels['GRU_CNN'].fit(UCIhalf_trainFFT, UCItrainY, epochs = 100, batch_size = 200, validation_data = (UCIhalf_valFFT, UCIvalY))"
      ],
      "metadata": {
        "colab": {
          "base_uri": "https://localhost:8080/"
        },
        "id": "0BQZdvxifrC8",
        "outputId": "6f7c72b5-e26f-4a5d-f414-a8834146c382"
      },
      "execution_count": null,
      "outputs": [
        {
          "output_type": "stream",
          "name": "stdout",
          "text": [
            "Epoch 1/100\n",
            "44/44 [==============================] - 32s 413ms/step - loss: 0.9069 - accuracy: 0.6694 - f1_m: 0.6424 - precision_m: 0.7686 - recall_m: 0.5674 - val_loss: 1.8336 - val_accuracy: 0.5826 - val_f1_m: 0.0000e+00 - val_precision_m: 0.0000e+00 - val_recall_m: 0.0000e+00\n",
            "Epoch 2/100\n",
            "44/44 [==============================] - 17s 387ms/step - loss: 0.4575 - accuracy: 0.8174 - f1_m: 0.8224 - precision_m: 0.8619 - recall_m: 0.7868 - val_loss: 1.4187 - val_accuracy: 0.6829 - val_f1_m: 0.1362 - val_precision_m: 0.9701 - val_recall_m: 0.0779\n",
            "Epoch 3/100\n",
            "44/44 [==============================] - 18s 403ms/step - loss: 0.3622 - accuracy: 0.8476 - f1_m: 0.8498 - precision_m: 0.8793 - recall_m: 0.8225 - val_loss: 1.3941 - val_accuracy: 0.5435 - val_f1_m: 0.3110 - val_precision_m: 0.5398 - val_recall_m: 0.2239\n",
            "Epoch 4/100\n",
            "44/44 [==============================] - 17s 393ms/step - loss: 0.3112 - accuracy: 0.8638 - f1_m: 0.8696 - precision_m: 0.8940 - recall_m: 0.8466 - val_loss: 1.2087 - val_accuracy: 0.5959 - val_f1_m: 0.5727 - val_precision_m: 0.6562 - val_recall_m: 0.5109\n",
            "Epoch 5/100\n",
            "44/44 [==============================] - 17s 391ms/step - loss: 0.2868 - accuracy: 0.8712 - f1_m: 0.8719 - precision_m: 0.8928 - recall_m: 0.8521 - val_loss: 0.7998 - val_accuracy: 0.7117 - val_f1_m: 0.7067 - val_precision_m: 0.7770 - val_recall_m: 0.6508\n",
            "Epoch 6/100\n",
            "44/44 [==============================] - 17s 388ms/step - loss: 0.2607 - accuracy: 0.8905 - f1_m: 0.8895 - precision_m: 0.9090 - recall_m: 0.8709 - val_loss: 0.6556 - val_accuracy: 0.7692 - val_f1_m: 0.7670 - val_precision_m: 0.8165 - val_recall_m: 0.7238\n",
            "Epoch 7/100\n",
            "44/44 [==============================] - 17s 380ms/step - loss: 0.2476 - accuracy: 0.8923 - f1_m: 0.8947 - precision_m: 0.9102 - recall_m: 0.8797 - val_loss: 0.8098 - val_accuracy: 0.7072 - val_f1_m: 0.6839 - val_precision_m: 0.7555 - val_recall_m: 0.6269\n",
            "Epoch 8/100\n",
            "44/44 [==============================] - 17s 395ms/step - loss: 0.2394 - accuracy: 0.8953 - f1_m: 0.8971 - precision_m: 0.9131 - recall_m: 0.8818 - val_loss: 0.6128 - val_accuracy: 0.7869 - val_f1_m: 0.7971 - val_precision_m: 0.8293 - val_recall_m: 0.7678\n",
            "Epoch 9/100\n",
            "44/44 [==============================] - 17s 392ms/step - loss: 0.2194 - accuracy: 0.9050 - f1_m: 0.9085 - precision_m: 0.9223 - recall_m: 0.8952 - val_loss: 0.8717 - val_accuracy: 0.7382 - val_f1_m: 0.7406 - val_precision_m: 0.7650 - val_recall_m: 0.7183\n",
            "Epoch 10/100\n",
            "44/44 [==============================] - 17s 389ms/step - loss: 0.2072 - accuracy: 0.9108 - f1_m: 0.9128 - precision_m: 0.9234 - recall_m: 0.9025 - val_loss: 0.8951 - val_accuracy: 0.6740 - val_f1_m: 0.6827 - val_precision_m: 0.7016 - val_recall_m: 0.6653\n",
            "Epoch 11/100\n",
            "44/44 [==============================] - 17s 394ms/step - loss: 0.1980 - accuracy: 0.9158 - f1_m: 0.9170 - precision_m: 0.9282 - recall_m: 0.9061 - val_loss: 0.5665 - val_accuracy: 0.8105 - val_f1_m: 0.8214 - val_precision_m: 0.8390 - val_recall_m: 0.8047\n",
            "Epoch 12/100\n",
            "44/44 [==============================] - 17s 389ms/step - loss: 0.1911 - accuracy: 0.9210 - f1_m: 0.9215 - precision_m: 0.9312 - recall_m: 0.9120 - val_loss: 1.1384 - val_accuracy: 0.7478 - val_f1_m: 0.7529 - val_precision_m: 0.7713 - val_recall_m: 0.7359\n",
            "Epoch 13/100\n",
            "44/44 [==============================] - 18s 401ms/step - loss: 0.1854 - accuracy: 0.9219 - f1_m: 0.9229 - precision_m: 0.9324 - recall_m: 0.9137 - val_loss: 1.0291 - val_accuracy: 0.7375 - val_f1_m: 0.7422 - val_precision_m: 0.7586 - val_recall_m: 0.7269\n",
            "Epoch 14/100\n",
            "44/44 [==============================] - 17s 385ms/step - loss: 0.1762 - accuracy: 0.9286 - f1_m: 0.9312 - precision_m: 0.9399 - recall_m: 0.9227 - val_loss: 0.9970 - val_accuracy: 0.7633 - val_f1_m: 0.7618 - val_precision_m: 0.7793 - val_recall_m: 0.7453\n",
            "Epoch 15/100\n",
            "44/44 [==============================] - 17s 380ms/step - loss: 0.1679 - accuracy: 0.9319 - f1_m: 0.9334 - precision_m: 0.9407 - recall_m: 0.9264 - val_loss: 0.8511 - val_accuracy: 0.7566 - val_f1_m: 0.7606 - val_precision_m: 0.7729 - val_recall_m: 0.7489\n",
            "Epoch 16/100\n",
            "44/44 [==============================] - 17s 386ms/step - loss: 0.1634 - accuracy: 0.9349 - f1_m: 0.9349 - precision_m: 0.9413 - recall_m: 0.9286 - val_loss: 1.5532 - val_accuracy: 0.7124 - val_f1_m: 0.7147 - val_precision_m: 0.7270 - val_recall_m: 0.7032\n",
            "Epoch 17/100\n",
            "44/44 [==============================] - 17s 388ms/step - loss: 0.1646 - accuracy: 0.9336 - f1_m: 0.9339 - precision_m: 0.9406 - recall_m: 0.9273 - val_loss: 1.3671 - val_accuracy: 0.7316 - val_f1_m: 0.7360 - val_precision_m: 0.7505 - val_recall_m: 0.7227\n",
            "Epoch 18/100\n",
            "44/44 [==============================] - 17s 391ms/step - loss: 0.1521 - accuracy: 0.9384 - f1_m: 0.9391 - precision_m: 0.9450 - recall_m: 0.9333 - val_loss: 0.9095 - val_accuracy: 0.7891 - val_f1_m: 0.7949 - val_precision_m: 0.8102 - val_recall_m: 0.7808\n",
            "Epoch 19/100\n",
            "44/44 [==============================] - 17s 388ms/step - loss: 0.1421 - accuracy: 0.9428 - f1_m: 0.9423 - precision_m: 0.9473 - recall_m: 0.9374 - val_loss: 1.1860 - val_accuracy: 0.7404 - val_f1_m: 0.7424 - val_precision_m: 0.7545 - val_recall_m: 0.7308\n",
            "Epoch 20/100\n",
            "44/44 [==============================] - 17s 386ms/step - loss: 0.1414 - accuracy: 0.9427 - f1_m: 0.9428 - precision_m: 0.9473 - recall_m: 0.9383 - val_loss: 3.0094 - val_accuracy: 0.6187 - val_f1_m: 0.6204 - val_precision_m: 0.6319 - val_recall_m: 0.6095\n",
            "Epoch 21/100\n",
            "44/44 [==============================] - 17s 385ms/step - loss: 0.1436 - accuracy: 0.9451 - f1_m: 0.9445 - precision_m: 0.9491 - recall_m: 0.9399 - val_loss: 0.6576 - val_accuracy: 0.8252 - val_f1_m: 0.8278 - val_precision_m: 0.8386 - val_recall_m: 0.8176\n",
            "Epoch 22/100\n",
            "44/44 [==============================] - 17s 380ms/step - loss: 0.1306 - accuracy: 0.9481 - f1_m: 0.9481 - precision_m: 0.9520 - recall_m: 0.9442 - val_loss: 1.1673 - val_accuracy: 0.7920 - val_f1_m: 0.7956 - val_precision_m: 0.8073 - val_recall_m: 0.7846\n",
            "Epoch 23/100\n",
            "44/44 [==============================] - 17s 385ms/step - loss: 0.1346 - accuracy: 0.9472 - f1_m: 0.9471 - precision_m: 0.9506 - recall_m: 0.9435 - val_loss: 0.7874 - val_accuracy: 0.7625 - val_f1_m: 0.7684 - val_precision_m: 0.7772 - val_recall_m: 0.7599\n",
            "Epoch 24/100\n",
            "44/44 [==============================] - 17s 382ms/step - loss: 0.1283 - accuracy: 0.9491 - f1_m: 0.9497 - precision_m: 0.9531 - recall_m: 0.9465 - val_loss: 1.1929 - val_accuracy: 0.7124 - val_f1_m: 0.7175 - val_precision_m: 0.7338 - val_recall_m: 0.7028\n",
            "Epoch 25/100\n",
            "44/44 [==============================] - 17s 383ms/step - loss: 0.1233 - accuracy: 0.9530 - f1_m: 0.9522 - precision_m: 0.9554 - recall_m: 0.9492 - val_loss: 1.0103 - val_accuracy: 0.7751 - val_f1_m: 0.7761 - val_precision_m: 0.7838 - val_recall_m: 0.7686\n",
            "Epoch 26/100\n",
            "44/44 [==============================] - 17s 380ms/step - loss: 0.1253 - accuracy: 0.9514 - f1_m: 0.9505 - precision_m: 0.9538 - recall_m: 0.9473 - val_loss: 1.6918 - val_accuracy: 0.7242 - val_f1_m: 0.7281 - val_precision_m: 0.7341 - val_recall_m: 0.7225\n",
            "Epoch 27/100\n",
            "44/44 [==============================] - 17s 381ms/step - loss: 0.1190 - accuracy: 0.9546 - f1_m: 0.9553 - precision_m: 0.9580 - recall_m: 0.9526 - val_loss: 0.8494 - val_accuracy: 0.7839 - val_f1_m: 0.7901 - val_precision_m: 0.7998 - val_recall_m: 0.7808\n",
            "Epoch 28/100\n",
            "44/44 [==============================] - 17s 375ms/step - loss: 0.1087 - accuracy: 0.9574 - f1_m: 0.9539 - precision_m: 0.9561 - recall_m: 0.9518 - val_loss: 0.7851 - val_accuracy: 0.7758 - val_f1_m: 0.7800 - val_precision_m: 0.7850 - val_recall_m: 0.7751\n",
            "Epoch 29/100\n",
            "44/44 [==============================] - 17s 390ms/step - loss: 0.1156 - accuracy: 0.9565 - f1_m: 0.9562 - precision_m: 0.9581 - recall_m: 0.9543 - val_loss: 0.7319 - val_accuracy: 0.8392 - val_f1_m: 0.8445 - val_precision_m: 0.8550 - val_recall_m: 0.8348\n",
            "Epoch 30/100\n",
            "44/44 [==============================] - 18s 400ms/step - loss: 0.1085 - accuracy: 0.9573 - f1_m: 0.9579 - precision_m: 0.9595 - recall_m: 0.9564 - val_loss: 1.1900 - val_accuracy: 0.7316 - val_f1_m: 0.7351 - val_precision_m: 0.7409 - val_recall_m: 0.7295\n",
            "Epoch 31/100\n",
            "44/44 [==============================] - 17s 377ms/step - loss: 0.1092 - accuracy: 0.9605 - f1_m: 0.9592 - precision_m: 0.9615 - recall_m: 0.9570 - val_loss: 1.9501 - val_accuracy: 0.7308 - val_f1_m: 0.7301 - val_precision_m: 0.7345 - val_recall_m: 0.7258\n",
            "Epoch 32/100\n",
            "44/44 [==============================] - 17s 383ms/step - loss: 0.1051 - accuracy: 0.9604 - f1_m: 0.9612 - precision_m: 0.9638 - recall_m: 0.9586 - val_loss: 1.0237 - val_accuracy: 0.7876 - val_f1_m: 0.7868 - val_precision_m: 0.7939 - val_recall_m: 0.7801\n",
            "Epoch 33/100\n",
            "44/44 [==============================] - 16s 372ms/step - loss: 0.1064 - accuracy: 0.9585 - f1_m: 0.9581 - precision_m: 0.9592 - recall_m: 0.9570 - val_loss: 1.1987 - val_accuracy: 0.7419 - val_f1_m: 0.7481 - val_precision_m: 0.7548 - val_recall_m: 0.7417\n",
            "Epoch 34/100\n",
            "44/44 [==============================] - 17s 378ms/step - loss: 0.1022 - accuracy: 0.9592 - f1_m: 0.9607 - precision_m: 0.9624 - recall_m: 0.9590 - val_loss: 0.9434 - val_accuracy: 0.7795 - val_f1_m: 0.7813 - val_precision_m: 0.7868 - val_recall_m: 0.7761\n",
            "Epoch 35/100\n",
            "44/44 [==============================] - 17s 380ms/step - loss: 0.0971 - accuracy: 0.9630 - f1_m: 0.9644 - precision_m: 0.9659 - recall_m: 0.9628 - val_loss: 0.7893 - val_accuracy: 0.8060 - val_f1_m: 0.8089 - val_precision_m: 0.8153 - val_recall_m: 0.8026\n",
            "Epoch 36/100\n",
            "44/44 [==============================] - 17s 381ms/step - loss: 0.0989 - accuracy: 0.9631 - f1_m: 0.9639 - precision_m: 0.9647 - recall_m: 0.9632 - val_loss: 0.6393 - val_accuracy: 0.8208 - val_f1_m: 0.8244 - val_precision_m: 0.8381 - val_recall_m: 0.8115\n",
            "Epoch 37/100\n",
            "44/44 [==============================] - 17s 380ms/step - loss: 0.0928 - accuracy: 0.9654 - f1_m: 0.9630 - precision_m: 0.9643 - recall_m: 0.9617 - val_loss: 3.9525 - val_accuracy: 0.6541 - val_f1_m: 0.6552 - val_precision_m: 0.6595 - val_recall_m: 0.6509\n",
            "Epoch 38/100\n",
            "44/44 [==============================] - 17s 386ms/step - loss: 0.0936 - accuracy: 0.9650 - f1_m: 0.9631 - precision_m: 0.9650 - recall_m: 0.9613 - val_loss: 1.1698 - val_accuracy: 0.7773 - val_f1_m: 0.7806 - val_precision_m: 0.7887 - val_recall_m: 0.7728\n",
            "Epoch 39/100\n",
            "44/44 [==============================] - 17s 391ms/step - loss: 0.0954 - accuracy: 0.9634 - f1_m: 0.9618 - precision_m: 0.9632 - recall_m: 0.9604 - val_loss: 0.6061 - val_accuracy: 0.8333 - val_f1_m: 0.8392 - val_precision_m: 0.8501 - val_recall_m: 0.8288\n",
            "Epoch 40/100\n",
            "44/44 [==============================] - 17s 390ms/step - loss: 0.0904 - accuracy: 0.9677 - f1_m: 0.9670 - precision_m: 0.9683 - recall_m: 0.9658 - val_loss: 0.7397 - val_accuracy: 0.7891 - val_f1_m: 0.7920 - val_precision_m: 0.7976 - val_recall_m: 0.7866\n",
            "Epoch 41/100\n",
            "44/44 [==============================] - 17s 384ms/step - loss: 0.0837 - accuracy: 0.9666 - f1_m: 0.9661 - precision_m: 0.9672 - recall_m: 0.9651 - val_loss: 1.4850 - val_accuracy: 0.7507 - val_f1_m: 0.7490 - val_precision_m: 0.7539 - val_recall_m: 0.7443\n",
            "Epoch 42/100\n",
            "44/44 [==============================] - 16s 374ms/step - loss: 0.0866 - accuracy: 0.9672 - f1_m: 0.9679 - precision_m: 0.9689 - recall_m: 0.9668 - val_loss: 0.8337 - val_accuracy: 0.7987 - val_f1_m: 0.8022 - val_precision_m: 0.8080 - val_recall_m: 0.7966\n",
            "Epoch 43/100\n",
            "44/44 [==============================] - 17s 382ms/step - loss: 0.0871 - accuracy: 0.9667 - f1_m: 0.9675 - precision_m: 0.9681 - recall_m: 0.9669 - val_loss: 1.2102 - val_accuracy: 0.7426 - val_f1_m: 0.7430 - val_precision_m: 0.7462 - val_recall_m: 0.7399\n",
            "Epoch 44/100\n",
            "44/44 [==============================] - 17s 392ms/step - loss: 0.0851 - accuracy: 0.9645 - f1_m: 0.9629 - precision_m: 0.9634 - recall_m: 0.9624 - val_loss: 0.8786 - val_accuracy: 0.8083 - val_f1_m: 0.8136 - val_precision_m: 0.8209 - val_recall_m: 0.8066\n",
            "Epoch 45/100\n",
            "44/44 [==============================] - 17s 398ms/step - loss: 0.0821 - accuracy: 0.9694 - f1_m: 0.9699 - precision_m: 0.9704 - recall_m: 0.9693 - val_loss: 0.7177 - val_accuracy: 0.8237 - val_f1_m: 0.8289 - val_precision_m: 0.8334 - val_recall_m: 0.8244\n",
            "Epoch 46/100\n",
            "44/44 [==============================] - 17s 391ms/step - loss: 0.0798 - accuracy: 0.9703 - f1_m: 0.9699 - precision_m: 0.9704 - recall_m: 0.9694 - val_loss: 1.0897 - val_accuracy: 0.7788 - val_f1_m: 0.7818 - val_precision_m: 0.7846 - val_recall_m: 0.7792\n",
            "Epoch 47/100\n",
            "44/44 [==============================] - 17s 386ms/step - loss: 0.0765 - accuracy: 0.9704 - f1_m: 0.9700 - precision_m: 0.9703 - recall_m: 0.9696 - val_loss: 1.8423 - val_accuracy: 0.7729 - val_f1_m: 0.7767 - val_precision_m: 0.7822 - val_recall_m: 0.7713\n",
            "Epoch 48/100\n",
            "44/44 [==============================] - 17s 386ms/step - loss: 0.0782 - accuracy: 0.9703 - f1_m: 0.9709 - precision_m: 0.9718 - recall_m: 0.9701 - val_loss: 0.7919 - val_accuracy: 0.7965 - val_f1_m: 0.7970 - val_precision_m: 0.8024 - val_recall_m: 0.7917\n",
            "Epoch 49/100\n",
            "44/44 [==============================] - 17s 387ms/step - loss: 0.0716 - accuracy: 0.9718 - f1_m: 0.9701 - precision_m: 0.9706 - recall_m: 0.9695 - val_loss: 0.8472 - val_accuracy: 0.7891 - val_f1_m: 0.7933 - val_precision_m: 0.7979 - val_recall_m: 0.7889\n",
            "Epoch 50/100\n",
            "44/44 [==============================] - 17s 384ms/step - loss: 0.0717 - accuracy: 0.9747 - f1_m: 0.9750 - precision_m: 0.9755 - recall_m: 0.9744 - val_loss: 1.8557 - val_accuracy: 0.7574 - val_f1_m: 0.7587 - val_precision_m: 0.7627 - val_recall_m: 0.7548\n",
            "Epoch 51/100\n",
            "44/44 [==============================] - 17s 392ms/step - loss: 0.0728 - accuracy: 0.9735 - f1_m: 0.9718 - precision_m: 0.9721 - recall_m: 0.9715 - val_loss: 1.4942 - val_accuracy: 0.7404 - val_f1_m: 0.7422 - val_precision_m: 0.7473 - val_recall_m: 0.7374\n",
            "Epoch 52/100\n",
            "44/44 [==============================] - 16s 373ms/step - loss: 0.0810 - accuracy: 0.9683 - f1_m: 0.9679 - precision_m: 0.9686 - recall_m: 0.9673 - val_loss: 0.6098 - val_accuracy: 0.8473 - val_f1_m: 0.8505 - val_precision_m: 0.8571 - val_recall_m: 0.8441\n",
            "Epoch 53/100\n",
            "44/44 [==============================] - 17s 393ms/step - loss: 0.0682 - accuracy: 0.9753 - f1_m: 0.9745 - precision_m: 0.9751 - recall_m: 0.9740 - val_loss: 1.5801 - val_accuracy: 0.7596 - val_f1_m: 0.7579 - val_precision_m: 0.7627 - val_recall_m: 0.7533\n",
            "Epoch 54/100\n",
            "44/44 [==============================] - 17s 387ms/step - loss: 0.0695 - accuracy: 0.9747 - f1_m: 0.9753 - precision_m: 0.9760 - recall_m: 0.9747 - val_loss: 1.1540 - val_accuracy: 0.7640 - val_f1_m: 0.7669 - val_precision_m: 0.7702 - val_recall_m: 0.7637\n",
            "Epoch 55/100\n",
            "44/44 [==============================] - 17s 379ms/step - loss: 0.0701 - accuracy: 0.9734 - f1_m: 0.9740 - precision_m: 0.9743 - recall_m: 0.9738 - val_loss: 0.9201 - val_accuracy: 0.8075 - val_f1_m: 0.8127 - val_precision_m: 0.8159 - val_recall_m: 0.8095\n",
            "Epoch 56/100\n",
            "44/44 [==============================] - 17s 380ms/step - loss: 0.0684 - accuracy: 0.9738 - f1_m: 0.9733 - precision_m: 0.9737 - recall_m: 0.9728 - val_loss: 1.3754 - val_accuracy: 0.7537 - val_f1_m: 0.7565 - val_precision_m: 0.7588 - val_recall_m: 0.7542\n",
            "Epoch 57/100\n",
            "44/44 [==============================] - 17s 383ms/step - loss: 0.0671 - accuracy: 0.9752 - f1_m: 0.9738 - precision_m: 0.9746 - recall_m: 0.9732 - val_loss: 0.8982 - val_accuracy: 0.7935 - val_f1_m: 0.7988 - val_precision_m: 0.8035 - val_recall_m: 0.7942\n",
            "Epoch 58/100\n",
            "44/44 [==============================] - 17s 392ms/step - loss: 0.0649 - accuracy: 0.9776 - f1_m: 0.9781 - precision_m: 0.9784 - recall_m: 0.9778 - val_loss: 0.6268 - val_accuracy: 0.8680 - val_f1_m: 0.8701 - val_precision_m: 0.8727 - val_recall_m: 0.8675\n",
            "Epoch 59/100\n",
            "44/44 [==============================] - 17s 391ms/step - loss: 0.0630 - accuracy: 0.9784 - f1_m: 0.9764 - precision_m: 0.9770 - recall_m: 0.9759 - val_loss: 1.0704 - val_accuracy: 0.8569 - val_f1_m: 0.8613 - val_precision_m: 0.8654 - val_recall_m: 0.8573\n",
            "Epoch 60/100\n",
            "44/44 [==============================] - 17s 383ms/step - loss: 0.0636 - accuracy: 0.9773 - f1_m: 0.9779 - precision_m: 0.9783 - recall_m: 0.9775 - val_loss: 0.8612 - val_accuracy: 0.8296 - val_f1_m: 0.8305 - val_precision_m: 0.8334 - val_recall_m: 0.8276\n",
            "Epoch 61/100\n",
            "44/44 [==============================] - 17s 392ms/step - loss: 0.0552 - accuracy: 0.9821 - f1_m: 0.9812 - precision_m: 0.9813 - recall_m: 0.9811 - val_loss: 1.4197 - val_accuracy: 0.7684 - val_f1_m: 0.7749 - val_precision_m: 0.7795 - val_recall_m: 0.7703\n",
            "Epoch 62/100\n",
            "44/44 [==============================] - 17s 396ms/step - loss: 0.0633 - accuracy: 0.9769 - f1_m: 0.9760 - precision_m: 0.9762 - recall_m: 0.9758 - val_loss: 2.7743 - val_accuracy: 0.6674 - val_f1_m: 0.6678 - val_precision_m: 0.6720 - val_recall_m: 0.6636\n",
            "Epoch 63/100\n",
            "44/44 [==============================] - 17s 385ms/step - loss: 0.0703 - accuracy: 0.9753 - f1_m: 0.9758 - precision_m: 0.9762 - recall_m: 0.9753 - val_loss: 0.8773 - val_accuracy: 0.8068 - val_f1_m: 0.8085 - val_precision_m: 0.8102 - val_recall_m: 0.8067\n",
            "Epoch 64/100\n",
            "44/44 [==============================] - 17s 382ms/step - loss: 0.0600 - accuracy: 0.9786 - f1_m: 0.9789 - precision_m: 0.9791 - recall_m: 0.9788 - val_loss: 0.6804 - val_accuracy: 0.8665 - val_f1_m: 0.8713 - val_precision_m: 0.8752 - val_recall_m: 0.8675\n",
            "Epoch 65/100\n",
            "44/44 [==============================] - 17s 384ms/step - loss: 0.0530 - accuracy: 0.9793 - f1_m: 0.9795 - precision_m: 0.9798 - recall_m: 0.9793 - val_loss: 1.0161 - val_accuracy: 0.8341 - val_f1_m: 0.8349 - val_precision_m: 0.8388 - val_recall_m: 0.8311\n",
            "Epoch 66/100\n",
            "44/44 [==============================] - 17s 379ms/step - loss: 0.0614 - accuracy: 0.9790 - f1_m: 0.9783 - precision_m: 0.9784 - recall_m: 0.9783 - val_loss: 0.6427 - val_accuracy: 0.8746 - val_f1_m: 0.8769 - val_precision_m: 0.8838 - val_recall_m: 0.8702\n",
            "Epoch 67/100\n",
            "44/44 [==============================] - 17s 379ms/step - loss: 0.0572 - accuracy: 0.9781 - f1_m: 0.9785 - precision_m: 0.9786 - recall_m: 0.9783 - val_loss: 1.1141 - val_accuracy: 0.8208 - val_f1_m: 0.8230 - val_precision_m: 0.8274 - val_recall_m: 0.8188\n",
            "Epoch 68/100\n",
            "44/44 [==============================] - 17s 388ms/step - loss: 0.0520 - accuracy: 0.9825 - f1_m: 0.9805 - precision_m: 0.9807 - recall_m: 0.9804 - val_loss: 1.2343 - val_accuracy: 0.7566 - val_f1_m: 0.7579 - val_precision_m: 0.7630 - val_recall_m: 0.7531\n",
            "Epoch 69/100\n",
            "44/44 [==============================] - 17s 392ms/step - loss: 0.0591 - accuracy: 0.9775 - f1_m: 0.9769 - precision_m: 0.9770 - recall_m: 0.9768 - val_loss: 0.9003 - val_accuracy: 0.8075 - val_f1_m: 0.8102 - val_precision_m: 0.8142 - val_recall_m: 0.8063\n",
            "Epoch 70/100\n",
            "44/44 [==============================] - 17s 389ms/step - loss: 0.0602 - accuracy: 0.9789 - f1_m: 0.9793 - precision_m: 0.9795 - recall_m: 0.9791 - val_loss: 0.6733 - val_accuracy: 0.8732 - val_f1_m: 0.8761 - val_precision_m: 0.8793 - val_recall_m: 0.8730\n",
            "Epoch 71/100\n",
            "44/44 [==============================] - 17s 381ms/step - loss: 0.0509 - accuracy: 0.9820 - f1_m: 0.9811 - precision_m: 0.9812 - recall_m: 0.9809 - val_loss: 0.8980 - val_accuracy: 0.8429 - val_f1_m: 0.8398 - val_precision_m: 0.8429 - val_recall_m: 0.8368\n",
            "Epoch 72/100\n",
            "44/44 [==============================] - 17s 379ms/step - loss: 0.0546 - accuracy: 0.9811 - f1_m: 0.9803 - precision_m: 0.9804 - recall_m: 0.9801 - val_loss: 1.0129 - val_accuracy: 0.8378 - val_f1_m: 0.8368 - val_precision_m: 0.8400 - val_recall_m: 0.8338\n",
            "Epoch 73/100\n",
            "44/44 [==============================] - 17s 393ms/step - loss: 0.0538 - accuracy: 0.9814 - f1_m: 0.9818 - precision_m: 0.9819 - recall_m: 0.9816 - val_loss: 1.3389 - val_accuracy: 0.7596 - val_f1_m: 0.7602 - val_precision_m: 0.7613 - val_recall_m: 0.7591\n",
            "Epoch 74/100\n",
            "44/44 [==============================] - 17s 380ms/step - loss: 0.0488 - accuracy: 0.9810 - f1_m: 0.9814 - precision_m: 0.9816 - recall_m: 0.9813 - val_loss: 0.9376 - val_accuracy: 0.8555 - val_f1_m: 0.8544 - val_precision_m: 0.8566 - val_recall_m: 0.8523\n",
            "Epoch 75/100\n",
            "44/44 [==============================] - 17s 386ms/step - loss: 0.0526 - accuracy: 0.9804 - f1_m: 0.9810 - precision_m: 0.9812 - recall_m: 0.9807 - val_loss: 0.8370 - val_accuracy: 0.8326 - val_f1_m: 0.8348 - val_precision_m: 0.8360 - val_recall_m: 0.8337\n",
            "Epoch 76/100\n",
            "44/44 [==============================] - 18s 398ms/step - loss: 0.0569 - accuracy: 0.9791 - f1_m: 0.9760 - precision_m: 0.9763 - recall_m: 0.9756 - val_loss: 1.3721 - val_accuracy: 0.7832 - val_f1_m: 0.7857 - val_precision_m: 0.7975 - val_recall_m: 0.7744\n",
            "Epoch 77/100\n",
            "44/44 [==============================] - 17s 391ms/step - loss: 0.0534 - accuracy: 0.9809 - f1_m: 0.9813 - precision_m: 0.9814 - recall_m: 0.9813 - val_loss: 0.9187 - val_accuracy: 0.8142 - val_f1_m: 0.8180 - val_precision_m: 0.8219 - val_recall_m: 0.8143\n",
            "Epoch 78/100\n",
            "44/44 [==============================] - 17s 388ms/step - loss: 0.0492 - accuracy: 0.9810 - f1_m: 0.9814 - precision_m: 0.9817 - recall_m: 0.9811 - val_loss: 0.9275 - val_accuracy: 0.8149 - val_f1_m: 0.8197 - val_precision_m: 0.8234 - val_recall_m: 0.8160\n",
            "Epoch 79/100\n",
            "44/44 [==============================] - 17s 376ms/step - loss: 0.0454 - accuracy: 0.9818 - f1_m: 0.9821 - precision_m: 0.9823 - recall_m: 0.9819 - val_loss: 0.8461 - val_accuracy: 0.8171 - val_f1_m: 0.8204 - val_precision_m: 0.8246 - val_recall_m: 0.8163\n",
            "Epoch 80/100\n",
            "44/44 [==============================] - 17s 385ms/step - loss: 0.0539 - accuracy: 0.9810 - f1_m: 0.9803 - precision_m: 0.9804 - recall_m: 0.9801 - val_loss: 1.1535 - val_accuracy: 0.7869 - val_f1_m: 0.7895 - val_precision_m: 0.7931 - val_recall_m: 0.7860\n",
            "Epoch 81/100\n",
            "44/44 [==============================] - 17s 394ms/step - loss: 0.0488 - accuracy: 0.9811 - f1_m: 0.9805 - precision_m: 0.9807 - recall_m: 0.9803 - val_loss: 1.2216 - val_accuracy: 0.7957 - val_f1_m: 0.7980 - val_precision_m: 0.7995 - val_recall_m: 0.7966\n",
            "Epoch 82/100\n",
            "44/44 [==============================] - 17s 378ms/step - loss: 0.0506 - accuracy: 0.9827 - f1_m: 0.9817 - precision_m: 0.9820 - recall_m: 0.9815 - val_loss: 4.9581 - val_accuracy: 0.7058 - val_f1_m: 0.7088 - val_precision_m: 0.7118 - val_recall_m: 0.7059\n",
            "Epoch 83/100\n",
            "44/44 [==============================] - 17s 391ms/step - loss: 0.1559 - accuracy: 0.9535 - f1_m: 0.9534 - precision_m: 0.9542 - recall_m: 0.9526 - val_loss: 1.4246 - val_accuracy: 0.7323 - val_f1_m: 0.7317 - val_precision_m: 0.7354 - val_recall_m: 0.7281\n",
            "Epoch 84/100\n",
            "44/44 [==============================] - 17s 382ms/step - loss: 0.0619 - accuracy: 0.9780 - f1_m: 0.9762 - precision_m: 0.9764 - recall_m: 0.9760 - val_loss: 5.6280 - val_accuracy: 0.7205 - val_f1_m: 0.7234 - val_precision_m: 0.7327 - val_recall_m: 0.7146\n",
            "Epoch 85/100\n",
            "44/44 [==============================] - 17s 381ms/step - loss: 0.0514 - accuracy: 0.9818 - f1_m: 0.9810 - precision_m: 0.9810 - recall_m: 0.9810 - val_loss: 1.3348 - val_accuracy: 0.8016 - val_f1_m: 0.8033 - val_precision_m: 0.8059 - val_recall_m: 0.8008\n",
            "Epoch 86/100\n",
            "44/44 [==============================] - 17s 382ms/step - loss: 0.0481 - accuracy: 0.9821 - f1_m: 0.9803 - precision_m: 0.9804 - recall_m: 0.9801 - val_loss: 3.3006 - val_accuracy: 0.7419 - val_f1_m: 0.7462 - val_precision_m: 0.7504 - val_recall_m: 0.7422\n",
            "Epoch 87/100\n",
            "44/44 [==============================] - 17s 381ms/step - loss: 0.0462 - accuracy: 0.9828 - f1_m: 0.9819 - precision_m: 0.9821 - recall_m: 0.9816 - val_loss: 0.8441 - val_accuracy: 0.8577 - val_f1_m: 0.8594 - val_precision_m: 0.8620 - val_recall_m: 0.8569\n",
            "Epoch 88/100\n",
            "44/44 [==============================] - 16s 374ms/step - loss: 0.0439 - accuracy: 0.9842 - f1_m: 0.9799 - precision_m: 0.9799 - recall_m: 0.9798 - val_loss: 1.8852 - val_accuracy: 0.7493 - val_f1_m: 0.7533 - val_precision_m: 0.7556 - val_recall_m: 0.7511\n",
            "Epoch 89/100\n",
            "44/44 [==============================] - 17s 380ms/step - loss: 0.0447 - accuracy: 0.9841 - f1_m: 0.9844 - precision_m: 0.9845 - recall_m: 0.9842 - val_loss: 1.0540 - val_accuracy: 0.7979 - val_f1_m: 0.7991 - val_precision_m: 0.8005 - val_recall_m: 0.7977\n",
            "Epoch 90/100\n",
            "44/44 [==============================] - 17s 378ms/step - loss: 0.0495 - accuracy: 0.9827 - f1_m: 0.9832 - precision_m: 0.9834 - recall_m: 0.9831 - val_loss: 1.7689 - val_accuracy: 0.7633 - val_f1_m: 0.7641 - val_precision_m: 0.7656 - val_recall_m: 0.7625\n",
            "Epoch 91/100\n",
            "44/44 [==============================] - 17s 382ms/step - loss: 0.0461 - accuracy: 0.9833 - f1_m: 0.9837 - precision_m: 0.9837 - recall_m: 0.9836 - val_loss: 0.8962 - val_accuracy: 0.7802 - val_f1_m: 0.7801 - val_precision_m: 0.7827 - val_recall_m: 0.7775\n",
            "Epoch 92/100\n",
            "44/44 [==============================] - 17s 383ms/step - loss: 0.0444 - accuracy: 0.9833 - f1_m: 0.9825 - precision_m: 0.9828 - recall_m: 0.9823 - val_loss: 4.3380 - val_accuracy: 0.6534 - val_f1_m: 0.6556 - val_precision_m: 0.6628 - val_recall_m: 0.6486\n",
            "Epoch 93/100\n",
            "44/44 [==============================] - 17s 378ms/step - loss: 0.0956 - accuracy: 0.9724 - f1_m: 0.9731 - precision_m: 0.9734 - recall_m: 0.9728 - val_loss: 1.1910 - val_accuracy: 0.8319 - val_f1_m: 0.8310 - val_precision_m: 0.8320 - val_recall_m: 0.8301\n",
            "Epoch 94/100\n",
            "44/44 [==============================] - 17s 392ms/step - loss: 0.0445 - accuracy: 0.9849 - f1_m: 0.9854 - precision_m: 0.9856 - recall_m: 0.9852 - val_loss: 1.2500 - val_accuracy: 0.7913 - val_f1_m: 0.7906 - val_precision_m: 0.7920 - val_recall_m: 0.7893\n",
            "Epoch 95/100\n",
            "44/44 [==============================] - 17s 380ms/step - loss: 0.0417 - accuracy: 0.9835 - f1_m: 0.9815 - precision_m: 0.9816 - recall_m: 0.9813 - val_loss: 1.4620 - val_accuracy: 0.7780 - val_f1_m: 0.7805 - val_precision_m: 0.7841 - val_recall_m: 0.7770\n",
            "Epoch 96/100\n",
            "44/44 [==============================] - 16s 372ms/step - loss: 0.0455 - accuracy: 0.9845 - f1_m: 0.9847 - precision_m: 0.9850 - recall_m: 0.9844 - val_loss: 1.1758 - val_accuracy: 0.8459 - val_f1_m: 0.8444 - val_precision_m: 0.8457 - val_recall_m: 0.8432\n",
            "Epoch 97/100\n",
            "44/44 [==============================] - 17s 382ms/step - loss: 0.0424 - accuracy: 0.9848 - f1_m: 0.9851 - precision_m: 0.9852 - recall_m: 0.9850 - val_loss: 1.0652 - val_accuracy: 0.8518 - val_f1_m: 0.8522 - val_precision_m: 0.8560 - val_recall_m: 0.8484\n",
            "Epoch 98/100\n",
            "44/44 [==============================] - 17s 383ms/step - loss: 0.0512 - accuracy: 0.9834 - f1_m: 0.9837 - precision_m: 0.9839 - recall_m: 0.9836 - val_loss: 1.2338 - val_accuracy: 0.8201 - val_f1_m: 0.8219 - val_precision_m: 0.8236 - val_recall_m: 0.8203\n",
            "Epoch 99/100\n",
            "44/44 [==============================] - 17s 378ms/step - loss: 0.0441 - accuracy: 0.9855 - f1_m: 0.9857 - precision_m: 0.9858 - recall_m: 0.9856 - val_loss: 1.0856 - val_accuracy: 0.7928 - val_f1_m: 0.7947 - val_precision_m: 0.7996 - val_recall_m: 0.7898\n",
            "Epoch 100/100\n",
            "44/44 [==============================] - 17s 382ms/step - loss: 0.0387 - accuracy: 0.9865 - f1_m: 0.9867 - precision_m: 0.9869 - recall_m: 0.9865 - val_loss: 1.8631 - val_accuracy: 0.7979 - val_f1_m: 0.8004 - val_precision_m: 0.8027 - val_recall_m: 0.7981\n"
          ]
        }
      ]
    },
    {
      "cell_type": "code",
      "source": [
        "plotmetrics(UCI_GRU_CNN)"
      ],
      "metadata": {
        "colab": {
          "base_uri": "https://localhost:8080/",
          "height": 295
        },
        "id": "yKU9W641BXGl",
        "outputId": "ac27e7a4-72b2-4803-b9d5-fd43b27b6c77"
      },
      "execution_count": null,
      "outputs": [
        {
          "output_type": "display_data",
          "data": {
            "image/png": "[encoded data removed]",
            "text/plain": [
              "<Figure size 432x288 with 7 Axes>"
            ]
          },
          "metadata": {
            "needs_background": "light"
          }
        }
      ]
    },
    {
      "cell_type": "code",
      "source": [
        "save_model_history(UCImodels['GRU_CNN'],'/content/drive/MyDrive/Datasets/UCI_HAPT_DATASET/UCI_GRU_CNN_history',UCI_GRU_CNN,\n",
        "                   '/content/drive/MyDrive/Datasets/UCI_HAPT_DATASET/UCIGRU_CNN')"
      ],
      "metadata": {
        "id": "IG_LfZKyBihD",
        "colab": {
          "base_uri": "https://localhost:8080/"
        },
        "outputId": "198d75b4-fcf3-47dd-bc7f-7b4fff58b5cd"
      },
      "execution_count": null,
      "outputs": [
        {
          "output_type": "stream",
          "name": "stdout",
          "text": [
            "INFO:tensorflow:Assets written to: /content/drive/MyDrive/Datasets/UCI_HAPT_DATASET/UCIGRU_CNNLSTM_CNN_SANDWICH/assets\n"
          ]
        },
        {
          "output_type": "stream",
          "name": "stderr",
          "text": [
            "WARNING:absl:<keras.layers.recurrent.GRUCell object at 0x7f923afff150> has the same name 'GRUCell' as a built-in Keras object. Consider renaming <class 'keras.layers.recurrent.GRUCell'> to avoid naming conflicts when loading with `tf.keras.models.load_model`. If renaming is not possible, pass the object in the `custom_objects` parameter of the load function.\n",
            "WARNING:absl:<keras.layers.recurrent.GRUCell object at 0x7f923b02f0d0> has the same name 'GRUCell' as a built-in Keras object. Consider renaming <class 'keras.layers.recurrent.GRUCell'> to avoid naming conflicts when loading with `tf.keras.models.load_model`. If renaming is not possible, pass the object in the `custom_objects` parameter of the load function.\n"
          ]
        }
      ]
    },
    {
      "cell_type": "markdown",
      "source": [
        "UCI CNN_GRU"
      ],
      "metadata": {
        "id": "MCfCwRC8sHMP"
      }
    },
    {
      "cell_type": "code",
      "source": [
        "UCI_CNN_GRU = UCImodels['CNN_GRU'].fit(UCIhalf_trainFFT, UCItrainY, epochs = 100, batch_size = 200, validation_data = (UCIhalf_valFFT, UCIvalY))"
      ],
      "metadata": {
        "colab": {
          "base_uri": "https://localhost:8080/"
        },
        "id": "edEKHHScsKZt",
        "outputId": "eeb91a9d-ad65-4b02-a830-3a1573cba93f"
      },
      "execution_count": null,
      "outputs": [
        {
          "output_type": "stream",
          "name": "stdout",
          "text": [
            "Epoch 1/100\n",
            "44/44 [==============================] - 22s 346ms/step - loss: 1.7343 - accuracy: 0.3442 - f1_m: 0.0490 - precision_m: 0.6838 - recall_m: 0.0257 - val_loss: 2.3466 - val_accuracy: 0.3466 - val_f1_m: 0.0000e+00 - val_precision_m: 0.0000e+00 - val_recall_m: 0.0000e+00\n",
            "Epoch 2/100\n",
            "44/44 [==============================] - 15s 337ms/step - loss: 1.3854 - accuracy: 0.3971 - f1_m: 0.0899 - precision_m: 0.6661 - recall_m: 0.0486 - val_loss: 2.2314 - val_accuracy: 0.3142 - val_f1_m: 0.0000e+00 - val_precision_m: 0.0000e+00 - val_recall_m: 0.0000e+00\n",
            "Epoch 3/100\n",
            "44/44 [==============================] - 14s 326ms/step - loss: 1.2752 - accuracy: 0.4197 - f1_m: 0.1612 - precision_m: 0.6918 - recall_m: 0.0930 - val_loss: 2.1483 - val_accuracy: 0.2382 - val_f1_m: 0.0000e+00 - val_precision_m: 0.0000e+00 - val_recall_m: 0.0000e+00\n",
            "Epoch 4/100\n",
            "44/44 [==============================] - 15s 333ms/step - loss: 1.2048 - accuracy: 0.4358 - f1_m: 0.2495 - precision_m: 0.6975 - recall_m: 0.1530 - val_loss: 1.9240 - val_accuracy: 0.3547 - val_f1_m: 0.0000e+00 - val_precision_m: 0.0000e+00 - val_recall_m: 0.0000e+00\n",
            "Epoch 5/100\n",
            "44/44 [==============================] - 14s 324ms/step - loss: 1.1085 - accuracy: 0.4784 - f1_m: 0.3510 - precision_m: 0.7638 - recall_m: 0.2288 - val_loss: 1.9502 - val_accuracy: 0.2419 - val_f1_m: 0.0000e+00 - val_precision_m: 0.0000e+00 - val_recall_m: 0.0000e+00\n",
            "Epoch 6/100\n",
            "44/44 [==============================] - 14s 326ms/step - loss: 0.9577 - accuracy: 0.5583 - f1_m: 0.4702 - precision_m: 0.8090 - recall_m: 0.3357 - val_loss: 1.5571 - val_accuracy: 0.3687 - val_f1_m: 0.0967 - val_precision_m: 0.5012 - val_recall_m: 0.0564\n",
            "Epoch 7/100\n",
            "44/44 [==============================] - 15s 350ms/step - loss: 0.7134 - accuracy: 0.6958 - f1_m: 0.6684 - precision_m: 0.8467 - recall_m: 0.5594 - val_loss: 3.3447 - val_accuracy: 0.3083 - val_f1_m: 0.2070 - val_precision_m: 0.2741 - val_recall_m: 0.1664\n",
            "Epoch 8/100\n",
            "44/44 [==============================] - 15s 330ms/step - loss: 0.5065 - accuracy: 0.8025 - f1_m: 0.7970 - precision_m: 0.8722 - recall_m: 0.7346 - val_loss: 1.4441 - val_accuracy: 0.4285 - val_f1_m: 0.3672 - val_precision_m: 0.4380 - val_recall_m: 0.3168\n",
            "Epoch 9/100\n",
            "44/44 [==============================] - 14s 324ms/step - loss: 0.4216 - accuracy: 0.8334 - f1_m: 0.8404 - precision_m: 0.8873 - recall_m: 0.7986 - val_loss: 0.8805 - val_accuracy: 0.6018 - val_f1_m: 0.5991 - val_precision_m: 0.6552 - val_recall_m: 0.5528\n",
            "Epoch 10/100\n",
            "44/44 [==============================] - 14s 321ms/step - loss: 0.3708 - accuracy: 0.8478 - f1_m: 0.8539 - precision_m: 0.8950 - recall_m: 0.8168 - val_loss: 1.1436 - val_accuracy: 0.6055 - val_f1_m: 0.4804 - val_precision_m: 0.7174 - val_recall_m: 0.3637\n",
            "Epoch 11/100\n",
            "44/44 [==============================] - 14s 327ms/step - loss: 0.3411 - accuracy: 0.8551 - f1_m: 0.8634 - precision_m: 0.9063 - recall_m: 0.8245 - val_loss: 1.0681 - val_accuracy: 0.6622 - val_f1_m: 0.6696 - val_precision_m: 0.7136 - val_recall_m: 0.6319\n",
            "Epoch 12/100\n",
            "44/44 [==============================] - 14s 328ms/step - loss: 0.3178 - accuracy: 0.8709 - f1_m: 0.8762 - precision_m: 0.9150 - recall_m: 0.8408 - val_loss: 0.8006 - val_accuracy: 0.7028 - val_f1_m: 0.7125 - val_precision_m: 0.8145 - val_recall_m: 0.6365\n",
            "Epoch 13/100\n",
            "44/44 [==============================] - 14s 321ms/step - loss: 0.3003 - accuracy: 0.8754 - f1_m: 0.8751 - precision_m: 0.9131 - recall_m: 0.8403 - val_loss: 1.3246 - val_accuracy: 0.5819 - val_f1_m: 0.5981 - val_precision_m: 0.6397 - val_recall_m: 0.5620\n",
            "Epoch 14/100\n",
            "44/44 [==============================] - 16s 358ms/step - loss: 0.2874 - accuracy: 0.8779 - f1_m: 0.8811 - precision_m: 0.9159 - recall_m: 0.8491 - val_loss: 1.1598 - val_accuracy: 0.6858 - val_f1_m: 0.6875 - val_precision_m: 0.7228 - val_recall_m: 0.6556\n",
            "Epoch 15/100\n",
            "44/44 [==============================] - 14s 309ms/step - loss: 0.2730 - accuracy: 0.8865 - f1_m: 0.8870 - precision_m: 0.9207 - recall_m: 0.8561 - val_loss: 1.2763 - val_accuracy: 0.6534 - val_f1_m: 0.6694 - val_precision_m: 0.7077 - val_recall_m: 0.6367\n",
            "Epoch 16/100\n",
            "44/44 [==============================] - 14s 319ms/step - loss: 0.2464 - accuracy: 0.8996 - f1_m: 0.8990 - precision_m: 0.9302 - recall_m: 0.8699 - val_loss: 1.9605 - val_accuracy: 0.5804 - val_f1_m: 0.5883 - val_precision_m: 0.6288 - val_recall_m: 0.5532\n",
            "Epoch 17/100\n",
            "44/44 [==============================] - 14s 329ms/step - loss: 0.2449 - accuracy: 0.9030 - f1_m: 0.9024 - precision_m: 0.9333 - recall_m: 0.8737 - val_loss: 5.9418 - val_accuracy: 0.4373 - val_f1_m: 0.4475 - val_precision_m: 0.4818 - val_recall_m: 0.4181\n",
            "Epoch 18/100\n",
            "44/44 [==============================] - 14s 320ms/step - loss: 0.2400 - accuracy: 0.9072 - f1_m: 0.9061 - precision_m: 0.9337 - recall_m: 0.8803 - val_loss: 1.0688 - val_accuracy: 0.6969 - val_f1_m: 0.7041 - val_precision_m: 0.7495 - val_recall_m: 0.6644\n",
            "Epoch 19/100\n",
            "44/44 [==============================] - 14s 320ms/step - loss: 0.2369 - accuracy: 0.9036 - f1_m: 0.9065 - precision_m: 0.9358 - recall_m: 0.8793 - val_loss: 1.4401 - val_accuracy: 0.6947 - val_f1_m: 0.7025 - val_precision_m: 0.7343 - val_recall_m: 0.6739\n",
            "Epoch 20/100\n",
            "44/44 [==============================] - 14s 324ms/step - loss: 0.2181 - accuracy: 0.9122 - f1_m: 0.9138 - precision_m: 0.9373 - recall_m: 0.8916 - val_loss: 1.0640 - val_accuracy: 0.7338 - val_f1_m: 0.7411 - val_precision_m: 0.7674 - val_recall_m: 0.7166\n",
            "Epoch 21/100\n",
            "44/44 [==============================] - 14s 317ms/step - loss: 0.2008 - accuracy: 0.9182 - f1_m: 0.9193 - precision_m: 0.9422 - recall_m: 0.8977 - val_loss: 2.9567 - val_accuracy: 0.5450 - val_f1_m: 0.5520 - val_precision_m: 0.5776 - val_recall_m: 0.5292\n",
            "Epoch 22/100\n",
            "44/44 [==============================] - 14s 315ms/step - loss: 0.2064 - accuracy: 0.9173 - f1_m: 0.9203 - precision_m: 0.9406 - recall_m: 0.9009 - val_loss: 0.7396 - val_accuracy: 0.8201 - val_f1_m: 0.8283 - val_precision_m: 0.8499 - val_recall_m: 0.8079\n",
            "Epoch 23/100\n",
            "44/44 [==============================] - 14s 317ms/step - loss: 0.1929 - accuracy: 0.9225 - f1_m: 0.9258 - precision_m: 0.9453 - recall_m: 0.9073 - val_loss: 1.7226 - val_accuracy: 0.6984 - val_f1_m: 0.7115 - val_precision_m: 0.7450 - val_recall_m: 0.6824\n",
            "Epoch 24/100\n",
            "44/44 [==============================] - 14s 327ms/step - loss: 0.1862 - accuracy: 0.9274 - f1_m: 0.9277 - precision_m: 0.9460 - recall_m: 0.9102 - val_loss: 1.1526 - val_accuracy: 0.7153 - val_f1_m: 0.7233 - val_precision_m: 0.7437 - val_recall_m: 0.7043\n",
            "Epoch 25/100\n",
            "44/44 [==============================] - 14s 326ms/step - loss: 0.1769 - accuracy: 0.9291 - f1_m: 0.9330 - precision_m: 0.9508 - recall_m: 0.9159 - val_loss: 0.7729 - val_accuracy: 0.7618 - val_f1_m: 0.7708 - val_precision_m: 0.7967 - val_recall_m: 0.7468\n",
            "Epoch 26/100\n",
            "44/44 [==============================] - 14s 319ms/step - loss: 0.1682 - accuracy: 0.9358 - f1_m: 0.9325 - precision_m: 0.9482 - recall_m: 0.9173 - val_loss: 1.6025 - val_accuracy: 0.6622 - val_f1_m: 0.6575 - val_precision_m: 0.6863 - val_recall_m: 0.6315\n",
            "Epoch 27/100\n",
            "44/44 [==============================] - 14s 316ms/step - loss: 0.1596 - accuracy: 0.9378 - f1_m: 0.9378 - precision_m: 0.9535 - recall_m: 0.9228 - val_loss: 1.2940 - val_accuracy: 0.6748 - val_f1_m: 0.6774 - val_precision_m: 0.7101 - val_recall_m: 0.6484\n",
            "Epoch 28/100\n",
            "44/44 [==============================] - 14s 313ms/step - loss: 0.1533 - accuracy: 0.9421 - f1_m: 0.9419 - precision_m: 0.9576 - recall_m: 0.9269 - val_loss: 0.6199 - val_accuracy: 0.8178 - val_f1_m: 0.8258 - val_precision_m: 0.8446 - val_recall_m: 0.8085\n",
            "Epoch 29/100\n",
            "44/44 [==============================] - 14s 310ms/step - loss: 0.1505 - accuracy: 0.9429 - f1_m: 0.9424 - precision_m: 0.9552 - recall_m: 0.9300 - val_loss: 2.7721 - val_accuracy: 0.6121 - val_f1_m: 0.6118 - val_precision_m: 0.6229 - val_recall_m: 0.6012\n",
            "Epoch 30/100\n",
            "44/44 [==============================] - 14s 327ms/step - loss: 0.1434 - accuracy: 0.9447 - f1_m: 0.9473 - precision_m: 0.9597 - recall_m: 0.9353 - val_loss: 0.7726 - val_accuracy: 0.7692 - val_f1_m: 0.7807 - val_precision_m: 0.8043 - val_recall_m: 0.7593\n",
            "Epoch 31/100\n",
            "44/44 [==============================] - 14s 318ms/step - loss: 0.1359 - accuracy: 0.9465 - f1_m: 0.9449 - precision_m: 0.9567 - recall_m: 0.9335 - val_loss: 5.7184 - val_accuracy: 0.4860 - val_f1_m: 0.4884 - val_precision_m: 0.5043 - val_recall_m: 0.4734\n",
            "Epoch 32/100\n",
            "44/44 [==============================] - 14s 319ms/step - loss: 0.1333 - accuracy: 0.9518 - f1_m: 0.9502 - precision_m: 0.9638 - recall_m: 0.9371 - val_loss: 3.0380 - val_accuracy: 0.6327 - val_f1_m: 0.6271 - val_precision_m: 0.6434 - val_recall_m: 0.6119\n",
            "Epoch 33/100\n",
            "44/44 [==============================] - 14s 322ms/step - loss: 0.1210 - accuracy: 0.9551 - f1_m: 0.9557 - precision_m: 0.9659 - recall_m: 0.9459 - val_loss: 0.7608 - val_accuracy: 0.7743 - val_f1_m: 0.7863 - val_precision_m: 0.8110 - val_recall_m: 0.7632\n",
            "Epoch 34/100\n",
            "44/44 [==============================] - 14s 328ms/step - loss: 0.1159 - accuracy: 0.9536 - f1_m: 0.9518 - precision_m: 0.9611 - recall_m: 0.9428 - val_loss: 2.0534 - val_accuracy: 0.5988 - val_f1_m: 0.6002 - val_precision_m: 0.6121 - val_recall_m: 0.5889\n",
            "Epoch 35/100\n",
            "44/44 [==============================] - 14s 322ms/step - loss: 0.1176 - accuracy: 0.9586 - f1_m: 0.9566 - precision_m: 0.9666 - recall_m: 0.9469 - val_loss: 1.6819 - val_accuracy: 0.6364 - val_f1_m: 0.6506 - val_precision_m: 0.6994 - val_recall_m: 0.6086\n",
            "Epoch 36/100\n",
            "44/44 [==============================] - 14s 319ms/step - loss: 0.1072 - accuracy: 0.9595 - f1_m: 0.9608 - precision_m: 0.9679 - recall_m: 0.9539 - val_loss: 0.7930 - val_accuracy: 0.8289 - val_f1_m: 0.8357 - val_precision_m: 0.8553 - val_recall_m: 0.8173\n",
            "Epoch 37/100\n",
            "44/44 [==============================] - 14s 316ms/step - loss: 0.1040 - accuracy: 0.9585 - f1_m: 0.9587 - precision_m: 0.9681 - recall_m: 0.9496 - val_loss: 1.4765 - val_accuracy: 0.6681 - val_f1_m: 0.6741 - val_precision_m: 0.6898 - val_recall_m: 0.6593\n",
            "Epoch 38/100\n",
            "44/44 [==============================] - 14s 315ms/step - loss: 0.1050 - accuracy: 0.9602 - f1_m: 0.9597 - precision_m: 0.9663 - recall_m: 0.9533 - val_loss: 2.8256 - val_accuracy: 0.5951 - val_f1_m: 0.6053 - val_precision_m: 0.6149 - val_recall_m: 0.5961\n",
            "Epoch 39/100\n",
            "44/44 [==============================] - 14s 309ms/step - loss: 0.1027 - accuracy: 0.9621 - f1_m: 0.9626 - precision_m: 0.9690 - recall_m: 0.9564 - val_loss: 1.6279 - val_accuracy: 0.6770 - val_f1_m: 0.6816 - val_precision_m: 0.7061 - val_recall_m: 0.6594\n",
            "Epoch 40/100\n",
            "44/44 [==============================] - 14s 316ms/step - loss: 0.0944 - accuracy: 0.9679 - f1_m: 0.9685 - precision_m: 0.9748 - recall_m: 0.9623 - val_loss: 1.0234 - val_accuracy: 0.7883 - val_f1_m: 0.7964 - val_precision_m: 0.8098 - val_recall_m: 0.7838\n",
            "Epoch 41/100\n",
            "44/44 [==============================] - 14s 316ms/step - loss: 0.0898 - accuracy: 0.9683 - f1_m: 0.9660 - precision_m: 0.9715 - recall_m: 0.9605 - val_loss: 2.4362 - val_accuracy: 0.5568 - val_f1_m: 0.5620 - val_precision_m: 0.5712 - val_recall_m: 0.5531\n",
            "Epoch 42/100\n",
            "44/44 [==============================] - 14s 309ms/step - loss: 0.0882 - accuracy: 0.9675 - f1_m: 0.9688 - precision_m: 0.9738 - recall_m: 0.9639 - val_loss: 0.8265 - val_accuracy: 0.8090 - val_f1_m: 0.8153 - val_precision_m: 0.8268 - val_recall_m: 0.8045\n",
            "Epoch 43/100\n",
            "44/44 [==============================] - 14s 325ms/step - loss: 0.0824 - accuracy: 0.9701 - f1_m: 0.9696 - precision_m: 0.9741 - recall_m: 0.9651 - val_loss: 1.4330 - val_accuracy: 0.7220 - val_f1_m: 0.7319 - val_precision_m: 0.7411 - val_recall_m: 0.7231\n",
            "Epoch 44/100\n",
            "44/44 [==============================] - 14s 320ms/step - loss: 0.0738 - accuracy: 0.9753 - f1_m: 0.9741 - precision_m: 0.9782 - recall_m: 0.9700 - val_loss: 1.7246 - val_accuracy: 0.6586 - val_f1_m: 0.6626 - val_precision_m: 0.6728 - val_recall_m: 0.6529\n",
            "Epoch 45/100\n",
            "44/44 [==============================] - 14s 310ms/step - loss: 0.0757 - accuracy: 0.9744 - f1_m: 0.9733 - precision_m: 0.9771 - recall_m: 0.9696 - val_loss: 0.6486 - val_accuracy: 0.8208 - val_f1_m: 0.8256 - val_precision_m: 0.8444 - val_recall_m: 0.8081\n",
            "Epoch 46/100\n",
            "44/44 [==============================] - 14s 316ms/step - loss: 0.0672 - accuracy: 0.9757 - f1_m: 0.9734 - precision_m: 0.9777 - recall_m: 0.9692 - val_loss: 3.1838 - val_accuracy: 0.7375 - val_f1_m: 0.7437 - val_precision_m: 0.7535 - val_recall_m: 0.7344\n",
            "Epoch 47/100\n",
            "44/44 [==============================] - 14s 318ms/step - loss: 0.0668 - accuracy: 0.9780 - f1_m: 0.9755 - precision_m: 0.9797 - recall_m: 0.9713 - val_loss: 2.2528 - val_accuracy: 0.6534 - val_f1_m: 0.6554 - val_precision_m: 0.6652 - val_recall_m: 0.6460\n",
            "Epoch 48/100\n",
            "44/44 [==============================] - 14s 311ms/step - loss: 0.0649 - accuracy: 0.9777 - f1_m: 0.9786 - precision_m: 0.9815 - recall_m: 0.9758 - val_loss: 0.8958 - val_accuracy: 0.8024 - val_f1_m: 0.8081 - val_precision_m: 0.8170 - val_recall_m: 0.7995\n",
            "Epoch 49/100\n",
            "44/44 [==============================] - 14s 321ms/step - loss: 0.0637 - accuracy: 0.9773 - f1_m: 0.9761 - precision_m: 0.9800 - recall_m: 0.9724 - val_loss: 1.3452 - val_accuracy: 0.7183 - val_f1_m: 0.7230 - val_precision_m: 0.7341 - val_recall_m: 0.7123\n",
            "Epoch 50/100\n",
            "44/44 [==============================] - 14s 315ms/step - loss: 0.0542 - accuracy: 0.9820 - f1_m: 0.9809 - precision_m: 0.9835 - recall_m: 0.9783 - val_loss: 2.0638 - val_accuracy: 0.5752 - val_f1_m: 0.5673 - val_precision_m: 0.5940 - val_recall_m: 0.5435\n",
            "Epoch 51/100\n",
            "44/44 [==============================] - 14s 319ms/step - loss: 0.0575 - accuracy: 0.9798 - f1_m: 0.9793 - precision_m: 0.9818 - recall_m: 0.9768 - val_loss: 1.1413 - val_accuracy: 0.7515 - val_f1_m: 0.7579 - val_precision_m: 0.7675 - val_recall_m: 0.7488\n",
            "Epoch 52/100\n",
            "44/44 [==============================] - 14s 314ms/step - loss: 0.0493 - accuracy: 0.9835 - f1_m: 0.9832 - precision_m: 0.9861 - recall_m: 0.9804 - val_loss: 1.1433 - val_accuracy: 0.7928 - val_f1_m: 0.7992 - val_precision_m: 0.8086 - val_recall_m: 0.7901\n",
            "Epoch 53/100\n",
            "44/44 [==============================] - 14s 326ms/step - loss: 0.0569 - accuracy: 0.9812 - f1_m: 0.9818 - precision_m: 0.9835 - recall_m: 0.9802 - val_loss: 1.3451 - val_accuracy: 0.8134 - val_f1_m: 0.8216 - val_precision_m: 0.8298 - val_recall_m: 0.8135\n",
            "Epoch 54/100\n",
            "44/44 [==============================] - 14s 311ms/step - loss: 0.0447 - accuracy: 0.9857 - f1_m: 0.9856 - precision_m: 0.9877 - recall_m: 0.9835 - val_loss: 1.5222 - val_accuracy: 0.7183 - val_f1_m: 0.7198 - val_precision_m: 0.7256 - val_recall_m: 0.7142\n",
            "Epoch 55/100\n",
            "44/44 [==============================] - 14s 311ms/step - loss: 0.0403 - accuracy: 0.9875 - f1_m: 0.9877 - precision_m: 0.9890 - recall_m: 0.9864 - val_loss: 1.0528 - val_accuracy: 0.7714 - val_f1_m: 0.7792 - val_precision_m: 0.7886 - val_recall_m: 0.7700\n",
            "Epoch 56/100\n",
            "44/44 [==============================] - 14s 321ms/step - loss: 0.0395 - accuracy: 0.9857 - f1_m: 0.9851 - precision_m: 0.9867 - recall_m: 0.9836 - val_loss: 2.7130 - val_accuracy: 0.6637 - val_f1_m: 0.6677 - val_precision_m: 0.6750 - val_recall_m: 0.6605\n",
            "Epoch 57/100\n",
            "44/44 [==============================] - 14s 313ms/step - loss: 0.0432 - accuracy: 0.9870 - f1_m: 0.9874 - precision_m: 0.9885 - recall_m: 0.9862 - val_loss: 1.9304 - val_accuracy: 0.7286 - val_f1_m: 0.7366 - val_precision_m: 0.7525 - val_recall_m: 0.7217\n",
            "Epoch 58/100\n",
            "44/44 [==============================] - 14s 310ms/step - loss: 0.0351 - accuracy: 0.9890 - f1_m: 0.9891 - precision_m: 0.9902 - recall_m: 0.9881 - val_loss: 1.5588 - val_accuracy: 0.7581 - val_f1_m: 0.7583 - val_precision_m: 0.7721 - val_recall_m: 0.7451\n",
            "Epoch 59/100\n",
            "44/44 [==============================] - 14s 318ms/step - loss: 0.0376 - accuracy: 0.9864 - f1_m: 0.9864 - precision_m: 0.9882 - recall_m: 0.9848 - val_loss: 1.1947 - val_accuracy: 0.7588 - val_f1_m: 0.7664 - val_precision_m: 0.7720 - val_recall_m: 0.7609\n",
            "Epoch 60/100\n",
            "44/44 [==============================] - 14s 323ms/step - loss: 0.0356 - accuracy: 0.9883 - f1_m: 0.9883 - precision_m: 0.9892 - recall_m: 0.9875 - val_loss: 1.0583 - val_accuracy: 0.7898 - val_f1_m: 0.7950 - val_precision_m: 0.8010 - val_recall_m: 0.7890\n",
            "Epoch 61/100\n",
            "44/44 [==============================] - 14s 315ms/step - loss: 0.0289 - accuracy: 0.9912 - f1_m: 0.9910 - precision_m: 0.9923 - recall_m: 0.9898 - val_loss: 1.0525 - val_accuracy: 0.7883 - val_f1_m: 0.7932 - val_precision_m: 0.8014 - val_recall_m: 0.7854\n",
            "Epoch 62/100\n",
            "44/44 [==============================] - 14s 311ms/step - loss: 0.0315 - accuracy: 0.9896 - f1_m: 0.9893 - precision_m: 0.9911 - recall_m: 0.9876 - val_loss: 1.5670 - val_accuracy: 0.7529 - val_f1_m: 0.7610 - val_precision_m: 0.7709 - val_recall_m: 0.7514\n",
            "Epoch 63/100\n",
            "44/44 [==============================] - 14s 324ms/step - loss: 0.0289 - accuracy: 0.9906 - f1_m: 0.9885 - precision_m: 0.9894 - recall_m: 0.9876 - val_loss: 3.3686 - val_accuracy: 0.4897 - val_f1_m: 0.4858 - val_precision_m: 0.4911 - val_recall_m: 0.4808\n",
            "Epoch 64/100\n",
            "44/44 [==============================] - 14s 317ms/step - loss: 0.0519 - accuracy: 0.9863 - f1_m: 0.9864 - precision_m: 0.9875 - recall_m: 0.9853 - val_loss: 1.0406 - val_accuracy: 0.8245 - val_f1_m: 0.8298 - val_precision_m: 0.8369 - val_recall_m: 0.8229\n",
            "Epoch 65/100\n",
            "44/44 [==============================] - 14s 308ms/step - loss: 0.0247 - accuracy: 0.9918 - f1_m: 0.9919 - precision_m: 0.9926 - recall_m: 0.9913 - val_loss: 1.7004 - val_accuracy: 0.7279 - val_f1_m: 0.7363 - val_precision_m: 0.7433 - val_recall_m: 0.7295\n",
            "Epoch 66/100\n",
            "44/44 [==============================] - 14s 322ms/step - loss: 0.0229 - accuracy: 0.9929 - f1_m: 0.9920 - precision_m: 0.9925 - recall_m: 0.9915 - val_loss: 2.4779 - val_accuracy: 0.6453 - val_f1_m: 0.6451 - val_precision_m: 0.6534 - val_recall_m: 0.6372\n",
            "Epoch 67/100\n",
            "44/44 [==============================] - 14s 315ms/step - loss: 0.0298 - accuracy: 0.9920 - f1_m: 0.9919 - precision_m: 0.9926 - recall_m: 0.9913 - val_loss: 1.3499 - val_accuracy: 0.7588 - val_f1_m: 0.7660 - val_precision_m: 0.7762 - val_recall_m: 0.7563\n",
            "Epoch 68/100\n",
            "44/44 [==============================] - 14s 310ms/step - loss: 0.0273 - accuracy: 0.9900 - f1_m: 0.9902 - precision_m: 0.9909 - recall_m: 0.9894 - val_loss: 0.7952 - val_accuracy: 0.8319 - val_f1_m: 0.8402 - val_precision_m: 0.8502 - val_recall_m: 0.8304\n",
            "Epoch 69/100\n",
            "44/44 [==============================] - 14s 316ms/step - loss: 0.0222 - accuracy: 0.9932 - f1_m: 0.9934 - precision_m: 0.9935 - recall_m: 0.9932 - val_loss: 1.0524 - val_accuracy: 0.8127 - val_f1_m: 0.8176 - val_precision_m: 0.8244 - val_recall_m: 0.8110\n",
            "Epoch 70/100\n",
            "44/44 [==============================] - 14s 317ms/step - loss: 0.0219 - accuracy: 0.9934 - f1_m: 0.9937 - precision_m: 0.9940 - recall_m: 0.9934 - val_loss: 1.3136 - val_accuracy: 0.7839 - val_f1_m: 0.7860 - val_precision_m: 0.7921 - val_recall_m: 0.7802\n",
            "Epoch 71/100\n",
            "44/44 [==============================] - 14s 314ms/step - loss: 0.0207 - accuracy: 0.9933 - f1_m: 0.9935 - precision_m: 0.9939 - recall_m: 0.9932 - val_loss: 1.1769 - val_accuracy: 0.8053 - val_f1_m: 0.8091 - val_precision_m: 0.8162 - val_recall_m: 0.8022\n",
            "Epoch 72/100\n",
            "44/44 [==============================] - 14s 317ms/step - loss: 0.0173 - accuracy: 0.9937 - f1_m: 0.9940 - precision_m: 0.9944 - recall_m: 0.9935 - val_loss: 1.3154 - val_accuracy: 0.7670 - val_f1_m: 0.7700 - val_precision_m: 0.7756 - val_recall_m: 0.7646\n",
            "Epoch 73/100\n",
            "44/44 [==============================] - 14s 322ms/step - loss: 0.0236 - accuracy: 0.9920 - f1_m: 0.9887 - precision_m: 0.9889 - recall_m: 0.9885 - val_loss: 1.0307 - val_accuracy: 0.8178 - val_f1_m: 0.8227 - val_precision_m: 0.8279 - val_recall_m: 0.8176\n",
            "Epoch 74/100\n",
            "44/44 [==============================] - 14s 318ms/step - loss: 0.0212 - accuracy: 0.9933 - f1_m: 0.9933 - precision_m: 0.9935 - recall_m: 0.9932 - val_loss: 1.7863 - val_accuracy: 0.7109 - val_f1_m: 0.7127 - val_precision_m: 0.7217 - val_recall_m: 0.7040\n",
            "Epoch 75/100\n",
            "44/44 [==============================] - 14s 309ms/step - loss: 0.0193 - accuracy: 0.9940 - f1_m: 0.9942 - precision_m: 0.9948 - recall_m: 0.9936 - val_loss: 2.3555 - val_accuracy: 0.7684 - val_f1_m: 0.7698 - val_precision_m: 0.7731 - val_recall_m: 0.7666\n",
            "Epoch 76/100\n",
            "44/44 [==============================] - 14s 322ms/step - loss: 0.0173 - accuracy: 0.9951 - f1_m: 0.9951 - precision_m: 0.9952 - recall_m: 0.9950 - val_loss: 1.0797 - val_accuracy: 0.7913 - val_f1_m: 0.7958 - val_precision_m: 0.7992 - val_recall_m: 0.7923\n",
            "Epoch 77/100\n",
            "44/44 [==============================] - 14s 319ms/step - loss: 0.0244 - accuracy: 0.9922 - f1_m: 0.9912 - precision_m: 0.9915 - recall_m: 0.9909 - val_loss: 2.5089 - val_accuracy: 0.7404 - val_f1_m: 0.7450 - val_precision_m: 0.7509 - val_recall_m: 0.7392\n",
            "Epoch 78/100\n",
            "44/44 [==============================] - 14s 316ms/step - loss: 0.0110 - accuracy: 0.9964 - f1_m: 0.9965 - precision_m: 0.9966 - recall_m: 0.9965 - val_loss: 0.9814 - val_accuracy: 0.8341 - val_f1_m: 0.8348 - val_precision_m: 0.8425 - val_recall_m: 0.8273\n",
            "Epoch 79/100\n",
            "44/44 [==============================] - 14s 315ms/step - loss: 0.0186 - accuracy: 0.9939 - f1_m: 0.9936 - precision_m: 0.9947 - recall_m: 0.9925 - val_loss: 1.4414 - val_accuracy: 0.7883 - val_f1_m: 0.7923 - val_precision_m: 0.7979 - val_recall_m: 0.7868\n",
            "Epoch 80/100\n",
            "44/44 [==============================] - 14s 319ms/step - loss: 0.0221 - accuracy: 0.9927 - f1_m: 0.9897 - precision_m: 0.9901 - recall_m: 0.9893 - val_loss: 2.7715 - val_accuracy: 0.6438 - val_f1_m: 0.6530 - val_precision_m: 0.6616 - val_recall_m: 0.6447\n",
            "Epoch 81/100\n",
            "44/44 [==============================] - 14s 312ms/step - loss: 0.0200 - accuracy: 0.9940 - f1_m: 0.9942 - precision_m: 0.9945 - recall_m: 0.9939 - val_loss: 1.2366 - val_accuracy: 0.7883 - val_f1_m: 0.7906 - val_precision_m: 0.7945 - val_recall_m: 0.7867\n",
            "Epoch 82/100\n",
            "44/44 [==============================] - 14s 317ms/step - loss: 0.0116 - accuracy: 0.9970 - f1_m: 0.9968 - precision_m: 0.9970 - recall_m: 0.9966 - val_loss: 1.0173 - val_accuracy: 0.8437 - val_f1_m: 0.8480 - val_precision_m: 0.8524 - val_recall_m: 0.8436\n",
            "Epoch 83/100\n",
            "44/44 [==============================] - 14s 311ms/step - loss: 0.0153 - accuracy: 0.9942 - f1_m: 0.9944 - precision_m: 0.9948 - recall_m: 0.9940 - val_loss: 0.7875 - val_accuracy: 0.8518 - val_f1_m: 0.8543 - val_precision_m: 0.8578 - val_recall_m: 0.8509\n",
            "Epoch 84/100\n",
            "44/44 [==============================] - 14s 317ms/step - loss: 0.0142 - accuracy: 0.9963 - f1_m: 0.9964 - precision_m: 0.9966 - recall_m: 0.9961 - val_loss: 0.8909 - val_accuracy: 0.8400 - val_f1_m: 0.8437 - val_precision_m: 0.8498 - val_recall_m: 0.8377\n",
            "Epoch 85/100\n",
            "44/44 [==============================] - 14s 315ms/step - loss: 0.0154 - accuracy: 0.9952 - f1_m: 0.9944 - precision_m: 0.9946 - recall_m: 0.9941 - val_loss: 1.0774 - val_accuracy: 0.8208 - val_f1_m: 0.8238 - val_precision_m: 0.8280 - val_recall_m: 0.8197\n",
            "Epoch 86/100\n",
            "44/44 [==============================] - 14s 319ms/step - loss: 0.0207 - accuracy: 0.9940 - f1_m: 0.9940 - precision_m: 0.9942 - recall_m: 0.9939 - val_loss: 1.2964 - val_accuracy: 0.8112 - val_f1_m: 0.8140 - val_precision_m: 0.8192 - val_recall_m: 0.8088\n",
            "Epoch 87/100\n",
            "44/44 [==============================] - 14s 311ms/step - loss: 0.0157 - accuracy: 0.9956 - f1_m: 0.9956 - precision_m: 0.9958 - recall_m: 0.9953 - val_loss: 1.7182 - val_accuracy: 0.7493 - val_f1_m: 0.7543 - val_precision_m: 0.7566 - val_recall_m: 0.7521\n",
            "Epoch 88/100\n",
            "44/44 [==============================] - 14s 309ms/step - loss: 0.0125 - accuracy: 0.9968 - f1_m: 0.9968 - precision_m: 0.9972 - recall_m: 0.9965 - val_loss: 1.1658 - val_accuracy: 0.8267 - val_f1_m: 0.8277 - val_precision_m: 0.8305 - val_recall_m: 0.8249\n",
            "Epoch 89/100\n",
            "44/44 [==============================] - 14s 316ms/step - loss: 0.0146 - accuracy: 0.9954 - f1_m: 0.9932 - precision_m: 0.9934 - recall_m: 0.9930 - val_loss: 2.7891 - val_accuracy: 0.6453 - val_f1_m: 0.6471 - val_precision_m: 0.6525 - val_recall_m: 0.6418\n",
            "Epoch 90/100\n",
            "44/44 [==============================] - 14s 318ms/step - loss: 0.0155 - accuracy: 0.9947 - f1_m: 0.9949 - precision_m: 0.9951 - recall_m: 0.9948 - val_loss: 2.7780 - val_accuracy: 0.5029 - val_f1_m: 0.5126 - val_precision_m: 0.5223 - val_recall_m: 0.5034\n",
            "Epoch 91/100\n",
            "44/44 [==============================] - 13s 304ms/step - loss: 0.0094 - accuracy: 0.9979 - f1_m: 0.9980 - precision_m: 0.9980 - recall_m: 0.9980 - val_loss: 1.0757 - val_accuracy: 0.8289 - val_f1_m: 0.8339 - val_precision_m: 0.8379 - val_recall_m: 0.8299\n",
            "Epoch 92/100\n",
            "44/44 [==============================] - 14s 311ms/step - loss: 0.0188 - accuracy: 0.9928 - f1_m: 0.9919 - precision_m: 0.9921 - recall_m: 0.9916 - val_loss: 1.8892 - val_accuracy: 0.7581 - val_f1_m: 0.7602 - val_precision_m: 0.7667 - val_recall_m: 0.7538\n",
            "Epoch 93/100\n",
            "44/44 [==============================] - 14s 316ms/step - loss: 0.0135 - accuracy: 0.9965 - f1_m: 0.9931 - precision_m: 0.9933 - recall_m: 0.9929 - val_loss: 1.8709 - val_accuracy: 0.7168 - val_f1_m: 0.7241 - val_precision_m: 0.7263 - val_recall_m: 0.7219\n",
            "Epoch 94/100\n",
            "44/44 [==============================] - 14s 313ms/step - loss: 0.0183 - accuracy: 0.9949 - f1_m: 0.9951 - precision_m: 0.9952 - recall_m: 0.9950 - val_loss: 0.9259 - val_accuracy: 0.8326 - val_f1_m: 0.8391 - val_precision_m: 0.8448 - val_recall_m: 0.8335\n",
            "Epoch 95/100\n",
            "44/44 [==============================] - 14s 312ms/step - loss: 0.0124 - accuracy: 0.9964 - f1_m: 0.9958 - precision_m: 0.9965 - recall_m: 0.9951 - val_loss: 0.9144 - val_accuracy: 0.8348 - val_f1_m: 0.8377 - val_precision_m: 0.8422 - val_recall_m: 0.8332\n",
            "Epoch 96/100\n",
            "44/44 [==============================] - 14s 319ms/step - loss: 0.0123 - accuracy: 0.9959 - f1_m: 0.9949 - precision_m: 0.9952 - recall_m: 0.9945 - val_loss: 1.3399 - val_accuracy: 0.7581 - val_f1_m: 0.7618 - val_precision_m: 0.7707 - val_recall_m: 0.7531\n",
            "Epoch 97/100\n",
            "44/44 [==============================] - 14s 314ms/step - loss: 0.0115 - accuracy: 0.9964 - f1_m: 0.9954 - precision_m: 0.9954 - recall_m: 0.9953 - val_loss: 1.8390 - val_accuracy: 0.8046 - val_f1_m: 0.8082 - val_precision_m: 0.8117 - val_recall_m: 0.8047\n",
            "Epoch 98/100\n",
            "44/44 [==============================] - 14s 315ms/step - loss: 0.0121 - accuracy: 0.9964 - f1_m: 0.9943 - precision_m: 0.9945 - recall_m: 0.9941 - val_loss: 1.6702 - val_accuracy: 0.7596 - val_f1_m: 0.7665 - val_precision_m: 0.7737 - val_recall_m: 0.7595\n",
            "Epoch 99/100\n",
            "44/44 [==============================] - 14s 320ms/step - loss: 0.0176 - accuracy: 0.9951 - f1_m: 0.9951 - precision_m: 0.9953 - recall_m: 0.9949 - val_loss: 1.9817 - val_accuracy: 0.7308 - val_f1_m: 0.7337 - val_precision_m: 0.7399 - val_recall_m: 0.7277\n",
            "Epoch 100/100\n",
            "44/44 [==============================] - 13s 305ms/step - loss: 0.0166 - accuracy: 0.9964 - f1_m: 0.9965 - precision_m: 0.9966 - recall_m: 0.9964 - val_loss: 1.3257 - val_accuracy: 0.7979 - val_f1_m: 0.8009 - val_precision_m: 0.8111 - val_recall_m: 0.7910\n"
          ]
        }
      ]
    },
    {
      "cell_type": "code",
      "source": [
        "plotmetrics(UCI_CNN_GRU)"
      ],
      "metadata": {
        "colab": {
          "base_uri": "https://localhost:8080/",
          "height": 295
        },
        "id": "a_cH5qmgsRIW",
        "outputId": "46630476-ac65-409e-8c60-f05a7da8ce90"
      },
      "execution_count": null,
      "outputs": [
        {
          "output_type": "display_data",
          "data": {
            "image/png": "[encoded data removed]",
            "text/plain": [
              "<Figure size 432x288 with 7 Axes>"
            ]
          },
          "metadata": {
            "needs_background": "light"
          }
        }
      ]
    },
    {
      "cell_type": "code",
      "source": [
        "save_model_history(UCImodels['CNN_GRU'],'/content/drive/MyDrive/Datasets/UCI_HAPT_DATASET/UCI_CNN_GRU_history',UCI_CNN_GRU,\n",
        "                   '/content/drive/MyDrive/Datasets/UCI_HAPT_DATASET/UCI_CNN_GRU')"
      ],
      "metadata": {
        "colab": {
          "base_uri": "https://localhost:8080/"
        },
        "id": "atu37NA4yjJx",
        "outputId": "9899784b-9b53-4a8b-90fa-f5fd646acc2d"
      },
      "execution_count": null,
      "outputs": [
        {
          "output_type": "stream",
          "name": "stdout",
          "text": [
            "INFO:tensorflow:Assets written to: /content/drive/MyDrive/Datasets/UCI_HAPT_DATASET/UCI_CNN_GRULSTM_CNN_SANDWICH/assets\n"
          ]
        },
        {
          "output_type": "stream",
          "name": "stderr",
          "text": [
            "INFO:tensorflow:Assets written to: /content/drive/MyDrive/Datasets/UCI_HAPT_DATASET/UCI_CNN_GRULSTM_CNN_SANDWICH/assets\n",
            "WARNING:absl:<keras.layers.recurrent.GRUCell object at 0x7f92b01e97d0> has the same name 'GRUCell' as a built-in Keras object. Consider renaming <class 'keras.layers.recurrent.GRUCell'> to avoid naming conflicts when loading with `tf.keras.models.load_model`. If renaming is not possible, pass the object in the `custom_objects` parameter of the load function.\n",
            "WARNING:absl:<keras.layers.recurrent.GRUCell object at 0x7f92b0298810> has the same name 'GRUCell' as a built-in Keras object. Consider renaming <class 'keras.layers.recurrent.GRUCell'> to avoid naming conflicts when loading with `tf.keras.models.load_model`. If renaming is not possible, pass the object in the `custom_objects` parameter of the load function.\n"
          ]
        }
      ]
    },
    {
      "cell_type": "markdown",
      "source": [
        "Real World dataset model"
      ],
      "metadata": {
        "id": "tBtI-Hn0ziZJ"
      }
    },
    {
      "cell_type": "code",
      "source": [
        "#'LSTM_CNN_SANDWICH','LSTM_CNN','ConvLSTM_PARALLEL','LSTM_CNN_PARALLEL','GRU_CNN','CNN_GRU'\n",
        "#RealWorldhalf_trainFFT,RealWorldtrainY,RealWorldhalf_testFFT,RealWorldtestY,RealWorldhalf_valFFT,RealWorldvalY"
      ],
      "metadata": {
        "id": "vZ5D5Lu-zng7"
      },
      "execution_count": null,
      "outputs": []
    },
    {
      "cell_type": "code",
      "source": [
        "RWLSTM_CNN_SANDWICH = RealWorldmodels['LSTM_CNN_SANDWICH'].fit(RealWorldhalf_trainFFT, RealWorldtrainY, epochs = 100, batch_size = 200, validation_data = (RealWorldhalf_valFFT, RealWorldvalY))"
      ],
      "metadata": {
        "colab": {
          "base_uri": "https://localhost:8080/"
        },
        "id": "tr-x4FvbxwOR",
        "outputId": "7f565c68-5abc-4716-b399-549df43c73b1"
      },
      "execution_count": null,
      "outputs": [
        {
          "output_type": "stream",
          "name": "stdout",
          "text": [
            "Epoch 1/100\n",
            "57/57 [==============================] - 32s 219ms/step - loss: 1.5073 - accuracy: 0.3755 - f1_m: 0.0000e+00 - precision_m: 0.0000e+00 - recall_m: 0.0000e+00 - val_loss: 1.5974 - val_accuracy: 0.4205 - val_f1_m: 0.0000e+00 - val_precision_m: 0.0000e+00 - val_recall_m: 0.0000e+00\n",
            "Epoch 2/100\n",
            "57/57 [==============================] - 10s 180ms/step - loss: 1.3646 - accuracy: 0.4168 - f1_m: 0.0000e+00 - precision_m: 0.0000e+00 - recall_m: 0.0000e+00 - val_loss: 1.5835 - val_accuracy: 0.4205 - val_f1_m: 0.0000e+00 - val_precision_m: 0.0000e+00 - val_recall_m: 0.0000e+00\n",
            "Epoch 3/100\n",
            "57/57 [==============================] - 10s 183ms/step - loss: 1.2816 - accuracy: 0.4793 - f1_m: 0.0027 - precision_m: 0.0074 - recall_m: 0.0017 - val_loss: 1.5709 - val_accuracy: 0.4205 - val_f1_m: 0.0000e+00 - val_precision_m: 0.0000e+00 - val_recall_m: 0.0000e+00\n",
            "Epoch 4/100\n",
            "57/57 [==============================] - 10s 180ms/step - loss: 1.1767 - accuracy: 0.5380 - f1_m: 0.0033 - precision_m: 0.0689 - recall_m: 0.0018 - val_loss: 1.5613 - val_accuracy: 0.4205 - val_f1_m: 0.0000e+00 - val_precision_m: 0.0000e+00 - val_recall_m: 0.0000e+00\n",
            "Epoch 5/100\n",
            "57/57 [==============================] - 10s 180ms/step - loss: 1.0413 - accuracy: 0.6418 - f1_m: 0.0995 - precision_m: 0.6786 - recall_m: 0.0558 - val_loss: 1.5320 - val_accuracy: 0.4205 - val_f1_m: 0.0000e+00 - val_precision_m: 0.0000e+00 - val_recall_m: 0.0000e+00\n",
            "Epoch 6/100\n",
            "57/57 [==============================] - 10s 181ms/step - loss: 0.8888 - accuracy: 0.7974 - f1_m: 0.4385 - precision_m: 0.9528 - recall_m: 0.2911 - val_loss: 1.4658 - val_accuracy: 0.4205 - val_f1_m: 0.0000e+00 - val_precision_m: 0.0000e+00 - val_recall_m: 0.0000e+00\n",
            "Epoch 7/100\n",
            "57/57 [==============================] - 10s 180ms/step - loss: 0.7381 - accuracy: 0.8334 - f1_m: 0.7574 - precision_m: 0.9485 - recall_m: 0.6356 - val_loss: 1.3452 - val_accuracy: 0.4205 - val_f1_m: 0.0000e+00 - val_precision_m: 0.0000e+00 - val_recall_m: 0.0000e+00\n",
            "Epoch 8/100\n",
            "57/57 [==============================] - 10s 179ms/step - loss: 0.6053 - accuracy: 0.8553 - f1_m: 0.8312 - precision_m: 0.9455 - recall_m: 0.7420 - val_loss: 1.0992 - val_accuracy: 0.6640 - val_f1_m: 0.2265 - val_precision_m: 0.3723 - val_recall_m: 0.2126\n",
            "Epoch 9/100\n",
            "57/57 [==============================] - 10s 179ms/step - loss: 0.5092 - accuracy: 0.8808 - f1_m: 0.8496 - precision_m: 0.9458 - recall_m: 0.7716 - val_loss: 0.8618 - val_accuracy: 0.7436 - val_f1_m: 0.5551 - val_precision_m: 0.6972 - val_recall_m: 0.5063\n",
            "Epoch 10/100\n",
            "57/57 [==============================] - 10s 179ms/step - loss: 0.4220 - accuracy: 0.9057 - f1_m: 0.8719 - precision_m: 0.9487 - recall_m: 0.8070 - val_loss: 0.6921 - val_accuracy: 0.7097 - val_f1_m: 0.6225 - val_precision_m: 0.6727 - val_recall_m: 0.5900\n",
            "Epoch 11/100\n",
            "57/57 [==============================] - 10s 180ms/step - loss: 0.3668 - accuracy: 0.9188 - f1_m: 0.8929 - precision_m: 0.9496 - recall_m: 0.8431 - val_loss: 0.5432 - val_accuracy: 0.8186 - val_f1_m: 0.7624 - val_precision_m: 0.8358 - val_recall_m: 0.7135\n",
            "Epoch 12/100\n",
            "57/57 [==============================] - 10s 180ms/step - loss: 0.3230 - accuracy: 0.9259 - f1_m: 0.9119 - precision_m: 0.9511 - recall_m: 0.8761 - val_loss: 0.4451 - val_accuracy: 0.8792 - val_f1_m: 0.8431 - val_precision_m: 0.9047 - val_recall_m: 0.8087\n",
            "Epoch 13/100\n",
            "57/57 [==============================] - 10s 181ms/step - loss: 0.2886 - accuracy: 0.9324 - f1_m: 0.9254 - precision_m: 0.9498 - recall_m: 0.9023 - val_loss: 0.3758 - val_accuracy: 0.8865 - val_f1_m: 0.8712 - val_precision_m: 0.9079 - val_recall_m: 0.8435\n",
            "Epoch 14/100\n",
            "57/57 [==============================] - 10s 179ms/step - loss: 0.2609 - accuracy: 0.9363 - f1_m: 0.9331 - precision_m: 0.9529 - recall_m: 0.9141 - val_loss: 0.3745 - val_accuracy: 0.8812 - val_f1_m: 0.8676 - val_precision_m: 0.8959 - val_recall_m: 0.8439\n",
            "Epoch 15/100\n",
            "57/57 [==============================] - 10s 179ms/step - loss: 0.2380 - accuracy: 0.9418 - f1_m: 0.9382 - precision_m: 0.9528 - recall_m: 0.9241 - val_loss: 0.4006 - val_accuracy: 0.8646 - val_f1_m: 0.8553 - val_precision_m: 0.8796 - val_recall_m: 0.8343\n",
            "Epoch 16/100\n",
            "57/57 [==============================] - 10s 179ms/step - loss: 0.2178 - accuracy: 0.9419 - f1_m: 0.9418 - precision_m: 0.9539 - recall_m: 0.9301 - val_loss: 0.3948 - val_accuracy: 0.8620 - val_f1_m: 0.8543 - val_precision_m: 0.8779 - val_recall_m: 0.8343\n",
            "Epoch 17/100\n",
            "57/57 [==============================] - 10s 180ms/step - loss: 0.2008 - accuracy: 0.9457 - f1_m: 0.9445 - precision_m: 0.9552 - recall_m: 0.9340 - val_loss: 0.4162 - val_accuracy: 0.8580 - val_f1_m: 0.8485 - val_precision_m: 0.8708 - val_recall_m: 0.8296\n",
            "Epoch 18/100\n",
            "57/57 [==============================] - 10s 179ms/step - loss: 0.1846 - accuracy: 0.9485 - f1_m: 0.9480 - precision_m: 0.9567 - recall_m: 0.9396 - val_loss: 0.3182 - val_accuracy: 0.8943 - val_f1_m: 0.8896 - val_precision_m: 0.9111 - val_recall_m: 0.8711\n",
            "Epoch 19/100\n",
            "57/57 [==============================] - 10s 179ms/step - loss: 0.1735 - accuracy: 0.9508 - f1_m: 0.9507 - precision_m: 0.9588 - recall_m: 0.9429 - val_loss: 0.3206 - val_accuracy: 0.8948 - val_f1_m: 0.8912 - val_precision_m: 0.9098 - val_recall_m: 0.8748\n",
            "Epoch 20/100\n",
            "57/57 [==============================] - 10s 179ms/step - loss: 0.1624 - accuracy: 0.9551 - f1_m: 0.9548 - precision_m: 0.9627 - recall_m: 0.9470 - val_loss: 0.3104 - val_accuracy: 0.8952 - val_f1_m: 0.8898 - val_precision_m: 0.9071 - val_recall_m: 0.8746\n",
            "Epoch 21/100\n",
            "57/57 [==============================] - 10s 178ms/step - loss: 0.1489 - accuracy: 0.9591 - f1_m: 0.9594 - precision_m: 0.9662 - recall_m: 0.9528 - val_loss: 0.3410 - val_accuracy: 0.8830 - val_f1_m: 0.8789 - val_precision_m: 0.8980 - val_recall_m: 0.8622\n",
            "Epoch 22/100\n",
            "57/57 [==============================] - 10s 179ms/step - loss: 0.1417 - accuracy: 0.9605 - f1_m: 0.9612 - precision_m: 0.9669 - recall_m: 0.9555 - val_loss: 0.3260 - val_accuracy: 0.8897 - val_f1_m: 0.8867 - val_precision_m: 0.9053 - val_recall_m: 0.8704\n",
            "Epoch 23/100\n",
            "57/57 [==============================] - 10s 179ms/step - loss: 0.1331 - accuracy: 0.9634 - f1_m: 0.9639 - precision_m: 0.9692 - recall_m: 0.9586 - val_loss: 0.3226 - val_accuracy: 0.8915 - val_f1_m: 0.8886 - val_precision_m: 0.9069 - val_recall_m: 0.8726\n",
            "Epoch 24/100\n",
            "57/57 [==============================] - 10s 179ms/step - loss: 0.1240 - accuracy: 0.9666 - f1_m: 0.9660 - precision_m: 0.9713 - recall_m: 0.9609 - val_loss: 0.3216 - val_accuracy: 0.8913 - val_f1_m: 0.8871 - val_precision_m: 0.9041 - val_recall_m: 0.8722\n",
            "Epoch 25/100\n",
            "57/57 [==============================] - 10s 179ms/step - loss: 0.1189 - accuracy: 0.9675 - f1_m: 0.9671 - precision_m: 0.9718 - recall_m: 0.9625 - val_loss: 0.2750 - val_accuracy: 0.9125 - val_f1_m: 0.9109 - val_precision_m: 0.9266 - val_recall_m: 0.8970\n",
            "Epoch 26/100\n",
            "57/57 [==============================] - 10s 179ms/step - loss: 0.1127 - accuracy: 0.9694 - f1_m: 0.9694 - precision_m: 0.9735 - recall_m: 0.9653 - val_loss: 0.2750 - val_accuracy: 0.9103 - val_f1_m: 0.9078 - val_precision_m: 0.9233 - val_recall_m: 0.8939\n",
            "Epoch 27/100\n",
            "57/57 [==============================] - 10s 179ms/step - loss: 0.1084 - accuracy: 0.9688 - f1_m: 0.9689 - precision_m: 0.9731 - recall_m: 0.9648 - val_loss: 0.2477 - val_accuracy: 0.9258 - val_f1_m: 0.9240 - val_precision_m: 0.9365 - val_recall_m: 0.9126\n",
            "Epoch 28/100\n",
            "57/57 [==============================] - 10s 179ms/step - loss: 0.1055 - accuracy: 0.9693 - f1_m: 0.9693 - precision_m: 0.9738 - recall_m: 0.9650 - val_loss: 0.3517 - val_accuracy: 0.8736 - val_f1_m: 0.8694 - val_precision_m: 0.8864 - val_recall_m: 0.8546\n",
            "Epoch 29/100\n",
            "57/57 [==============================] - 10s 179ms/step - loss: 0.1014 - accuracy: 0.9715 - f1_m: 0.9716 - precision_m: 0.9750 - recall_m: 0.9682 - val_loss: 0.2696 - val_accuracy: 0.9131 - val_f1_m: 0.9116 - val_precision_m: 0.9248 - val_recall_m: 0.8996\n",
            "Epoch 30/100\n",
            "57/57 [==============================] - 10s 179ms/step - loss: 0.0977 - accuracy: 0.9724 - f1_m: 0.9727 - precision_m: 0.9762 - recall_m: 0.9694 - val_loss: 0.2441 - val_accuracy: 0.9250 - val_f1_m: 0.9253 - val_precision_m: 0.9373 - val_recall_m: 0.9143\n",
            "Epoch 31/100\n",
            "57/57 [==============================] - 10s 178ms/step - loss: 0.0941 - accuracy: 0.9735 - f1_m: 0.9735 - precision_m: 0.9770 - recall_m: 0.9701 - val_loss: 0.3682 - val_accuracy: 0.8687 - val_f1_m: 0.8649 - val_precision_m: 0.8806 - val_recall_m: 0.8513\n",
            "Epoch 32/100\n",
            "57/57 [==============================] - 10s 178ms/step - loss: 0.0925 - accuracy: 0.9732 - f1_m: 0.9738 - precision_m: 0.9774 - recall_m: 0.9702 - val_loss: 0.2990 - val_accuracy: 0.8976 - val_f1_m: 0.8952 - val_precision_m: 0.9071 - val_recall_m: 0.8843\n",
            "Epoch 33/100\n",
            "57/57 [==============================] - 10s 179ms/step - loss: 0.0873 - accuracy: 0.9748 - f1_m: 0.9745 - precision_m: 0.9778 - recall_m: 0.9713 - val_loss: 0.2624 - val_accuracy: 0.9156 - val_f1_m: 0.9131 - val_precision_m: 0.9254 - val_recall_m: 0.9017\n",
            "Epoch 34/100\n",
            "57/57 [==============================] - 10s 179ms/step - loss: 0.0855 - accuracy: 0.9755 - f1_m: 0.9753 - precision_m: 0.9780 - recall_m: 0.9727 - val_loss: 0.2698 - val_accuracy: 0.9127 - val_f1_m: 0.9130 - val_precision_m: 0.9235 - val_recall_m: 0.9035\n",
            "Epoch 35/100\n",
            "57/57 [==============================] - 10s 180ms/step - loss: 0.0858 - accuracy: 0.9760 - f1_m: 0.9764 - precision_m: 0.9792 - recall_m: 0.9737 - val_loss: 0.3369 - val_accuracy: 0.8836 - val_f1_m: 0.8793 - val_precision_m: 0.8929 - val_recall_m: 0.8674\n",
            "Epoch 36/100\n",
            "57/57 [==============================] - 10s 179ms/step - loss: 0.0806 - accuracy: 0.9770 - f1_m: 0.9768 - precision_m: 0.9797 - recall_m: 0.9739 - val_loss: 0.2370 - val_accuracy: 0.9278 - val_f1_m: 0.9265 - val_precision_m: 0.9350 - val_recall_m: 0.9185\n",
            "Epoch 37/100\n",
            "57/57 [==============================] - 10s 180ms/step - loss: 0.0798 - accuracy: 0.9768 - f1_m: 0.9769 - precision_m: 0.9793 - recall_m: 0.9745 - val_loss: 0.3905 - val_accuracy: 0.8558 - val_f1_m: 0.8539 - val_precision_m: 0.8670 - val_recall_m: 0.8424\n",
            "Epoch 38/100\n",
            "57/57 [==============================] - 10s 179ms/step - loss: 0.0784 - accuracy: 0.9782 - f1_m: 0.9782 - precision_m: 0.9804 - recall_m: 0.9760 - val_loss: 0.2758 - val_accuracy: 0.9064 - val_f1_m: 0.9051 - val_precision_m: 0.9164 - val_recall_m: 0.8948\n",
            "Epoch 39/100\n",
            "57/57 [==============================] - 10s 179ms/step - loss: 0.0756 - accuracy: 0.9789 - f1_m: 0.9787 - precision_m: 0.9810 - recall_m: 0.9764 - val_loss: 0.2444 - val_accuracy: 0.9263 - val_f1_m: 0.9233 - val_precision_m: 0.9340 - val_recall_m: 0.9135\n",
            "Epoch 40/100\n",
            "57/57 [==============================] - 10s 179ms/step - loss: 0.0743 - accuracy: 0.9786 - f1_m: 0.9785 - precision_m: 0.9806 - recall_m: 0.9765 - val_loss: 0.3291 - val_accuracy: 0.8865 - val_f1_m: 0.8831 - val_precision_m: 0.8952 - val_recall_m: 0.8722\n",
            "Epoch 41/100\n",
            "57/57 [==============================] - 10s 179ms/step - loss: 0.0736 - accuracy: 0.9792 - f1_m: 0.9788 - precision_m: 0.9814 - recall_m: 0.9763 - val_loss: 0.2898 - val_accuracy: 0.9064 - val_f1_m: 0.9075 - val_precision_m: 0.9196 - val_recall_m: 0.8965\n",
            "Epoch 42/100\n",
            "57/57 [==============================] - 10s 179ms/step - loss: 0.0706 - accuracy: 0.9801 - f1_m: 0.9800 - precision_m: 0.9822 - recall_m: 0.9777 - val_loss: 0.2896 - val_accuracy: 0.9046 - val_f1_m: 0.9050 - val_precision_m: 0.9146 - val_recall_m: 0.8961\n",
            "Epoch 43/100\n",
            "57/57 [==============================] - 10s 179ms/step - loss: 0.0691 - accuracy: 0.9807 - f1_m: 0.9802 - precision_m: 0.9827 - recall_m: 0.9778 - val_loss: 0.3267 - val_accuracy: 0.8847 - val_f1_m: 0.8811 - val_precision_m: 0.8960 - val_recall_m: 0.8678\n",
            "Epoch 44/100\n",
            "57/57 [==============================] - 10s 179ms/step - loss: 0.0702 - accuracy: 0.9794 - f1_m: 0.9792 - precision_m: 0.9812 - recall_m: 0.9772 - val_loss: 0.3709 - val_accuracy: 0.8683 - val_f1_m: 0.8646 - val_precision_m: 0.8780 - val_recall_m: 0.8530\n",
            "Epoch 45/100\n",
            "57/57 [==============================] - 10s 179ms/step - loss: 0.0670 - accuracy: 0.9824 - f1_m: 0.9823 - precision_m: 0.9843 - recall_m: 0.9804 - val_loss: 0.2514 - val_accuracy: 0.9173 - val_f1_m: 0.9165 - val_precision_m: 0.9243 - val_recall_m: 0.9091\n",
            "Epoch 46/100\n",
            "57/57 [==============================] - 10s 179ms/step - loss: 0.0653 - accuracy: 0.9816 - f1_m: 0.9815 - precision_m: 0.9838 - recall_m: 0.9791 - val_loss: 0.2733 - val_accuracy: 0.9136 - val_f1_m: 0.9143 - val_precision_m: 0.9238 - val_recall_m: 0.9054\n",
            "Epoch 47/100\n",
            "57/57 [==============================] - 10s 179ms/step - loss: 0.0638 - accuracy: 0.9814 - f1_m: 0.9812 - precision_m: 0.9833 - recall_m: 0.9791 - val_loss: 0.4738 - val_accuracy: 0.8326 - val_f1_m: 0.8285 - val_precision_m: 0.8382 - val_recall_m: 0.8200\n",
            "Epoch 48/100\n",
            "57/57 [==============================] - 10s 179ms/step - loss: 0.0634 - accuracy: 0.9819 - f1_m: 0.9818 - precision_m: 0.9840 - recall_m: 0.9797 - val_loss: 0.2966 - val_accuracy: 0.9055 - val_f1_m: 0.9056 - val_precision_m: 0.9173 - val_recall_m: 0.8950\n",
            "Epoch 49/100\n",
            "57/57 [==============================] - 10s 179ms/step - loss: 0.0610 - accuracy: 0.9828 - f1_m: 0.9827 - precision_m: 0.9847 - recall_m: 0.9807 - val_loss: 0.3848 - val_accuracy: 0.8630 - val_f1_m: 0.8588 - val_precision_m: 0.8719 - val_recall_m: 0.8474\n",
            "Epoch 50/100\n",
            "57/57 [==============================] - 10s 179ms/step - loss: 0.0601 - accuracy: 0.9830 - f1_m: 0.9829 - precision_m: 0.9850 - recall_m: 0.9808 - val_loss: 0.2388 - val_accuracy: 0.9300 - val_f1_m: 0.9278 - val_precision_m: 0.9367 - val_recall_m: 0.9193\n",
            "Epoch 51/100\n",
            "57/57 [==============================] - 10s 179ms/step - loss: 0.0591 - accuracy: 0.9831 - f1_m: 0.9833 - precision_m: 0.9852 - recall_m: 0.9814 - val_loss: 0.2433 - val_accuracy: 0.9241 - val_f1_m: 0.9212 - val_precision_m: 0.9295 - val_recall_m: 0.9135\n",
            "Epoch 52/100\n",
            "57/57 [==============================] - 10s 179ms/step - loss: 0.0564 - accuracy: 0.9842 - f1_m: 0.9836 - precision_m: 0.9855 - recall_m: 0.9818 - val_loss: 0.2318 - val_accuracy: 0.9265 - val_f1_m: 0.9261 - val_precision_m: 0.9348 - val_recall_m: 0.9178\n",
            "Epoch 53/100\n",
            "57/57 [==============================] - 10s 179ms/step - loss: 0.0575 - accuracy: 0.9841 - f1_m: 0.9840 - precision_m: 0.9859 - recall_m: 0.9821 - val_loss: 0.2171 - val_accuracy: 0.9342 - val_f1_m: 0.9335 - val_precision_m: 0.9394 - val_recall_m: 0.9278\n",
            "Epoch 54/100\n",
            "57/57 [==============================] - 10s 180ms/step - loss: 0.0564 - accuracy: 0.9836 - f1_m: 0.9837 - precision_m: 0.9857 - recall_m: 0.9817 - val_loss: 0.3744 - val_accuracy: 0.8701 - val_f1_m: 0.8663 - val_precision_m: 0.8767 - val_recall_m: 0.8572\n",
            "Epoch 55/100\n",
            "57/57 [==============================] - 10s 179ms/step - loss: 0.0540 - accuracy: 0.9840 - f1_m: 0.9843 - precision_m: 0.9858 - recall_m: 0.9827 - val_loss: 0.2582 - val_accuracy: 0.9164 - val_f1_m: 0.9161 - val_precision_m: 0.9246 - val_recall_m: 0.9080\n",
            "Epoch 56/100\n",
            "57/57 [==============================] - 10s 179ms/step - loss: 0.0531 - accuracy: 0.9849 - f1_m: 0.9845 - precision_m: 0.9861 - recall_m: 0.9829 - val_loss: 0.2964 - val_accuracy: 0.9055 - val_f1_m: 0.9045 - val_precision_m: 0.9141 - val_recall_m: 0.8954\n",
            "Epoch 57/100\n",
            "57/57 [==============================] - 10s 179ms/step - loss: 0.0539 - accuracy: 0.9857 - f1_m: 0.9856 - precision_m: 0.9874 - recall_m: 0.9839 - val_loss: 0.2955 - val_accuracy: 0.9094 - val_f1_m: 0.9088 - val_precision_m: 0.9169 - val_recall_m: 0.9013\n",
            "Epoch 58/100\n",
            "57/57 [==============================] - 10s 179ms/step - loss: 0.0514 - accuracy: 0.9848 - f1_m: 0.9848 - precision_m: 0.9865 - recall_m: 0.9830 - val_loss: 0.3190 - val_accuracy: 0.8865 - val_f1_m: 0.8848 - val_precision_m: 0.8947 - val_recall_m: 0.8759\n",
            "Epoch 59/100\n",
            "57/57 [==============================] - 10s 179ms/step - loss: 0.0504 - accuracy: 0.9870 - f1_m: 0.9868 - precision_m: 0.9885 - recall_m: 0.9851 - val_loss: 0.3317 - val_accuracy: 0.8886 - val_f1_m: 0.8865 - val_precision_m: 0.8958 - val_recall_m: 0.8780\n",
            "Epoch 60/100\n",
            "57/57 [==============================] - 10s 179ms/step - loss: 0.0494 - accuracy: 0.9869 - f1_m: 0.9865 - precision_m: 0.9878 - recall_m: 0.9852 - val_loss: 0.4320 - val_accuracy: 0.8497 - val_f1_m: 0.8516 - val_precision_m: 0.8600 - val_recall_m: 0.8439\n",
            "Epoch 61/100\n",
            "57/57 [==============================] - 10s 179ms/step - loss: 0.0492 - accuracy: 0.9867 - f1_m: 0.9868 - precision_m: 0.9886 - recall_m: 0.9850 - val_loss: 0.2436 - val_accuracy: 0.9306 - val_f1_m: 0.9300 - val_precision_m: 0.9364 - val_recall_m: 0.9239\n",
            "Epoch 62/100\n",
            "57/57 [==============================] - 10s 179ms/step - loss: 0.0463 - accuracy: 0.9871 - f1_m: 0.9866 - precision_m: 0.9880 - recall_m: 0.9853 - val_loss: 0.2461 - val_accuracy: 0.9234 - val_f1_m: 0.9228 - val_precision_m: 0.9288 - val_recall_m: 0.9172\n",
            "Epoch 63/100\n",
            "57/57 [==============================] - 10s 179ms/step - loss: 0.0465 - accuracy: 0.9867 - f1_m: 0.9871 - precision_m: 0.9884 - recall_m: 0.9858 - val_loss: 0.3082 - val_accuracy: 0.9024 - val_f1_m: 0.9004 - val_precision_m: 0.9083 - val_recall_m: 0.8930\n",
            "Epoch 64/100\n",
            "57/57 [==============================] - 10s 179ms/step - loss: 0.0460 - accuracy: 0.9874 - f1_m: 0.9876 - precision_m: 0.9888 - recall_m: 0.9864 - val_loss: 0.2740 - val_accuracy: 0.9171 - val_f1_m: 0.9164 - val_precision_m: 0.9226 - val_recall_m: 0.9104\n",
            "Epoch 65/100\n",
            "57/57 [==============================] - 10s 179ms/step - loss: 0.0453 - accuracy: 0.9874 - f1_m: 0.9876 - precision_m: 0.9891 - recall_m: 0.9860 - val_loss: 0.2828 - val_accuracy: 0.9110 - val_f1_m: 0.9126 - val_precision_m: 0.9184 - val_recall_m: 0.9070\n",
            "Epoch 66/100\n",
            "57/57 [==============================] - 10s 179ms/step - loss: 0.0457 - accuracy: 0.9871 - f1_m: 0.9868 - precision_m: 0.9885 - recall_m: 0.9852 - val_loss: 0.3929 - val_accuracy: 0.8602 - val_f1_m: 0.8590 - val_precision_m: 0.8682 - val_recall_m: 0.8507\n",
            "Epoch 67/100\n",
            "57/57 [==============================] - 10s 180ms/step - loss: 0.0437 - accuracy: 0.9881 - f1_m: 0.9883 - precision_m: 0.9895 - recall_m: 0.9871 - val_loss: 0.4536 - val_accuracy: 0.8455 - val_f1_m: 0.8439 - val_precision_m: 0.8533 - val_recall_m: 0.8352\n",
            "Epoch 68/100\n",
            "57/57 [==============================] - 10s 179ms/step - loss: 0.0422 - accuracy: 0.9885 - f1_m: 0.9883 - precision_m: 0.9896 - recall_m: 0.9869 - val_loss: 0.3043 - val_accuracy: 0.9123 - val_f1_m: 0.9120 - val_precision_m: 0.9180 - val_recall_m: 0.9063\n",
            "Epoch 69/100\n",
            "57/57 [==============================] - 10s 179ms/step - loss: 0.0419 - accuracy: 0.9887 - f1_m: 0.9889 - precision_m: 0.9898 - recall_m: 0.9881 - val_loss: 0.2318 - val_accuracy: 0.9346 - val_f1_m: 0.9357 - val_precision_m: 0.9390 - val_recall_m: 0.9324\n",
            "Epoch 70/100\n",
            "57/57 [==============================] - 10s 179ms/step - loss: 0.0414 - accuracy: 0.9895 - f1_m: 0.9896 - precision_m: 0.9905 - recall_m: 0.9887 - val_loss: 0.2641 - val_accuracy: 0.9210 - val_f1_m: 0.9202 - val_precision_m: 0.9252 - val_recall_m: 0.9154\n",
            "Epoch 71/100\n",
            "57/57 [==============================] - 10s 180ms/step - loss: 0.0399 - accuracy: 0.9892 - f1_m: 0.9894 - precision_m: 0.9905 - recall_m: 0.9883 - val_loss: 0.2245 - val_accuracy: 0.9339 - val_f1_m: 0.9346 - val_precision_m: 0.9390 - val_recall_m: 0.9304\n",
            "Epoch 72/100\n",
            "57/57 [==============================] - 10s 179ms/step - loss: 0.0404 - accuracy: 0.9895 - f1_m: 0.9897 - precision_m: 0.9907 - recall_m: 0.9887 - val_loss: 0.3969 - val_accuracy: 0.8687 - val_f1_m: 0.8692 - val_precision_m: 0.8760 - val_recall_m: 0.8630\n",
            "Epoch 73/100\n",
            "57/57 [==============================] - 10s 179ms/step - loss: 0.0387 - accuracy: 0.9897 - f1_m: 0.9896 - precision_m: 0.9907 - recall_m: 0.9886 - val_loss: 0.5662 - val_accuracy: 0.8243 - val_f1_m: 0.8227 - val_precision_m: 0.8291 - val_recall_m: 0.8167\n",
            "Epoch 74/100\n",
            "57/57 [==============================] - 10s 179ms/step - loss: 0.0388 - accuracy: 0.9905 - f1_m: 0.9905 - precision_m: 0.9915 - recall_m: 0.9894 - val_loss: 0.2593 - val_accuracy: 0.9208 - val_f1_m: 0.9206 - val_precision_m: 0.9270 - val_recall_m: 0.9146\n",
            "Epoch 75/100\n",
            "57/57 [==============================] - 10s 179ms/step - loss: 0.0380 - accuracy: 0.9895 - f1_m: 0.9896 - precision_m: 0.9907 - recall_m: 0.9886 - val_loss: 0.2302 - val_accuracy: 0.9333 - val_f1_m: 0.9343 - val_precision_m: 0.9393 - val_recall_m: 0.9296\n",
            "Epoch 76/100\n",
            "57/57 [==============================] - 10s 179ms/step - loss: 0.0352 - accuracy: 0.9901 - f1_m: 0.9904 - precision_m: 0.9914 - recall_m: 0.9894 - val_loss: 0.2288 - val_accuracy: 0.9313 - val_f1_m: 0.9327 - val_precision_m: 0.9372 - val_recall_m: 0.9283\n",
            "Epoch 77/100\n",
            "57/57 [==============================] - 10s 179ms/step - loss: 0.0364 - accuracy: 0.9895 - f1_m: 0.9900 - precision_m: 0.9914 - recall_m: 0.9887 - val_loss: 0.2572 - val_accuracy: 0.9228 - val_f1_m: 0.9222 - val_precision_m: 0.9268 - val_recall_m: 0.9178\n",
            "Epoch 78/100\n",
            "57/57 [==============================] - 10s 179ms/step - loss: 0.0368 - accuracy: 0.9904 - f1_m: 0.9901 - precision_m: 0.9911 - recall_m: 0.9891 - val_loss: 0.2475 - val_accuracy: 0.9247 - val_f1_m: 0.9263 - val_precision_m: 0.9305 - val_recall_m: 0.9222\n",
            "Epoch 79/100\n",
            "57/57 [==============================] - 10s 179ms/step - loss: 0.0345 - accuracy: 0.9911 - f1_m: 0.9913 - precision_m: 0.9924 - recall_m: 0.9903 - val_loss: 0.3875 - val_accuracy: 0.8821 - val_f1_m: 0.8810 - val_precision_m: 0.8858 - val_recall_m: 0.8765\n",
            "Epoch 80/100\n",
            "57/57 [==============================] - 10s 179ms/step - loss: 0.0350 - accuracy: 0.9913 - f1_m: 0.9910 - precision_m: 0.9921 - recall_m: 0.9899 - val_loss: 0.4534 - val_accuracy: 0.8696 - val_f1_m: 0.8698 - val_precision_m: 0.8745 - val_recall_m: 0.8652\n",
            "Epoch 81/100\n",
            "57/57 [==============================] - 10s 179ms/step - loss: 0.0334 - accuracy: 0.9915 - f1_m: 0.9912 - precision_m: 0.9921 - recall_m: 0.9904 - val_loss: 0.2910 - val_accuracy: 0.9208 - val_f1_m: 0.9218 - val_precision_m: 0.9257 - val_recall_m: 0.9180\n",
            "Epoch 82/100\n",
            "57/57 [==============================] - 10s 180ms/step - loss: 0.0330 - accuracy: 0.9919 - f1_m: 0.9914 - precision_m: 0.9921 - recall_m: 0.9907 - val_loss: 0.4764 - val_accuracy: 0.8464 - val_f1_m: 0.8450 - val_precision_m: 0.8519 - val_recall_m: 0.8387\n",
            "Epoch 83/100\n",
            "57/57 [==============================] - 10s 179ms/step - loss: 0.0326 - accuracy: 0.9922 - f1_m: 0.9921 - precision_m: 0.9927 - recall_m: 0.9916 - val_loss: 0.5667 - val_accuracy: 0.8276 - val_f1_m: 0.8246 - val_precision_m: 0.8302 - val_recall_m: 0.8193\n",
            "Epoch 84/100\n",
            "57/57 [==============================] - 10s 179ms/step - loss: 0.0312 - accuracy: 0.9918 - f1_m: 0.9919 - precision_m: 0.9929 - recall_m: 0.9910 - val_loss: 0.2419 - val_accuracy: 0.9357 - val_f1_m: 0.9358 - val_precision_m: 0.9384 - val_recall_m: 0.9333\n",
            "Epoch 85/100\n",
            "57/57 [==============================] - 10s 179ms/step - loss: 0.0315 - accuracy: 0.9913 - f1_m: 0.9915 - precision_m: 0.9922 - recall_m: 0.9908 - val_loss: 0.3781 - val_accuracy: 0.8972 - val_f1_m: 0.8977 - val_precision_m: 0.9029 - val_recall_m: 0.8926\n",
            "Epoch 86/100\n",
            "57/57 [==============================] - 10s 179ms/step - loss: 0.0307 - accuracy: 0.9914 - f1_m: 0.9918 - precision_m: 0.9928 - recall_m: 0.9908 - val_loss: 0.2662 - val_accuracy: 0.9280 - val_f1_m: 0.9290 - val_precision_m: 0.9314 - val_recall_m: 0.9267\n",
            "Epoch 87/100\n",
            "57/57 [==============================] - 10s 179ms/step - loss: 0.0290 - accuracy: 0.9922 - f1_m: 0.9922 - precision_m: 0.9931 - recall_m: 0.9914 - val_loss: 0.2623 - val_accuracy: 0.9291 - val_f1_m: 0.9295 - val_precision_m: 0.9327 - val_recall_m: 0.9263\n",
            "Epoch 88/100\n",
            "57/57 [==============================] - 10s 179ms/step - loss: 0.0287 - accuracy: 0.9926 - f1_m: 0.9926 - precision_m: 0.9935 - recall_m: 0.9917 - val_loss: 0.2692 - val_accuracy: 0.9234 - val_f1_m: 0.9248 - val_precision_m: 0.9270 - val_recall_m: 0.9226\n",
            "Epoch 89/100\n",
            "57/57 [==============================] - 10s 179ms/step - loss: 0.0296 - accuracy: 0.9924 - f1_m: 0.9923 - precision_m: 0.9931 - recall_m: 0.9915 - val_loss: 0.2581 - val_accuracy: 0.9280 - val_f1_m: 0.9291 - val_precision_m: 0.9319 - val_recall_m: 0.9263\n",
            "Epoch 90/100\n",
            "57/57 [==============================] - 10s 180ms/step - loss: 0.0283 - accuracy: 0.9929 - f1_m: 0.9928 - precision_m: 0.9936 - recall_m: 0.9921 - val_loss: 0.2579 - val_accuracy: 0.9300 - val_f1_m: 0.9303 - val_precision_m: 0.9331 - val_recall_m: 0.9276\n",
            "Epoch 91/100\n",
            "57/57 [==============================] - 10s 179ms/step - loss: 0.0279 - accuracy: 0.9934 - f1_m: 0.9934 - precision_m: 0.9941 - recall_m: 0.9926 - val_loss: 0.2945 - val_accuracy: 0.9162 - val_f1_m: 0.9150 - val_precision_m: 0.9188 - val_recall_m: 0.9113\n",
            "Epoch 92/100\n",
            "57/57 [==============================] - 10s 180ms/step - loss: 0.0273 - accuracy: 0.9926 - f1_m: 0.9930 - precision_m: 0.9937 - recall_m: 0.9923 - val_loss: 0.2879 - val_accuracy: 0.9186 - val_f1_m: 0.9191 - val_precision_m: 0.9218 - val_recall_m: 0.9165\n",
            "Epoch 93/100\n",
            "57/57 [==============================] - 10s 180ms/step - loss: 0.0269 - accuracy: 0.9930 - f1_m: 0.9931 - precision_m: 0.9938 - recall_m: 0.9924 - val_loss: 0.3130 - val_accuracy: 0.9125 - val_f1_m: 0.9127 - val_precision_m: 0.9160 - val_recall_m: 0.9096\n",
            "Epoch 94/100\n",
            "57/57 [==============================] - 10s 180ms/step - loss: 0.0265 - accuracy: 0.9927 - f1_m: 0.9928 - precision_m: 0.9935 - recall_m: 0.9922 - val_loss: 0.3669 - val_accuracy: 0.8895 - val_f1_m: 0.8892 - val_precision_m: 0.8929 - val_recall_m: 0.8857\n",
            "Epoch 95/100\n",
            "57/57 [==============================] - 10s 180ms/step - loss: 0.0261 - accuracy: 0.9942 - f1_m: 0.9939 - precision_m: 0.9946 - recall_m: 0.9932 - val_loss: 0.3587 - val_accuracy: 0.8937 - val_f1_m: 0.8939 - val_precision_m: 0.8991 - val_recall_m: 0.8889\n",
            "Epoch 96/100\n",
            "57/57 [==============================] - 10s 180ms/step - loss: 0.0251 - accuracy: 0.9934 - f1_m: 0.9934 - precision_m: 0.9940 - recall_m: 0.9928 - val_loss: 0.4865 - val_accuracy: 0.8639 - val_f1_m: 0.8661 - val_precision_m: 0.8711 - val_recall_m: 0.8613\n",
            "Epoch 97/100\n",
            "57/57 [==============================] - 10s 180ms/step - loss: 0.0245 - accuracy: 0.9935 - f1_m: 0.9937 - precision_m: 0.9940 - recall_m: 0.9933 - val_loss: 0.5083 - val_accuracy: 0.8493 - val_f1_m: 0.8473 - val_precision_m: 0.8533 - val_recall_m: 0.8417\n",
            "Epoch 98/100\n",
            "57/57 [==============================] - 10s 180ms/step - loss: 0.0235 - accuracy: 0.9940 - f1_m: 0.9940 - precision_m: 0.9946 - recall_m: 0.9934 - val_loss: 0.3617 - val_accuracy: 0.8952 - val_f1_m: 0.8953 - val_precision_m: 0.8994 - val_recall_m: 0.8913\n",
            "Epoch 99/100\n",
            "57/57 [==============================] - 10s 179ms/step - loss: 0.0249 - accuracy: 0.9936 - f1_m: 0.9939 - precision_m: 0.9946 - recall_m: 0.9932 - val_loss: 0.3862 - val_accuracy: 0.8976 - val_f1_m: 0.8976 - val_precision_m: 0.9015 - val_recall_m: 0.8937\n",
            "Epoch 100/100\n",
            "57/57 [==============================] - 10s 178ms/step - loss: 0.0237 - accuracy: 0.9937 - f1_m: 0.9938 - precision_m: 0.9946 - recall_m: 0.9930 - val_loss: 0.2431 - val_accuracy: 0.9372 - val_f1_m: 0.9385 - val_precision_m: 0.9406 - val_recall_m: 0.9365\n"
          ]
        }
      ]
    },
    {
      "cell_type": "code",
      "source": [
        "plotmetrics(RWLSTM_CNN_SANDWICH)"
      ],
      "metadata": {
        "colab": {
          "base_uri": "https://localhost:8080/",
          "height": 295
        },
        "id": "XuijGCGmyu2p",
        "outputId": "24f1d6c7-9fcd-4a38-c1da-584798e891f5"
      },
      "execution_count": null,
      "outputs": [
        {
          "output_type": "display_data",
          "data": {
            "image/png": "[encoded data removed]",
            "text/plain": [
              "<Figure size 432x288 with 7 Axes>"
            ]
          },
          "metadata": {
            "needs_background": "light"
          }
        }
      ]
    },
    {
      "cell_type": "code",
      "source": [
        "save_model_history(RealWorldmodels['LSTM_CNN_SANDWICH'],'/content/drive/MyDrive/Datasets/Real_world_Dataset/RWLSTM_CNN_SANDWICH_history',RWLSTM_CNN_SANDWICH,\n",
        "                   '/content/drive/MyDrive/Datasets/Real_world_Dataset//RWLSTM_CNN_SANDWICH')"
      ],
      "metadata": {
        "colab": {
          "base_uri": "https://localhost:8080/"
        },
        "id": "yZ-YVblm33L3",
        "outputId": "0e8625f7-3b00-4bcc-d1c9-2c21a71b68d1"
      },
      "execution_count": null,
      "outputs": [
        {
          "output_type": "stream",
          "name": "stderr",
          "text": [
            "WARNING:absl:Found untraced functions such as lstm_cell_31_layer_call_fn, lstm_cell_31_layer_call_and_return_conditional_losses, lstm_cell_32_layer_call_fn, lstm_cell_32_layer_call_and_return_conditional_losses, lstm_cell_34_layer_call_fn while saving (showing 5 of 20). These functions will not be directly callable after loading.\n"
          ]
        },
        {
          "output_type": "stream",
          "name": "stdout",
          "text": [
            "INFO:tensorflow:Assets written to: /content/drive/MyDrive/Datasets/Real_world_Dataset//RWLSTM_CNN_SANDWICHLSTM_CNN_SANDWICH/assets\n"
          ]
        },
        {
          "output_type": "stream",
          "name": "stderr",
          "text": [
            "INFO:tensorflow:Assets written to: /content/drive/MyDrive/Datasets/Real_world_Dataset//RWLSTM_CNN_SANDWICHLSTM_CNN_SANDWICH/assets\n",
            "WARNING:absl:<keras.layers.recurrent.LSTMCell object at 0x7f8987478d10> has the same name 'LSTMCell' as a built-in Keras object. Consider renaming <class 'keras.layers.recurrent.LSTMCell'> to avoid naming conflicts when loading with `tf.keras.models.load_model`. If renaming is not possible, pass the object in the `custom_objects` parameter of the load function.\n",
            "WARNING:absl:<keras.layers.recurrent.LSTMCell object at 0x7f898747c850> has the same name 'LSTMCell' as a built-in Keras object. Consider renaming <class 'keras.layers.recurrent.LSTMCell'> to avoid naming conflicts when loading with `tf.keras.models.load_model`. If renaming is not possible, pass the object in the `custom_objects` parameter of the load function.\n",
            "WARNING:absl:<keras.layers.recurrent.LSTMCell object at 0x7f8986bd3e90> has the same name 'LSTMCell' as a built-in Keras object. Consider renaming <class 'keras.layers.recurrent.LSTMCell'> to avoid naming conflicts when loading with `tf.keras.models.load_model`. If renaming is not possible, pass the object in the `custom_objects` parameter of the load function.\n",
            "WARNING:absl:<keras.layers.recurrent.LSTMCell object at 0x7f8986c13310> has the same name 'LSTMCell' as a built-in Keras object. Consider renaming <class 'keras.layers.recurrent.LSTMCell'> to avoid naming conflicts when loading with `tf.keras.models.load_model`. If renaming is not possible, pass the object in the `custom_objects` parameter of the load function.\n"
          ]
        }
      ]
    },
    {
      "cell_type": "markdown",
      "source": [
        "RealWorld LSTM CNN"
      ],
      "metadata": {
        "id": "INJISpci5NPc"
      }
    },
    {
      "cell_type": "code",
      "source": [
        ""
      ],
      "metadata": {
        "id": "PDNVD7Pu4gFb"
      },
      "execution_count": null,
      "outputs": []
    }
  ],
  "metadata": {
    "accelerator": "GPU",
    "colab": {
      "name": "4_2_models.ipynb",
      "provenance": [],
      "collapsed_sections": [
        "OaTc0nypHJ-q",
        "fI6ZhgPLS3ky",
        "9Z8AKfc1Bd7-"
      ]
    },
    "kernelspec": {
      "display_name": "Python 3",
      "name": "python3"
    },
    "language_info": {
      "name": "python"
    }
  },
  "nbformat": 4,
  "nbformat_minor": 0
}